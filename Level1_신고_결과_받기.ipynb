{
 "cells": [
  {
   "cell_type": "markdown",
   "id": "0e4c9d43",
   "metadata": {},
   "source": [
    "### 문제\n"
   ]
  },
  {
   "cell_type": "markdown",
   "id": "b70524dc",
   "metadata": {},
   "source": [
    "    유저 리스트(id_list)와 a가 b를 신고한 리스트(report - \"a b\" 형태의 리스트), 그리고 k를 입력받는다.\n",
    "    신고 횟수에 제한은 없고, 자기자신을 제외한 다른 유저 신고할 수 있다. 한 명이 다른 유저를 여러번 신고한 경우는 1회 신고한걸로 처리된다.\n",
    "    유저 리스트에 똑같은 id 중복은 없고, k번 이상 신고된 유저는 정지된다.\n",
    "    정지된 유저를 신고한 유저들에게는 메일이 발송된다.\n",
    "    id_list에 담긴 id 순서대로 각 유저가 받은 결과 메일 수를 담기"
   ]
  },
  {
   "cell_type": "markdown",
   "id": "88b63096",
   "metadata": {},
   "source": [
    "### 내 풀이\n",
    "    유효한 신고에 대해, 신고 받은 사람이 k회 이상 신고받은 것을 확인했다.\n",
    "    그런데 이걸 어떻게 신고한 사람에게 메일로 보낸것을 리스트에 저장할지가 어려웠다.\n",
    "\n",
    "> 내 해결 포인트: black에 k이상 신고받은 사람의 리스트를 따로 만든다. id_list를 반복하며, 각 사람에 대해, 신고한 사람들을 딕셔너리로 만든것을 또 반복하여, black에 포함되는 사람 명수를 저장한다.\n",
    "    이렇게 되면 id_list를 반복하며, 그사람이 신고한 사람들을 반복하고, 또 신고한 사람이 black에 포함되는지를 반복하게된다. 시간복잡도가 좋지않다.\n",
    "\n",
    "> 다른 풀이 해결 포인트: 내 풀이와 신고받은 횟수를 저장한것 까진 비슷하다. 하지만 다음 for문에서 report를 반복하며, 신고받은 횟수가 k회 이상일 때, 처음에 answer를 0으로된 리스트로 최화한것으로부터 id_list의 인덱스에서 신고한 사람에게 1을 더해준다. 이부분이 핵심 알고리즘의 차이\n",
    "즉, 핵심은 처음에 answer리스트를 0으로 초기화 해두고, report를 반복하며, k 이상 신고받은 사람에 대해, 신고한 사람에게 바로 +=1을 한게 핵심이다."
   ]
  },
  {
   "cell_type": "code",
   "execution_count": null,
   "id": "77ded1f0",
   "metadata": {},
   "outputs": [],
   "source": [
    "def solution(id_list, report, k):\n",
    "    from collections import defaultdict, Counter\n",
    "    d=defaultdict(list)\n",
    "    c=Counter()\n",
    "    for r in report:\n",
    "        a,b=r.split()\n",
    "        if b not in d[a]:\n",
    "            d[a].append(b)\n",
    "            c[b]+=1\n",
    "    black=[i[0] for i in c.items() if i[1]>=k]\n",
    "    result=[]\n",
    "    for i in id_list:\n",
    "        result.append(len([i for i in d[i] if i in black]))\n",
    "    return result"
   ]
  },
  {
   "cell_type": "markdown",
   "id": "6358a746",
   "metadata": {},
   "source": [
    "### 다른 사람 풀이로부터 배운 후 다시풀어본 풀이"
   ]
  },
  {
   "cell_type": "code",
   "execution_count": 2,
   "id": "ca7ff356",
   "metadata": {
    "ExecuteTime": {
     "end_time": "2022-08-05T04:54:03.624893Z",
     "start_time": "2022-08-05T04:54:03.619116Z"
    }
   },
   "outputs": [],
   "source": [
    "id_list=[\"muzi\", \"frodo\", \"apeach\", \"neo\"]\t\n",
    "report=[\"muzi frodo\",\"apeach frodo\",\"frodo neo\",\"muzi neo\",\"apeach muzi\"]\t"
   ]
  },
  {
   "cell_type": "code",
   "execution_count": null,
   "id": "280383b3",
   "metadata": {},
   "outputs": [],
   "source": [
    "from collections import Counter\n",
    "\n",
    "def solution(id_list, report, k):    \n",
    "    answer=[0]*len(id_list)\n",
    "    c=Counter()\n",
    "    \n",
    "    for r in set(report):\n",
    "        c[r.split()[1]]+=1\n",
    "        \n",
    "    for r in set(report):\n",
    "        a,b=r.split()\n",
    "        if c[b]>=k:\n",
    "            answer[id_list.index(a)]+=1\n",
    "            \n",
    "    return result"
   ]
  },
  {
   "cell_type": "markdown",
   "id": "1de5fa28",
   "metadata": {},
   "source": [
    "### 다른 사람 풀이"
   ]
  },
  {
   "cell_type": "code",
   "execution_count": 1,
   "id": "c5c4d5bd",
   "metadata": {
    "ExecuteTime": {
     "end_time": "2022-08-05T04:42:12.713136Z",
     "start_time": "2022-08-05T04:42:12.702035Z"
    }
   },
   "outputs": [],
   "source": [
    "def solution(id_list, report, k):\n",
    "    answer = [0] * len(id_list)    \n",
    "    reports = {x : 0 for x in id_list}\n",
    "\n",
    "    for r in set(report):\n",
    "        reports[r.split()[1]] += 1\n",
    "\n",
    "    for r in set(report):\n",
    "        if reports[r.split()[1]] >= k:\n",
    "            answer[id_list.index(r.split()[0])] += 1\n",
    "\n",
    "    return answer"
   ]
  },
  {
   "cell_type": "markdown",
   "id": "8ed2b958",
   "metadata": {},
   "source": [
    "### 연습"
   ]
  },
  {
   "cell_type": "code",
   "execution_count": 240,
   "id": "12cab7c4",
   "metadata": {
    "ExecuteTime": {
     "end_time": "2022-08-04T15:46:59.160919Z",
     "start_time": "2022-08-04T15:46:59.154019Z"
    }
   },
   "outputs": [],
   "source": [
    "id_list=[\"muzi\", \"frodo\", \"apeach\", \"neo\"]\t\n",
    "\n",
    "report=[\"muzi frodo\",\"apeach frodo\",\"frodo neo\",\"muzi neo\",\"apeach muzi\"]\t"
   ]
  },
  {
   "cell_type": "code",
   "execution_count": 242,
   "id": "55bb0a0d",
   "metadata": {
    "ExecuteTime": {
     "end_time": "2022-08-04T15:47:10.899256Z",
     "start_time": "2022-08-04T15:47:10.894762Z"
    }
   },
   "outputs": [],
   "source": [
    "k=2"
   ]
  },
  {
   "cell_type": "code",
   "execution_count": 243,
   "id": "34cfc08d",
   "metadata": {
    "ExecuteTime": {
     "end_time": "2022-08-04T15:49:43.345437Z",
     "start_time": "2022-08-04T15:49:43.338576Z"
    }
   },
   "outputs": [],
   "source": [
    "from collections import defaultdict, Counter"
   ]
  },
  {
   "cell_type": "code",
   "execution_count": 245,
   "id": "f545c48f",
   "metadata": {
    "ExecuteTime": {
     "end_time": "2022-08-04T15:53:30.739405Z",
     "start_time": "2022-08-04T15:53:30.733879Z"
    }
   },
   "outputs": [],
   "source": [
    "d=defaultdict(list)\n",
    "c=Counter()"
   ]
  },
  {
   "cell_type": "code",
   "execution_count": 246,
   "id": "cca56a90",
   "metadata": {
    "ExecuteTime": {
     "end_time": "2022-08-04T15:53:35.637827Z",
     "start_time": "2022-08-04T15:53:35.630363Z"
    }
   },
   "outputs": [],
   "source": [
    "for r in report:\n",
    "    a,b=r.split()\n",
    "    d[a].append(b)\n",
    "    c[b]+=1"
   ]
  },
  {
   "cell_type": "code",
   "execution_count": 251,
   "id": "6aec9ffe",
   "metadata": {
    "ExecuteTime": {
     "end_time": "2022-08-04T15:54:16.353102Z",
     "start_time": "2022-08-04T15:54:16.346135Z"
    }
   },
   "outputs": [],
   "source": [
    "black=[i[0] for i in c.items() if i[1]>=2]"
   ]
  },
  {
   "cell_type": "code",
   "execution_count": 253,
   "id": "13575ce7",
   "metadata": {
    "ExecuteTime": {
     "end_time": "2022-08-04T15:54:25.590573Z",
     "start_time": "2022-08-04T15:54:25.584246Z"
    }
   },
   "outputs": [],
   "source": [
    "result=[]"
   ]
  },
  {
   "cell_type": "code",
   "execution_count": 255,
   "id": "dfbe350a",
   "metadata": {
    "ExecuteTime": {
     "end_time": "2022-08-04T15:55:04.450928Z",
     "start_time": "2022-08-04T15:55:04.442520Z"
    }
   },
   "outputs": [
    {
     "data": {
      "text/plain": [
       "['frodo', 'neo']"
      ]
     },
     "execution_count": 255,
     "metadata": {},
     "output_type": "execute_result"
    }
   ],
   "source": [
    "black"
   ]
  },
  {
   "cell_type": "code",
   "execution_count": 260,
   "id": "64f45c98",
   "metadata": {
    "ExecuteTime": {
     "end_time": "2022-08-04T15:55:53.122256Z",
     "start_time": "2022-08-04T15:55:53.114464Z"
    }
   },
   "outputs": [],
   "source": [
    "for i in id_list:\n",
    "    result.append(len([i for i in d[i] if i in black]))"
   ]
  }
 ],
 "metadata": {
  "kernelspec": {
   "display_name": "Python 3",
   "language": "python",
   "name": "python3"
  },
  "language_info": {
   "codemirror_mode": {
    "name": "ipython",
    "version": 3
   },
   "file_extension": ".py",
   "mimetype": "text/x-python",
   "name": "python",
   "nbconvert_exporter": "python",
   "pygments_lexer": "ipython3",
   "version": "3.8.12"
  },
  "toc": {
   "base_numbering": 1,
   "nav_menu": {},
   "number_sections": true,
   "sideBar": true,
   "skip_h1_title": false,
   "title_cell": "Table of Contents",
   "title_sidebar": "Contents",
   "toc_cell": false,
   "toc_position": {},
   "toc_section_display": true,
   "toc_window_display": false
  }
 },
 "nbformat": 4,
 "nbformat_minor": 5
}
