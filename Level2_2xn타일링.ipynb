{
 "cells": [
  {
   "cell_type": "markdown",
   "id": "0e4c9d43",
   "metadata": {},
   "source": [
    "### 문제\n",
    "https://school.programmers.co.kr/learn/courses/30/lessons/12900"
   ]
  },
  {
   "cell_type": "markdown",
   "id": "2a4f9d1e",
   "metadata": {},
   "source": [
    "백준의 아래 링크 문제와 동일.\n",
    "https://www.acmicpc.net/problem/11726"
   ]
  },
  {
   "cell_type": "markdown",
   "id": "88b63096",
   "metadata": {},
   "source": [
    "### 내 풀이\n",
    "주어진 타일을 채우는것이 피보나치라는 규칙을 찾으면 푼다.\n",
    "관련 설명 링크:https://wwlee94.github.io/category/algorithm/dp/2xn-tiling/"
   ]
  },
  {
   "cell_type": "code",
   "execution_count": null,
   "id": "77ded1f0",
   "metadata": {},
   "outputs": [],
   "source": [
    "def solution(n):\n",
    "    a,b=0,1\n",
    "    for i in range(n):\n",
    "        a,b=b,a+b\n",
    "    return b%1000000007"
   ]
  },
  {
   "cell_type": "markdown",
   "id": "8ed2b958",
   "metadata": {},
   "source": [
    "### 연습"
   ]
  },
  {
   "cell_type": "code",
   "execution_count": null,
   "id": "ec705ae9",
   "metadata": {},
   "outputs": [],
   "source": []
  }
 ],
 "metadata": {
  "kernelspec": {
   "display_name": "Python 3",
   "language": "python",
   "name": "python3"
  },
  "language_info": {
   "codemirror_mode": {
    "name": "ipython",
    "version": 3
   },
   "file_extension": ".py",
   "mimetype": "text/x-python",
   "name": "python",
   "nbconvert_exporter": "python",
   "pygments_lexer": "ipython3",
   "version": "3.8.12"
  },
  "toc": {
   "base_numbering": 1,
   "nav_menu": {},
   "number_sections": true,
   "sideBar": true,
   "skip_h1_title": false,
   "title_cell": "Table of Contents",
   "title_sidebar": "Contents",
   "toc_cell": false,
   "toc_position": {},
   "toc_section_display": true,
   "toc_window_display": false
  }
 },
 "nbformat": 4,
 "nbformat_minor": 5
}
