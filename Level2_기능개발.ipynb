{
 "cells": [
  {
   "cell_type": "markdown",
   "id": "0e4c9d43",
   "metadata": {},
   "source": [
    "### 문제\n"
   ]
  },
  {
   "cell_type": "code",
   "execution_count": null,
   "id": "fc6e3ac9",
   "metadata": {},
   "outputs": [],
   "source": [
    "먼저 배포되어야 하는 순서대로 작업의 진도가 적힌 정수 배열 progresses와\n",
    "각 작업의 개발 속도가 적힌 정수 배열 speeds\n",
    "뒤에 있는 기능은 앞에 있는 기능이 배포될 때 함께 배포\n",
    "각 배포마다 몇 개의 기능이 배포되는지를 return\n",
    "\n",
    "progresses\n",
    "[93, 30, 55]\n",
    "[95, 90, 99, 99, 80, 99]\n",
    "speeds\n",
    "[1, 30, 5]\n",
    "[1, 1, 1, 1, 1, 1]\n",
    "return\n",
    "[2, 1]\n",
    "[1, 3, 2]"
   ]
  },
  {
   "cell_type": "markdown",
   "id": "88b63096",
   "metadata": {},
   "source": [
    "### 내 풀이\n",
    "\n",
    "> 내 풀이 핵심 알고리즘: 주어진 작업들에 대해 남은 기간 리스트 rl을 생성했다. 첫번째 원소부터, 작거나같은 원소가 나오면 계속 큐에 추가하고, 큰게나오면 큐의 길이를 answer에 추가하고 큐에 큰 원소를 저장한뒤 반복한다.\n",
    "마지막엔 한번 더 반복해주고 리턴"
   ]
  },
  {
   "cell_type": "code",
   "execution_count": null,
   "id": "77ded1f0",
   "metadata": {},
   "outputs": [],
   "source": [
    "from math import ceil\n",
    "\n",
    "def solution(progresses, speeds):\n",
    "    #남은 기간\n",
    "    rl=[ceil((100-p)/s) for p,s in zip(progresses,speeds)]\n",
    "    q=[];answer=[]\n",
    "    for r in rl:\n",
    "        if len(q)==0 or r<=q[0]:\n",
    "            q.append(r)\n",
    "        else:\n",
    "            answer.append(len(q))\n",
    "            q=[r]\n",
    "    if q:\n",
    "        answer.append(len(q))\n",
    "    return answer"
   ]
  },
  {
   "cell_type": "markdown",
   "id": "087a5f53",
   "metadata": {},
   "source": [
    "### 다른 사람 풀이"
   ]
  },
  {
   "cell_type": "code",
   "execution_count": 41,
   "id": "574b68af",
   "metadata": {
    "ExecuteTime": {
     "end_time": "2022-08-05T05:48:11.588150Z",
     "start_time": "2022-08-05T05:48:11.575025Z"
    }
   },
   "outputs": [
    {
     "data": {
      "text/plain": [
       "[1, 3, 2]"
      ]
     },
     "execution_count": 41,
     "metadata": {},
     "output_type": "execute_result"
    }
   ],
   "source": [
    "Q=[]\n",
    "for p, s in zip(progresses, speeds):\n",
    "    if len(Q)==0 or Q[-1][0]<-((p-100)//s):\n",
    "        Q.append([-((p-100)//s),1])\n",
    "    else:\n",
    "        Q[-1][1]+=1\n",
    "[q[1] for q in Q]"
   ]
  },
  {
   "cell_type": "markdown",
   "id": "6e118685",
   "metadata": {},
   "source": [
    "#### ceil로 직관적으로 코드 바꿈\n",
    "핵심은 Q에 걸리는 일수와, 배포 시점을 동시에 저장해서 비교해서 넣었다는 것\n",
    "\n",
    "    작업에서 남은일수를 반복하며, 작업일수 1일 걸리는걸 디폴트로 하고, \n",
    "    남은 일수가 Q의 이전 일수보다 커서 추가된 일수보다 크면 오른쪽에 추가하고,\n",
    "    아니라면(Q의 일수중 마지막에 있는 일수보다 작거나 같으면, 그때 같이 배포되므로, +=1)"
   ]
  },
  {
   "cell_type": "code",
   "execution_count": 45,
   "id": "9278a004",
   "metadata": {
    "ExecuteTime": {
     "end_time": "2022-08-05T05:56:00.980978Z",
     "start_time": "2022-08-05T05:56:00.972077Z"
    }
   },
   "outputs": [
    {
     "data": {
      "text/plain": [
       "[5, 10, 1, 1, 20, 1]"
      ]
     },
     "execution_count": 45,
     "metadata": {},
     "output_type": "execute_result"
    }
   ],
   "source": [
    "rl"
   ]
  },
  {
   "cell_type": "code",
   "execution_count": 44,
   "id": "5f66f040",
   "metadata": {
    "ExecuteTime": {
     "end_time": "2022-08-05T05:49:30.602101Z",
     "start_time": "2022-08-05T05:49:30.589443Z"
    }
   },
   "outputs": [
    {
     "name": "stdout",
     "output_type": "stream",
     "text": [
      "[]\n",
      "[[5, 1]]\n",
      "[[5, 1], [10, 1]]\n",
      "[[5, 1], [10, 2]]\n",
      "[[5, 1], [10, 3]]\n",
      "[[5, 1], [10, 3], [20, 1]]\n",
      "[[5, 1], [10, 3], [20, 2]]\n"
     ]
    },
    {
     "data": {
      "text/plain": [
       "[1, 3, 2]"
      ]
     },
     "execution_count": 44,
     "metadata": {},
     "output_type": "execute_result"
    }
   ],
   "source": [
    "Q=[]\n",
    "for p, s in zip(progresses, speeds):\n",
    "    print(Q)\n",
    "    if len(Q)==0 or Q[-1][0] < ceil((100-p)/s):\n",
    "        Q.append([ceil((100-p)/s),1])\n",
    "    else:\n",
    "        Q[-1][1]+=1\n",
    "print(Q)    \n",
    "[q[1] for q in Q]"
   ]
  },
  {
   "cell_type": "code",
   "execution_count": null,
   "id": "0e66eee4",
   "metadata": {},
   "outputs": [],
   "source": [
    "def solution(progresses, speeds):\n",
    "    Q=[]\n",
    "    for p, s in zip(progresses, speeds):\n",
    "        if len(Q)==0 or Q[-1][0]<-((p-100)//s):\n",
    "            Q.append([-((p-100)//s),1])\n",
    "        else:\n",
    "            Q[-1][1]+=1\n",
    "    return [q[1] for q in Q]"
   ]
  },
  {
   "cell_type": "markdown",
   "id": "8ed2b958",
   "metadata": {},
   "source": [
    "### 연습"
   ]
  },
  {
   "cell_type": "code",
   "execution_count": 8,
   "id": "5b861b2e",
   "metadata": {
    "ExecuteTime": {
     "end_time": "2022-08-05T05:16:28.326781Z",
     "start_time": "2022-08-05T05:16:28.319870Z"
    }
   },
   "outputs": [],
   "source": [
    "from math import ceil"
   ]
  },
  {
   "cell_type": "code",
   "execution_count": 38,
   "id": "ec705ae9",
   "metadata": {
    "ExecuteTime": {
     "end_time": "2022-08-05T05:47:30.952801Z",
     "start_time": "2022-08-05T05:47:30.943742Z"
    }
   },
   "outputs": [],
   "source": [
    "progresses = [93, 30, 55] #[95, 90, 99, 99, 80, 99]\n",
    "speeds=[1, 30, 5] #[1, 1, 1, 1, 1, 1]\n",
    "progresses=[95, 90, 99, 99, 80, 99]\n",
    "speeds=[1, 1, 1, 1, 1, 1]\n",
    "# return\n",
    "# [2, 1]\n",
    "# [1, 3, 2]"
   ]
  },
  {
   "cell_type": "code",
   "execution_count": 33,
   "id": "ef4568b7",
   "metadata": {
    "ExecuteTime": {
     "end_time": "2022-08-05T05:37:02.057913Z",
     "start_time": "2022-08-05T05:37:02.054599Z"
    }
   },
   "outputs": [],
   "source": [
    "#남은 기간\n",
    "rl=[]\n",
    "for p,s in zip(progresses,speeds):\n",
    "    rl.append(ceil((100-p)/s))"
   ]
  },
  {
   "cell_type": "code",
   "execution_count": 34,
   "id": "9ce57bb5",
   "metadata": {
    "ExecuteTime": {
     "end_time": "2022-08-05T05:37:02.301449Z",
     "start_time": "2022-08-05T05:37:02.293291Z"
    }
   },
   "outputs": [
    {
     "data": {
      "text/plain": [
       "[5, 10, 1, 1, 20, 1]"
      ]
     },
     "execution_count": 34,
     "metadata": {},
     "output_type": "execute_result"
    }
   ],
   "source": [
    "rl"
   ]
  },
  {
   "cell_type": "code",
   "execution_count": 35,
   "id": "fcc7b78f",
   "metadata": {
    "ExecuteTime": {
     "end_time": "2022-08-05T05:37:03.765418Z",
     "start_time": "2022-08-05T05:37:03.756110Z"
    }
   },
   "outputs": [
    {
     "name": "stdout",
     "output_type": "stream",
     "text": [
      "5 []\n",
      "10 [5]\n",
      "1 [10]\n",
      "1 [10, 1]\n",
      "20 [10, 1, 1]\n",
      "1 [20]\n"
     ]
    }
   ],
   "source": [
    "s=[]\n",
    "answer=[]\n",
    "for r in rl:\n",
    "    print(r,s)\n",
    "    if len(s)==0 or r<=s[0]:\n",
    "        s.append(r)\n",
    "    else:\n",
    "        answer.append(len(s))\n",
    "        s=[r]\n",
    "if s:\n",
    "    answer.append(len(s))"
   ]
  },
  {
   "cell_type": "code",
   "execution_count": 36,
   "id": "56175343",
   "metadata": {
    "ExecuteTime": {
     "end_time": "2022-08-05T05:37:04.661574Z",
     "start_time": "2022-08-05T05:37:04.651335Z"
    }
   },
   "outputs": [
    {
     "data": {
      "text/plain": [
       "[1, 3, 2]"
      ]
     },
     "execution_count": 36,
     "metadata": {},
     "output_type": "execute_result"
    }
   ],
   "source": [
    "answer"
   ]
  },
  {
   "cell_type": "code",
   "execution_count": null,
   "id": "2265818a",
   "metadata": {},
   "outputs": [],
   "source": []
  }
 ],
 "metadata": {
  "kernelspec": {
   "display_name": "Python 3",
   "language": "python",
   "name": "python3"
  },
  "language_info": {
   "codemirror_mode": {
    "name": "ipython",
    "version": 3
   },
   "file_extension": ".py",
   "mimetype": "text/x-python",
   "name": "python",
   "nbconvert_exporter": "python",
   "pygments_lexer": "ipython3",
   "version": "3.8.12"
  },
  "toc": {
   "base_numbering": 1,
   "nav_menu": {},
   "number_sections": true,
   "sideBar": true,
   "skip_h1_title": false,
   "title_cell": "Table of Contents",
   "title_sidebar": "Contents",
   "toc_cell": false,
   "toc_position": {},
   "toc_section_display": true,
   "toc_window_display": false
  }
 },
 "nbformat": 4,
 "nbformat_minor": 5
}
