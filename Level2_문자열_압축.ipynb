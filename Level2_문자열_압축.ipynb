{
 "cells": [
  {
   "cell_type": "markdown",
   "id": "0e4c9d43",
   "metadata": {},
   "source": [
    "### 문제\n"
   ]
  },
  {
   "cell_type": "code",
   "execution_count": 1,
   "id": "fc6e3ac9",
   "metadata": {
    "ExecuteTime": {
     "end_time": "2022-08-06T02:38:11.457683Z",
     "start_time": "2022-08-06T02:38:11.329456Z"
    }
   },
   "outputs": [],
   "source": [
    "! # 시작"
   ]
  },
  {
   "cell_type": "markdown",
   "id": "7d2a05f3",
   "metadata": {},
   "source": [
    "    문자열에서 같은 값이 연속해서 나타나는 것을 그 문자의 개수와 반복되는 값으로 표현하여 더 짧은 문자열로 줄여서 표현하는 알고리즘\n",
    "    문자열을 1개 이상의 단위로 잘라서 압축하여 더 짧은 문자열로 표현할 수 있는지 방법\n",
    "     \"ababcdcdababcdcd\"의 경우 문자를 1개 단위로 자르면 전혀 압축되지 않지만, 2개 단위로 잘라서 압축한다면 \"2ab2cd2ab2cd\"로 표현할 수 있습니다. 다른 방법으로 8개 단위로 잘라서 압축한다면 \"2ababcdcd\"로 표현\n",
    "      1개 이상 단위로 문자열을 잘라 압축하여 표현한 문자열 중 가장 짧은 것의 길이 출력"
   ]
  },
  {
   "cell_type": "code",
   "execution_count": 3,
   "id": "50c1b0eb",
   "metadata": {
    "ExecuteTime": {
     "end_time": "2022-08-06T02:40:28.716408Z",
     "start_time": "2022-08-06T02:40:28.580605Z"
    }
   },
   "outputs": [],
   "source": [
    "! # 문제 이해 끝"
   ]
  },
  {
   "cell_type": "code",
   "execution_count": 93,
   "id": "a06307c6",
   "metadata": {
    "ExecuteTime": {
     "end_time": "2022-08-06T03:21:51.698353Z",
     "start_time": "2022-08-06T03:21:51.564399Z"
    }
   },
   "outputs": [],
   "source": [
    "! # 문제 풀이 완료"
   ]
  },
  {
   "cell_type": "markdown",
   "id": "88b63096",
   "metadata": {},
   "source": [
    "### 내 풀이"
   ]
  },
  {
   "cell_type": "code",
   "execution_count": 91,
   "id": "286f2131",
   "metadata": {
    "ExecuteTime": {
     "end_time": "2022-08-06T03:19:48.758481Z",
     "start_time": "2022-08-06T03:19:48.750369Z"
    }
   },
   "outputs": [],
   "source": [
    "from itertools import groupby\n",
    "\n",
    "def solution(s):\n",
    "    result=1000\n",
    "    for n in range(1,len(s)//2+1):\n",
    "        spt=[s[i:i+n] for i in range(0,len(s),n)]\n",
    "        s_cnt,grp_cnt=0,0\n",
    "        for k,g in groupby(spt):\n",
    "            s_cnt+=len(k);gl=len(list(g))\n",
    "            grp_cnt+=len(str(gl)) if gl >1 else 0\n",
    "        result=min(result, s_cnt+grp_cnt)\n",
    "    if len(s)==1:\n",
    "        return 1\n",
    "    return result"
   ]
  },
  {
   "cell_type": "code",
   "execution_count": 92,
   "id": "634fb91b",
   "metadata": {
    "ExecuteTime": {
     "end_time": "2022-08-06T03:19:50.172838Z",
     "start_time": "2022-08-06T03:19:50.159578Z"
    }
   },
   "outputs": [
    {
     "data": {
      "text/plain": [
       "1000"
      ]
     },
     "execution_count": 92,
     "metadata": {},
     "output_type": "execute_result"
    }
   ],
   "source": [
    "solution(\"a\")"
   ]
  },
  {
   "cell_type": "code",
   "execution_count": null,
   "id": "a8800e32",
   "metadata": {},
   "outputs": [],
   "source": [
    "from itertools import groupby\n",
    "result=1000\n",
    "for n in range(1,len(s)//2+1):\n",
    "    spt=[s[i:i+n] for i in range(0,len(s),n)]\n",
    "    prs=[key for key, _group in groupby(spt)]\n",
    "    prs_num=len(spt)-len(prs)\n",
    "    lg=len(''.join(prs))+prs_num\n",
    "    if result>lg:\n",
    "        result=lg\n",
    "result"
   ]
  },
  {
   "cell_type": "code",
   "execution_count": null,
   "id": "d738c126",
   "metadata": {},
   "outputs": [],
   "source": []
  },
  {
   "cell_type": "code",
   "execution_count": 2,
   "id": "77ded1f0",
   "metadata": {
    "ExecuteTime": {
     "end_time": "2022-08-06T02:40:26.722055Z",
     "start_time": "2022-08-06T02:40:26.715053Z"
    }
   },
   "outputs": [],
   "source": [
    "s=\"abcabcdede\"\n",
    "# result 8 (3개단위로 압축했을 때)"
   ]
  },
  {
   "cell_type": "code",
   "execution_count": 43,
   "id": "64893371",
   "metadata": {
    "ExecuteTime": {
     "end_time": "2022-08-06T03:02:10.714008Z",
     "start_time": "2022-08-06T03:02:10.708909Z"
    }
   },
   "outputs": [],
   "source": [
    "s=\"abcabcabcabcdededededede\"\n",
    "# result 14 (6개단위로 압축했을 때)"
   ]
  },
  {
   "cell_type": "code",
   "execution_count": 76,
   "id": "3bd5a531",
   "metadata": {
    "ExecuteTime": {
     "end_time": "2022-08-06T03:13:44.980928Z",
     "start_time": "2022-08-06T03:13:44.974455Z"
    }
   },
   "outputs": [],
   "source": [
    "s=\"aabbaccc\"\n",
    "# result 7 (6개단위로 압축했을 때)"
   ]
  },
  {
   "cell_type": "code",
   "execution_count": 78,
   "id": "89d420b8",
   "metadata": {
    "ExecuteTime": {
     "end_time": "2022-08-06T03:13:59.978510Z",
     "start_time": "2022-08-06T03:13:59.964391Z"
    }
   },
   "outputs": [
    {
     "name": "stdout",
     "output_type": "stream",
     "text": [
      "1 ['a', 'b', 'a', 'c'] 4 7\n",
      "2 ['aa', 'bb', 'ac', 'cc'] 4 8\n",
      "3 ['aab', 'bac', 'cc'] 4 8\n",
      "4 ['aabb', 'accc'] 4 8\n"
     ]
    }
   ],
   "source": [
    "from itertools import groupby\n",
    "result=1000\n",
    "for n in range(1,len(s)//2+1):\n",
    "    spt=[s[i:i+n] for i in range(0,len(s),n)]\n",
    "    g_cnt=0;prs=[]\n",
    "    for k,g in groupby(spt):\n",
    "        prs.append(k)\n",
    "        gl=len(list(g))\n",
    "        if gl>1:\n",
    "            g_cnt+=len(str(gl))\n",
    "    lg=len(''.join(prs))+g_cnt\n",
    "    print(n,prs,prs_num,lg)\n",
    "    if result>lg:\n",
    "        result=lg\n",
    "#         print(n,result)\n",
    "#         print(spt)"
   ]
  },
  {
   "cell_type": "code",
   "execution_count": 71,
   "id": "5bbab16d",
   "metadata": {
    "ExecuteTime": {
     "end_time": "2022-08-06T03:13:19.067619Z",
     "start_time": "2022-08-06T03:13:19.063295Z"
    }
   },
   "outputs": [
    {
     "data": {
      "text/plain": [
       "'aabbaccc'"
      ]
     },
     "execution_count": 71,
     "metadata": {},
     "output_type": "execute_result"
    }
   ],
   "source": [
    "s"
   ]
  },
  {
   "cell_type": "code",
   "execution_count": 72,
   "id": "e7e02581",
   "metadata": {
    "ExecuteTime": {
     "end_time": "2022-08-06T03:13:19.349388Z",
     "start_time": "2022-08-06T03:13:19.342605Z"
    }
   },
   "outputs": [
    {
     "data": {
      "text/plain": [
       "['a', 'a', 'b', 'b', 'a', 'c', 'c', 'c']"
      ]
     },
     "execution_count": 72,
     "metadata": {},
     "output_type": "execute_result"
    }
   ],
   "source": [
    "spt"
   ]
  },
  {
   "cell_type": "code",
   "execution_count": 74,
   "id": "c8580c0b",
   "metadata": {
    "ExecuteTime": {
     "end_time": "2022-08-06T03:13:23.839791Z",
     "start_time": "2022-08-06T03:13:23.829291Z"
    }
   },
   "outputs": [
    {
     "data": {
      "text/plain": [
       "1000"
      ]
     },
     "execution_count": 74,
     "metadata": {},
     "output_type": "execute_result"
    }
   ],
   "source": [
    "result"
   ]
  },
  {
   "cell_type": "code",
   "execution_count": 84,
   "id": "b8f73c41",
   "metadata": {
    "ExecuteTime": {
     "end_time": "2022-08-06T03:15:51.013514Z",
     "start_time": "2022-08-06T03:15:50.998871Z"
    }
   },
   "outputs": [
    {
     "name": "stdout",
     "output_type": "stream",
     "text": [
      "aabb <itertools._grouper object at 0x10587cc70>\n"
     ]
    }
   ],
   "source": [
    "for k,g in groupby(spt):\n",
    "    print(k,g)\n",
    "    break"
   ]
  },
  {
   "cell_type": "code",
   "execution_count": 85,
   "id": "7c1e2924",
   "metadata": {
    "ExecuteTime": {
     "end_time": "2022-08-06T03:15:51.300734Z",
     "start_time": "2022-08-06T03:15:51.291434Z"
    }
   },
   "outputs": [
    {
     "data": {
      "text/plain": [
       "'1'"
      ]
     },
     "execution_count": 85,
     "metadata": {},
     "output_type": "execute_result"
    }
   ],
   "source": [
    "str(len(list(g)))"
   ]
  },
  {
   "cell_type": "code",
   "execution_count": null,
   "id": "b494d143",
   "metadata": {},
   "outputs": [],
   "source": []
  },
  {
   "cell_type": "code",
   "execution_count": 64,
   "id": "2138cd53",
   "metadata": {
    "ExecuteTime": {
     "end_time": "2022-08-06T03:09:58.826096Z",
     "start_time": "2022-08-06T03:09:58.816982Z"
    }
   },
   "outputs": [
    {
     "name": "stdout",
     "output_type": "stream",
     "text": [
      "<itertools._grouper object at 0x103908d30>\n",
      "<itertools._grouper object at 0x105ea6130>\n",
      "<itertools._grouper object at 0x105ea6880>\n",
      "<itertools._grouper object at 0x105ea6850>\n"
     ]
    }
   ],
   "source": [
    "[_group for key, _group in groupby(spt)]:"
   ]
  },
  {
   "cell_type": "code",
   "execution_count": null,
   "id": "13d747e8",
   "metadata": {},
   "outputs": [],
   "source": []
  },
  {
   "cell_type": "code",
   "execution_count": 46,
   "id": "e26220f6",
   "metadata": {
    "ExecuteTime": {
     "end_time": "2022-08-06T03:02:31.768522Z",
     "start_time": "2022-08-06T03:02:31.757407Z"
    }
   },
   "outputs": [
    {
     "data": {
      "text/plain": [
       "14"
      ]
     },
     "execution_count": 46,
     "metadata": {},
     "output_type": "execute_result"
    }
   ],
   "source": [
    "result"
   ]
  },
  {
   "cell_type": "markdown",
   "id": "8ed2b958",
   "metadata": {},
   "source": [
    "### 연습"
   ]
  },
  {
   "cell_type": "code",
   "execution_count": null,
   "id": "ec705ae9",
   "metadata": {},
   "outputs": [],
   "source": []
  }
 ],
 "metadata": {
  "kernelspec": {
   "display_name": "Python 3",
   "language": "python",
   "name": "python3"
  },
  "language_info": {
   "codemirror_mode": {
    "name": "ipython",
    "version": 3
   },
   "file_extension": ".py",
   "mimetype": "text/x-python",
   "name": "python",
   "nbconvert_exporter": "python",
   "pygments_lexer": "ipython3",
   "version": "3.8.12"
  },
  "toc": {
   "base_numbering": 1,
   "nav_menu": {},
   "number_sections": true,
   "sideBar": true,
   "skip_h1_title": false,
   "title_cell": "Table of Contents",
   "title_sidebar": "Contents",
   "toc_cell": false,
   "toc_position": {},
   "toc_section_display": true,
   "toc_window_display": false
  }
 },
 "nbformat": 4,
 "nbformat_minor": 5
}
