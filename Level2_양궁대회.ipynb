{
 "cells": [
  {
   "cell_type": "markdown",
   "id": "0e4c9d43",
   "metadata": {},
   "source": [
    "### 문제\n"
   ]
  },
  {
   "cell_type": "code",
   "execution_count": 1,
   "id": "fc6e3ac9",
   "metadata": {
    "ExecuteTime": {
     "end_time": "2023-02-23T10:03:58.592451Z",
     "start_time": "2023-02-23T10:03:58.457325Z"
    }
   },
   "outputs": [],
   "source": [
    "! # 시작시간 체크"
   ]
  },
  {
   "cell_type": "code",
   "execution_count": null,
   "id": "faf2532c",
   "metadata": {},
   "outputs": [],
   "source": []
  },
  {
   "cell_type": "code",
   "execution_count": null,
   "id": "50c1b0eb",
   "metadata": {},
   "outputs": [],
   "source": [
    "! # 끝 시간 체크"
   ]
  },
  {
   "cell_type": "markdown",
   "id": "88b63096",
   "metadata": {},
   "source": [
    "### 풀이"
   ]
  },
  {
   "cell_type": "code",
   "execution_count": null,
   "id": "77ded1f0",
   "metadata": {},
   "outputs": [],
   "source": []
  },
  {
   "cell_type": "markdown",
   "id": "c8fed4ee",
   "metadata": {},
   "source": [
    "### 주석 달린 풀이"
   ]
  },
  {
   "cell_type": "code",
   "execution_count": null,
   "id": "53fb0866",
   "metadata": {},
   "outputs": [],
   "source": []
  },
  {
   "cell_type": "markdown",
   "id": "8ed2b958",
   "metadata": {},
   "source": [
    "### 연습"
   ]
  },
  {
   "cell_type": "code",
   "execution_count": 43,
   "id": "ec705ae9",
   "metadata": {
    "ExecuteTime": {
     "end_time": "2023-02-23T11:57:52.548123Z",
     "start_time": "2023-02-23T11:57:52.537403Z"
    }
   },
   "outputs": [],
   "source": [
    "n=5\n",
    "info=[2,1,1,1,0,0,0,0,0,0,0]"
   ]
  },
  {
   "cell_type": "code",
   "execution_count": 44,
   "id": "8bb3af0a",
   "metadata": {
    "ExecuteTime": {
     "end_time": "2023-02-23T11:57:52.972517Z",
     "start_time": "2023-02-23T11:57:52.963842Z"
    }
   },
   "outputs": [
    {
     "data": {
      "text/plain": [
       "[3, 2, 2, 2, 1, 1, 1, 1, 1, 1, 1]"
      ]
     },
     "execution_count": 44,
     "metadata": {},
     "output_type": "execute_result"
    }
   ],
   "source": [
    "ryan=[i+1 for i in info]\n",
    "ryan"
   ]
  },
  {
   "cell_type": "code",
   "execution_count": 45,
   "id": "3529d62e",
   "metadata": {
    "ExecuteTime": {
     "end_time": "2023-02-23T11:57:53.451933Z",
     "start_time": "2023-02-23T11:57:53.443669Z"
    }
   },
   "outputs": [
    {
     "data": {
      "text/plain": [
       "[(10, 3),\n",
       " (9, 2),\n",
       " (8, 2),\n",
       " (7, 2),\n",
       " (6, 1),\n",
       " (5, 1),\n",
       " (4, 1),\n",
       " (3, 1),\n",
       " (2, 1),\n",
       " (1, 1)]"
      ]
     },
     "execution_count": 45,
     "metadata": {},
     "output_type": "execute_result"
    }
   ],
   "source": [
    "ryan = sorted(enumerate(ryan[::-1]), reverse=True)[:-1]\n",
    "ryan"
   ]
  },
  {
   "cell_type": "code",
   "execution_count": null,
   "id": "ccdf7ccb",
   "metadata": {},
   "outputs": [],
   "source": [
    "for start in range(10):\n",
    "    total_score, total_cost = ryan[start]\n",
    "    while total_cost <= n:\n",
    "        \n",
    "    "
   ]
  },
  {
   "cell_type": "code",
   "execution_count": null,
   "id": "4b3435fb",
   "metadata": {},
   "outputs": [],
   "source": []
  },
  {
   "cell_type": "code",
   "execution_count": null,
   "id": "57499b29",
   "metadata": {},
   "outputs": [],
   "source": []
  },
  {
   "cell_type": "code",
   "execution_count": null,
   "id": "cf8441ad",
   "metadata": {},
   "outputs": [],
   "source": []
  },
  {
   "cell_type": "code",
   "execution_count": null,
   "id": "79b4de85",
   "metadata": {},
   "outputs": [],
   "source": []
  },
  {
   "cell_type": "code",
   "execution_count": 18,
   "id": "09996703",
   "metadata": {
    "ExecuteTime": {
     "end_time": "2023-02-23T11:40:51.993473Z",
     "start_time": "2023-02-23T11:40:51.982059Z"
    }
   },
   "outputs": [],
   "source": [
    "answer = []\n",
    "info = info[::-1]\n",
    "max_n = -1\n",
    "k = len(info)"
   ]
  },
  {
   "cell_type": "code",
   "execution_count": 19,
   "id": "60c44f72",
   "metadata": {
    "ExecuteTime": {
     "end_time": "2023-02-23T11:40:54.767555Z",
     "start_time": "2023-02-23T11:40:54.755473Z"
    }
   },
   "outputs": [
    {
     "data": {
      "text/plain": [
       "([0, 0, 0, 0, 0, 0, 0, 1, 1, 1, 2], 11)"
      ]
     },
     "execution_count": 19,
     "metadata": {},
     "output_type": "execute_result"
    }
   ],
   "source": [
    "info, k"
   ]
  },
  {
   "cell_type": "code",
   "execution_count": 26,
   "id": "51caf769",
   "metadata": {
    "ExecuteTime": {
     "end_time": "2023-02-23T11:44:09.514437Z",
     "start_time": "2023-02-23T11:44:09.508602Z"
    }
   },
   "outputs": [
    {
     "data": {
      "text/plain": [
       "11"
      ]
     },
     "execution_count": 26,
     "metadata": {},
     "output_type": "execute_result"
    }
   ],
   "source": [
    "k"
   ]
  },
  {
   "cell_type": "code",
   "execution_count": 29,
   "id": "e5b4d4a3",
   "metadata": {
    "ExecuteTime": {
     "end_time": "2023-02-23T11:45:38.380792Z",
     "start_time": "2023-02-23T11:45:38.368721Z"
    }
   },
   "outputs": [
    {
     "data": {
      "text/plain": [
       "Counter({0: 5})"
      ]
     },
     "execution_count": 29,
     "metadata": {},
     "output_type": "execute_result"
    }
   ],
   "source": [
    "c"
   ]
  },
  {
   "cell_type": "code",
   "execution_count": 31,
   "id": "6b916a9c",
   "metadata": {
    "ExecuteTime": {
     "end_time": "2023-02-23T11:45:45.080461Z",
     "start_time": "2023-02-23T11:45:45.066476Z"
    }
   },
   "outputs": [
    {
     "data": {
      "text/plain": [
       "(0, 0, 0, 0, 0)"
      ]
     },
     "execution_count": 31,
     "metadata": {},
     "output_type": "execute_result"
    }
   ],
   "source": [
    "c"
   ]
  },
  {
   "cell_type": "code",
   "execution_count": null,
   "id": "14cd9c43",
   "metadata": {},
   "outputs": [],
   "source": [
    "for c in cwr(range(0, k), n): # 5발 쏘는 모든 경우\n",
    "    ryan = 0\n",
    "    apeach = 0\n",
    "    tmp_ans = [0 for _ in range(k)]\n",
    "\n",
    "    c = Counter(c) # 인덱스별 몇발 쐈는지\n",
    "    for i in range(0, k):\n",
    "        if info[i] < c[i]: # 개수가 더 많으면 라이언이 승\n",
    "            ryan += i\n",
    "        elif info[i] != 0: # 아니면 어피치가 승\n",
    "            apeach += i\n",
    "\n",
    "        tmp_ans[i] = c[i]\n",
    "    if ryan > apeach:\n",
    "        diff = ryan - apeach\n",
    "        if max_n < diff:\n",
    "            max_n = diff\n",
    "            answer = tmp_ans"
   ]
  },
  {
   "cell_type": "code",
   "execution_count": 25,
   "id": "9ed80d19",
   "metadata": {
    "ExecuteTime": {
     "end_time": "2023-02-23T11:41:57.598268Z",
     "start_time": "2023-02-23T11:41:57.594597Z"
    }
   },
   "outputs": [
    {
     "data": {
      "text/plain": [
       "[('A', 'A'),\n",
       " ('A', 'B'),\n",
       " ('A', 'C'),\n",
       " ('A', 'D'),\n",
       " ('B', 'B'),\n",
       " ('B', 'C'),\n",
       " ('B', 'D'),\n",
       " ('C', 'C'),\n",
       " ('C', 'D'),\n",
       " ('D', 'D')]"
      ]
     },
     "execution_count": 25,
     "metadata": {},
     "output_type": "execute_result"
    }
   ],
   "source": [
    "list(cwr('ABCD', 2))"
   ]
  },
  {
   "cell_type": "code",
   "execution_count": 28,
   "id": "2ffd88b1",
   "metadata": {
    "ExecuteTime": {
     "end_time": "2023-02-23T11:45:19.355441Z",
     "start_time": "2023-02-23T11:45:19.338373Z"
    }
   },
   "outputs": [
    {
     "data": {
      "text/plain": [
       "Counter({0: 5})"
      ]
     },
     "execution_count": 28,
     "metadata": {},
     "output_type": "execute_result"
    }
   ],
   "source": [
    "c"
   ]
  },
  {
   "cell_type": "code",
   "execution_count": 40,
   "id": "3c8a6847",
   "metadata": {
    "ExecuteTime": {
     "end_time": "2023-02-23T11:54:20.023036Z",
     "start_time": "2023-02-23T11:54:20.011808Z"
    }
   },
   "outputs": [
    {
     "data": {
      "text/plain": [
       "(5, [2, 1, 1, 1, 0, 0, 0, 0, 0, 0, 0])"
      ]
     },
     "execution_count": 40,
     "metadata": {},
     "output_type": "execute_result"
    }
   ],
   "source": [
    "n,info"
   ]
  },
  {
   "cell_type": "code",
   "execution_count": 41,
   "id": "dc3b58f3",
   "metadata": {
    "ExecuteTime": {
     "end_time": "2023-02-23T11:54:21.086293Z",
     "start_time": "2023-02-23T11:54:21.053861Z"
    }
   },
   "outputs": [
    {
     "name": "stdout",
     "output_type": "stream",
     "text": [
      "answer=[0, 1, 0, 0, 0, 0, 0, 0, 2, 2, 0]\n",
      "answer=[0, 0, 1, 0, 0, 0, 0, 0, 2, 2, 0]\n",
      "answer=[0, 0, 0, 1, 0, 0, 0, 0, 2, 2, 0]\n",
      "answer=[0, 0, 0, 0, 1, 0, 0, 0, 2, 2, 0]\n",
      "answer=[0, 0, 0, 0, 0, 1, 0, 0, 2, 2, 0]\n",
      "answer=[0, 0, 0, 0, 0, 0, 1, 0, 2, 2, 0]\n"
     ]
    },
    {
     "data": {
      "text/plain": [
       "[0, 2, 2, 0, 1, 0, 0, 0, 0, 0, 0]"
      ]
     },
     "execution_count": 41,
     "metadata": {},
     "output_type": "execute_result"
    }
   ],
   "source": [
    "solution(n, info)"
   ]
  },
  {
   "cell_type": "code",
   "execution_count": 37,
   "id": "b366d849",
   "metadata": {
    "ExecuteTime": {
     "end_time": "2023-02-23T11:54:07.813441Z",
     "start_time": "2023-02-23T11:54:07.795540Z"
    }
   },
   "outputs": [],
   "source": [
    "from itertools import combinations_with_replacement as cwr\n",
    "from collections import Counter\n",
    "\n",
    "def solution(n, info):\n",
    "    answer = []\n",
    "    info = info[::-1]\n",
    "    max_n = -1\n",
    "    k = len(info)\n",
    "    \n",
    "    for c in cwr(range(0, k), n) :\n",
    "        ryan = 0\n",
    "        apeach = 0\n",
    "        tmp_ans = [0 for _ in range(k)]\n",
    "        \n",
    "        c = Counter(c)\n",
    "        for i in range(0, k) :\n",
    "            if info[i] < c[i] : # 개수가 더 많으면 라이언이 승\n",
    "                ryan += i\n",
    "            elif info[i] != 0 : # 아니면 어피치가 승\n",
    "                apeach += i\n",
    "\n",
    "            tmp_ans[i] = c[i]\n",
    "        if ryan > apeach :\n",
    "            diff = ryan - apeach\n",
    "            if max_n < diff :\n",
    "                max_n = diff\n",
    "                answer = tmp_ans\n",
    "                print(f\"{answer=}\")\n",
    "\n",
    "    if answer :\n",
    "        return answer[::-1]\n",
    "    else :\n",
    "        return [max_n]"
   ]
  },
  {
   "cell_type": "code",
   "execution_count": null,
   "id": "3c3425ec",
   "metadata": {},
   "outputs": [],
   "source": []
  }
 ],
 "metadata": {
  "kernelspec": {
   "display_name": "Python 3",
   "language": "python",
   "name": "python3"
  },
  "language_info": {
   "codemirror_mode": {
    "name": "ipython",
    "version": 3
   },
   "file_extension": ".py",
   "mimetype": "text/x-python",
   "name": "python",
   "nbconvert_exporter": "python",
   "pygments_lexer": "ipython3",
   "version": "3.8.12"
  },
  "toc": {
   "base_numbering": 1,
   "nav_menu": {},
   "number_sections": true,
   "sideBar": true,
   "skip_h1_title": false,
   "title_cell": "Table of Contents",
   "title_sidebar": "Contents",
   "toc_cell": false,
   "toc_position": {},
   "toc_section_display": true,
   "toc_window_display": false
  }
 },
 "nbformat": 4,
 "nbformat_minor": 5
}
