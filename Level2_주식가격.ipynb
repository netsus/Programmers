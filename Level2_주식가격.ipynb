{
 "cells": [
  {
   "cell_type": "markdown",
   "id": "0e4c9d43",
   "metadata": {},
   "source": [
    "### 문제\n"
   ]
  },
  {
   "cell_type": "code",
   "execution_count": 20,
   "id": "46be3fb9",
   "metadata": {
    "ExecuteTime": {
     "end_time": "2022-08-05T06:21:44.093226Z",
     "start_time": "2022-08-05T06:21:44.083756Z"
    }
   },
   "outputs": [
    {
     "name": "stdout",
     "output_type": "stream",
     "text": [
      "시작\n"
     ]
    }
   ],
   "source": [
    "print(\"시작\")"
   ]
  },
  {
   "cell_type": "markdown",
   "id": "bdb2717b",
   "metadata": {
    "ExecuteTime": {
     "end_time": "2022-08-05T06:12:57.538955Z",
     "start_time": "2022-08-05T06:12:57.530351Z"
    }
   },
   "source": [
    "    초 단위로 기록된 주식가격이 담긴 배열 prices에 대해,\n",
    "    각 가격별로 떨어지지 않는 기간이 몇초인지 저장하여 리턴"
   ]
  },
  {
   "cell_type": "code",
   "execution_count": 21,
   "id": "370f188f",
   "metadata": {
    "ExecuteTime": {
     "end_time": "2022-08-05T06:21:51.244421Z",
     "start_time": "2022-08-05T06:21:51.240519Z"
    }
   },
   "outputs": [
    {
     "name": "stdout",
     "output_type": "stream",
     "text": [
      "끝\n"
     ]
    }
   ],
   "source": [
    "print(\"끝\")"
   ]
  },
  {
   "cell_type": "markdown",
   "id": "88b63096",
   "metadata": {},
   "source": [
    "### 내 풀이"
   ]
  },
  {
   "cell_type": "code",
   "execution_count": 14,
   "id": "77ded1f0",
   "metadata": {
    "ExecuteTime": {
     "end_time": "2022-08-05T06:18:19.582286Z",
     "start_time": "2022-08-05T06:18:19.574854Z"
    }
   },
   "outputs": [],
   "source": [
    "def solution(prices):\n",
    "    # 전체 초\n",
    "    pl=len(prices)\n",
    "    answer=[1]*pl\n",
    "    for i in range(pl-1):\n",
    "        for j in range(i+1,pl-1):\n",
    "            if prices[i]<=prices[j]:\n",
    "                answer[i]+=1\n",
    "            else:\n",
    "                break\n",
    "    answer[-1]=0\n",
    "    return answer"
   ]
  },
  {
   "cell_type": "markdown",
   "id": "8ed2b958",
   "metadata": {},
   "source": [
    "### 연습"
   ]
  },
  {
   "cell_type": "code",
   "execution_count": 15,
   "id": "ec705ae9",
   "metadata": {
    "ExecuteTime": {
     "end_time": "2022-08-05T06:18:24.414976Z",
     "start_time": "2022-08-05T06:18:24.408422Z"
    }
   },
   "outputs": [],
   "source": [
    "prices=[1, 2, 3, 2, 3]\t\n",
    "# return : [4, 3, 1, 1, 0]\n",
    "prices=[1]"
   ]
  },
  {
   "cell_type": "code",
   "execution_count": 16,
   "id": "bfe4f5fe",
   "metadata": {
    "ExecuteTime": {
     "end_time": "2022-08-05T06:18:24.623880Z",
     "start_time": "2022-08-05T06:18:24.615192Z"
    }
   },
   "outputs": [],
   "source": [
    "# 전체 초\n",
    "pl=len(prices)\n",
    "answer=[1]*pl\n",
    "for i in range(pl-1):\n",
    "    for j in range(i+1,pl-1):\n",
    "        if prices[i]<=prices[j]:\n",
    "            answer[i]+=1\n",
    "        else:\n",
    "            break"
   ]
  },
  {
   "cell_type": "code",
   "execution_count": 17,
   "id": "35523b41",
   "metadata": {
    "ExecuteTime": {
     "end_time": "2022-08-05T06:18:24.940379Z",
     "start_time": "2022-08-05T06:18:24.933427Z"
    }
   },
   "outputs": [],
   "source": [
    "answer[-1]=0"
   ]
  },
  {
   "cell_type": "code",
   "execution_count": 18,
   "id": "c06623d9",
   "metadata": {
    "ExecuteTime": {
     "end_time": "2022-08-05T06:18:25.309350Z",
     "start_time": "2022-08-05T06:18:25.298761Z"
    }
   },
   "outputs": [
    {
     "data": {
      "text/plain": [
       "[0]"
      ]
     },
     "execution_count": 18,
     "metadata": {},
     "output_type": "execute_result"
    }
   ],
   "source": [
    "answer"
   ]
  }
 ],
 "metadata": {
  "kernelspec": {
   "display_name": "Python 3",
   "language": "python",
   "name": "python3"
  },
  "language_info": {
   "codemirror_mode": {
    "name": "ipython",
    "version": 3
   },
   "file_extension": ".py",
   "mimetype": "text/x-python",
   "name": "python",
   "nbconvert_exporter": "python",
   "pygments_lexer": "ipython3",
   "version": "3.8.12"
  },
  "toc": {
   "base_numbering": 1,
   "nav_menu": {},
   "number_sections": true,
   "sideBar": true,
   "skip_h1_title": false,
   "title_cell": "Table of Contents",
   "title_sidebar": "Contents",
   "toc_cell": false,
   "toc_position": {},
   "toc_section_display": true,
   "toc_window_display": false
  }
 },
 "nbformat": 4,
 "nbformat_minor": 5
}
