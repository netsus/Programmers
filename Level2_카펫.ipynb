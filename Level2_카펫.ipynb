{
 "cells": [
  {
   "cell_type": "markdown",
   "id": "1d7befed",
   "metadata": {},
   "source": [
    "### 문제\n",
    "https://school.programmers.co.kr/learn/courses/30/lessons/42842"
   ]
  },
  {
   "cell_type": "markdown",
   "id": "88b63096",
   "metadata": {},
   "source": [
    "### 내 풀이"
   ]
  },
  {
   "cell_type": "code",
   "execution_count": null,
   "id": "77ded1f0",
   "metadata": {},
   "outputs": [],
   "source": [
    "brown=24\n",
    "yellow=24\n",
    "def factorization(n):\n",
    "    fact=[]\n",
    "    c=1\n",
    "    while c<=n//c:\n",
    "        if n%c==0:\n",
    "            fact.append((n//c,c))\n",
    "        c+=1\n",
    "    return fact\n",
    "for i,j in factorization(yellow):\n",
    "    if (i+j)*2+4==brown:\n",
    "        return [i+2,j+2]"
   ]
  },
  {
   "cell_type": "markdown",
   "id": "a84b31b9",
   "metadata": {},
   "source": [
    "### 다른 사람 풀이\n",
    "x를 루트x까지 반복하면, 소인수 분해하는 모든 경우의수를 커버한다는 아이디어"
   ]
  },
  {
   "cell_type": "code",
   "execution_count": null,
   "id": "c87313ea",
   "metadata": {},
   "outputs": [],
   "source": [
    "def solution(brown, red):\n",
    "    for i in range(1, int(red**(1/2))+1):\n",
    "        if red % i == 0:\n",
    "            if 2*(i + red//i) == brown-4:\n",
    "                return [red//i+2, i+2]"
   ]
  },
  {
   "cell_type": "markdown",
   "id": "8ed2b958",
   "metadata": {},
   "source": [
    "### 연습"
   ]
  },
  {
   "cell_type": "code",
   "execution_count": 22,
   "id": "ec705ae9",
   "metadata": {
    "ExecuteTime": {
     "end_time": "2022-07-31T04:46:24.723306Z",
     "start_time": "2022-07-31T04:46:24.718036Z"
    }
   },
   "outputs": [],
   "source": [
    "brown=24\n",
    "yellow=24"
   ]
  },
  {
   "cell_type": "code",
   "execution_count": 23,
   "id": "99d97752",
   "metadata": {
    "ExecuteTime": {
     "end_time": "2022-07-31T04:46:24.942655Z",
     "start_time": "2022-07-31T04:46:24.933683Z"
    }
   },
   "outputs": [],
   "source": [
    "def factorization(n):\n",
    "    fact=[]\n",
    "    c=1\n",
    "    while c<=n//c:\n",
    "        if n%c==0:\n",
    "            fact.append((n//c,c))\n",
    "        c+=1\n",
    "    return fact"
   ]
  },
  {
   "cell_type": "code",
   "execution_count": 26,
   "id": "4326d031",
   "metadata": {
    "ExecuteTime": {
     "end_time": "2022-07-31T04:47:24.246338Z",
     "start_time": "2022-07-31T04:47:24.242942Z"
    }
   },
   "outputs": [
    {
     "name": "stdout",
     "output_type": "stream",
     "text": [
      "[8, 6]\n"
     ]
    }
   ],
   "source": [
    "for i,j in factorization(yellow):\n",
    "    if (i+j)*2+4==brown:\n",
    "        print([i+2,j+2])"
   ]
  },
  {
   "cell_type": "code",
   "execution_count": null,
   "id": "3dcdc444",
   "metadata": {},
   "outputs": [],
   "source": []
  }
 ],
 "metadata": {
  "kernelspec": {
   "display_name": "Python 3",
   "language": "python",
   "name": "python3"
  },
  "language_info": {
   "codemirror_mode": {
    "name": "ipython",
    "version": 3
   },
   "file_extension": ".py",
   "mimetype": "text/x-python",
   "name": "python",
   "nbconvert_exporter": "python",
   "pygments_lexer": "ipython3",
   "version": "3.8.12"
  },
  "toc": {
   "base_numbering": 1,
   "nav_menu": {},
   "number_sections": true,
   "sideBar": true,
   "skip_h1_title": false,
   "title_cell": "Table of Contents",
   "title_sidebar": "Contents",
   "toc_cell": false,
   "toc_position": {},
   "toc_section_display": true,
   "toc_window_display": false
  }
 },
 "nbformat": 4,
 "nbformat_minor": 5
}
