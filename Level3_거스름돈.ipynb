{
 "cells": [
  {
   "cell_type": "markdown",
   "id": "0e4c9d43",
   "metadata": {},
   "source": [
    "### 문제\n"
   ]
  },
  {
   "cell_type": "markdown",
   "id": "ce2faef2",
   "metadata": {},
   "source": [
    "예를 들어서 손님께 5원을 거슬러 줘야 하고 1원, 2원, 5원이 있다면 다음과 같이 4가지 방법으로 5원을 거슬러 줄 수 있습니다.\n",
    "\n",
    "    1원을 5개 사용해서 거슬러 준다.\n",
    "    1원을 3개 사용하고, 2원을 1개 사용해서 거슬러 준다.\n",
    "    1원을 1개 사용하고, 2원을 2개 사용해서 거슬러 준다.\n",
    "    5원을 1개 사용해서 거슬러 준다."
   ]
  },
  {
   "cell_type": "markdown",
   "id": "03bcb520",
   "metadata": {},
   "source": [
    "1. n은 100,000 이하의 자연수입니다.\n",
    "2. 화폐 단위는 100종류 이하입니다.\n",
    "3. 모든 화폐는 무한하게 있다고 가정합니다.\n",
    "4. 정답이 커질 수 있으니, 1,000,000,007로 나눈 나머지를 return 해주세요."
   ]
  },
  {
   "cell_type": "markdown",
   "id": "b55b446f",
   "metadata": {},
   "source": [
    "### 못품 -> 풀이 이해"
   ]
  },
  {
   "cell_type": "markdown",
   "id": "e044a5bb",
   "metadata": {},
   "source": [
    "풀지 못한 원인: 목표가 5원이고, 1,2,5원이 있을 때, 1원을 만드는 경우수 1개(1), 2원을 만드는 경우수 2개(1+1,2), 3원을 만드는 경우수(1+1+1,2+1) 2개에서 4원을 만드는 경우수(1+1+1+1,1+1+2,2+2) 3개를 만드는 방법을 찾지 못했다.<br>\n",
    "해결 방법: 먼저 1원으로 만들 수 있는 경우수들을 5원까지 쭉 구한다. dp[0]=1로 둬서 그걸로부터 첫번째 경우수 1회를 커버한다. 그다음 for문에서 2원으로 만드는 경우수를 구하는데,<br>\n",
    "d[2]는 d[1]+d[0]이다. d[1]은 1원으로 2원을 만드는 경우수이고, d[0]은 2원으로 2원을 만드는 초기화 경우의 수이다. 이를 더해 d[2]는 2개가 된다.<br>\n",
    "마찬가지로 d[3]은 기존 d[3] 더하기 d[1]로 1+1=2 이다.<br>\n",
    "핵심 로직은 d[4]를 구하는 로직을 보면 알 수 있다. 기존 d[4] 더하기 d[2]이다. 앞에서 d[2]는 1과 2원으로 만드는 경우수인 2개가 되었다. 기존 d[4]는 1이다. 즉, 2원을 만드는 경우의수를 그대로 가져오며(2원에서 +2하면 4가되니까) d[3]을 더한 것이 핵심이다.<br>\n",
    "동전들을 하나씩 반복하면서, 첫번째 동전으로 x원을 만드는 경우의수를 구하고, 다음 동전에서 x원을 만드는 경우의수를 구할때 첫번째 동전으로 구한 경우의수를 자연스럽게 가져다 쓴다. 정말 이 핵심 아이디어가 어렵다.\n",
    "동전을 반복하면서, 경우의수를 쌓아가는 이 방법. 참 안잊어먹었으면 좋겠네."
   ]
  },
  {
   "cell_type": "markdown",
   "id": "54142d0f",
   "metadata": {},
   "source": [
    "### 다른 사람 풀이 이해"
   ]
  },
  {
   "cell_type": "code",
   "execution_count": 2,
   "id": "8d444e2c",
   "metadata": {
    "ExecuteTime": {
     "end_time": "2022-08-03T10:22:46.543025Z",
     "start_time": "2022-08-03T10:22:46.530688Z"
    }
   },
   "outputs": [],
   "source": [
    "def solution(n, money):\n",
    "    d=[1]+[0]*n\n",
    "    for m in money:\n",
    "        for i in range(m,n+1):\n",
    "            d[i]+=d[i-m]\n",
    "    return d[i]%1000000007"
   ]
  },
  {
   "cell_type": "markdown",
   "id": "8ed2b958",
   "metadata": {},
   "source": [
    "### 연습"
   ]
  },
  {
   "cell_type": "code",
   "execution_count": 6,
   "id": "af1b7bd0",
   "metadata": {
    "ExecuteTime": {
     "end_time": "2022-08-03T10:30:43.001637Z",
     "start_time": "2022-08-03T10:30:42.996907Z"
    }
   },
   "outputs": [],
   "source": [
    "n=5\n",
    "money=[5,2,1]"
   ]
  },
  {
   "cell_type": "code",
   "execution_count": 7,
   "id": "ec705ae9",
   "metadata": {
    "ExecuteTime": {
     "end_time": "2022-08-03T10:30:43.288663Z",
     "start_time": "2022-08-03T10:30:43.280123Z"
    }
   },
   "outputs": [
    {
     "data": {
      "text/plain": [
       "4"
      ]
     },
     "execution_count": 7,
     "metadata": {},
     "output_type": "execute_result"
    }
   ],
   "source": [
    "d=[1]+[0]*n\n",
    "for m in money:\n",
    "    for i in range(m,n+1):\n",
    "        d[i]+=d[i-m]\n",
    "d[i]"
   ]
  },
  {
   "cell_type": "code",
   "execution_count": 8,
   "id": "337f4d5e",
   "metadata": {
    "ExecuteTime": {
     "end_time": "2022-08-03T10:30:43.692152Z",
     "start_time": "2022-08-03T10:30:43.681758Z"
    }
   },
   "outputs": [
    {
     "data": {
      "text/plain": [
       "[1, 1, 2, 2, 3, 4]"
      ]
     },
     "execution_count": 8,
     "metadata": {},
     "output_type": "execute_result"
    }
   ],
   "source": [
    "d"
   ]
  }
 ],
 "metadata": {
  "kernelspec": {
   "display_name": "Python 3",
   "language": "python",
   "name": "python3"
  },
  "language_info": {
   "codemirror_mode": {
    "name": "ipython",
    "version": 3
   },
   "file_extension": ".py",
   "mimetype": "text/x-python",
   "name": "python",
   "nbconvert_exporter": "python",
   "pygments_lexer": "ipython3",
   "version": "3.8.12"
  },
  "toc": {
   "base_numbering": 1,
   "nav_menu": {},
   "number_sections": true,
   "sideBar": true,
   "skip_h1_title": false,
   "title_cell": "Table of Contents",
   "title_sidebar": "Contents",
   "toc_cell": false,
   "toc_position": {},
   "toc_section_display": true,
   "toc_window_display": false
  }
 },
 "nbformat": 4,
 "nbformat_minor": 5
}
