{
 "cells": [
  {
   "cell_type": "markdown",
   "id": "0e4c9d43",
   "metadata": {},
   "source": [
    "### 문제\n"
   ]
  },
  {
   "cell_type": "markdown",
   "id": "40ed2b5a",
   "metadata": {},
   "source": [
    "오른쪽과 아래쪽으로만 움직여 집에서 학교까지 갈 수 있는 최단경로의 개수를 1,000,000,007로 나눈 나머지"
   ]
  },
  {
   "cell_type": "code",
   "execution_count": null,
   "id": "710f003b",
   "metadata": {
    "ExecuteTime": {
     "end_time": "2022-08-02T06:28:50.327878Z",
     "start_time": "2022-08-02T06:28:50.313594Z"
    }
   },
   "outputs": [],
   "source": [
    "제한사항\n",
    "    격자의 크기 m, n은 1 이상 100 이하인 자연수입니다.\n",
    "        m과 n이 모두 1인 경우는 입력으로 주어지지 않습니다.\n",
    "    물에 잠긴 지역은 0개 이상 10개 이하입니다.\n",
    "    집과 학교가 물에 잠긴 경우는 입력으로 주어지지 않습니다."
   ]
  },
  {
   "cell_type": "markdown",
   "id": "88b63096",
   "metadata": {},
   "source": [
    "### 내 풀이"
   ]
  },
  {
   "cell_type": "code",
   "execution_count": 3,
   "id": "77ded1f0",
   "metadata": {
    "ExecuteTime": {
     "end_time": "2022-08-02T06:29:06.535210Z",
     "start_time": "2022-08-02T06:29:06.522530Z"
    }
   },
   "outputs": [],
   "source": [
    "def solution(m, n, puddles):\n",
    "    zido=[[0 for _ in range(m)] for _ in range(n)]\n",
    "    dp=[[0 for _ in range(m)] for _ in range(n)]\n",
    "    for p in puddles:\n",
    "        zido[p[1]-1][p[0]-1]=1\n",
    "    rf=0;rc=0\n",
    "    for r in range(n):\n",
    "        if zido[r][0]==1:\n",
    "            rf=1\n",
    "        if rf:\n",
    "            dp[r][0]=0\n",
    "        else:\n",
    "            dp[r][0]=1\n",
    "    for c in range(m):\n",
    "        if zido[0][c]==1:\n",
    "            rc=1\n",
    "        if rc:\n",
    "            dp[0][c]=0\n",
    "        else:\n",
    "            dp[0][c]=1\n",
    "    for r in range(1,n):\n",
    "        for c in range(1,m):\n",
    "            if zido[r][c]==0:\n",
    "                print(r,c,dp[r-1][c]+dp[r][c-1])\n",
    "                dp[r][c]=dp[r-1][c]+dp[r][c-1]\n",
    "\n",
    "    return dp[-1][-1]%1000000007"
   ]
  },
  {
   "cell_type": "markdown",
   "id": "8ed2b958",
   "metadata": {},
   "source": [
    "### 연습"
   ]
  },
  {
   "cell_type": "code",
   "execution_count": null,
   "id": "ec705ae9",
   "metadata": {},
   "outputs": [],
   "source": []
  }
 ],
 "metadata": {
  "kernelspec": {
   "display_name": "Python 3",
   "language": "python",
   "name": "python3"
  },
  "language_info": {
   "codemirror_mode": {
    "name": "ipython",
    "version": 3
   },
   "file_extension": ".py",
   "mimetype": "text/x-python",
   "name": "python",
   "nbconvert_exporter": "python",
   "pygments_lexer": "ipython3",
   "version": "3.8.12"
  },
  "toc": {
   "base_numbering": 1,
   "nav_menu": {},
   "number_sections": true,
   "sideBar": true,
   "skip_h1_title": false,
   "title_cell": "Table of Contents",
   "title_sidebar": "Contents",
   "toc_cell": false,
   "toc_position": {},
   "toc_section_display": true,
   "toc_window_display": false
  }
 },
 "nbformat": 4,
 "nbformat_minor": 5
}
