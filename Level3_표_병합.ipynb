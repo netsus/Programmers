{
 "cells": [
  {
   "cell_type": "markdown",
   "id": "0e4c9d43",
   "metadata": {},
   "source": [
    "### 문제\n"
   ]
  },
  {
   "cell_type": "code",
   "execution_count": 11,
   "id": "fc6e3ac9",
   "metadata": {
    "ExecuteTime": {
     "end_time": "2022-10-14T10:53:40.360272Z",
     "start_time": "2022-10-14T10:53:40.224753Z"
    }
   },
   "outputs": [],
   "source": [
    "! # 시작시간 체크"
   ]
  },
  {
   "cell_type": "code",
   "execution_count": null,
   "id": "faf2532c",
   "metadata": {},
   "outputs": [],
   "source": []
  },
  {
   "cell_type": "code",
   "execution_count": null,
   "id": "50c1b0eb",
   "metadata": {},
   "outputs": [],
   "source": [
    "! # 끝 시간 체크"
   ]
  },
  {
   "cell_type": "markdown",
   "id": "88b63096",
   "metadata": {},
   "source": [
    "### 풀이"
   ]
  },
  {
   "cell_type": "code",
   "execution_count": null,
   "id": "77ded1f0",
   "metadata": {},
   "outputs": [],
   "source": [
    "from itertools import product\n",
    "\n",
    "def solution(commands):\n",
    "    arr = [[['', str(i)+' '+str(j)] for j in range(51)] for i in range(51)]\n",
    "    res = []\n",
    "\n",
    "    for command in commands:\n",
    "        com = command.split()\n",
    "\n",
    "        if com[0] == 'UPDATE' and len(com) == 4: # r, c 셀 업데이트\n",
    "            r1, c1 = int(com[1]), int(com[2])\n",
    "            for i,j in product(range(51),range(51)):\n",
    "                if arr[i][j][1] == arr[r1][c1][1]: # 위치가 r,c인 경우\n",
    "                    arr[i][j][0] = com[3] # com의 value 지정\n",
    "\n",
    "        elif com[0] == 'UPDATE' and len(com) == 3: # value1 -> value2 업데이트\n",
    "            for i,j in product(range(51),range(51)):\n",
    "                if arr[i][j][0] == com[1]: # value1인 경우\n",
    "                    arr[i][j][0] = com[2] # value2로 업데이트\n",
    "\n",
    "        elif com[0] == 'MERGE': # r1, c1 - r2, c2 Merge\n",
    "            r1, c1, r2, c2 = int(com[1]), int(com[2]), int(com[3]), int(com[4])\n",
    "            if arr[r2][c2][0] and not arr[r1][c1][0]: # r2,c2에만 값이 있는 경우-> r1,c1으로 할당\n",
    "                r1, c1, r2, c2 = r2, c2, r1, c1\n",
    "            r3, c3 = arr[r1][c1][1].split() # Merge 하는 셀 (값 있는 셀)\n",
    "            r4, c4 = arr[r2][c2][1].split() # Merge 당하는 셀\n",
    "            for i,j in product(range(51),range(51)):\n",
    "                if arr[i][j][1] == r4+' '+c4: # Merge 당하는 셀 위치\n",
    "                    arr[i][j][0] = arr[int(r3)][int(c3)][0] # 값 바꿔주고\n",
    "                    arr[i][j][1] = r3+' '+c3 # 위치도 바꿔줌\n",
    "\n",
    "        elif com[0] == 'UNMERGE': # r,c 셀의 Merge 해제\n",
    "            r1, c1 = int(com[1]), int(com[2])\n",
    "            tmp = arr[r1][c1][0] # 값\n",
    "            tmp2 = arr[r1][c1][1] # 셀 위치\n",
    "            for i,j in product(range(51),range(51)):\n",
    "                if arr[i][j][1] == tmp2: # 해당 셀 위치\n",
    "                    arr[i][j][0] = '' # 빈 값으로 하고\n",
    "                    arr[i][j][1] = str(i)+' '+str(j) # 초기 위치 상태로 돌리기\n",
    "            arr[r1][c1][0] = tmp # \n",
    "\n",
    "        elif com[0] == 'PRINT': # r,c 출력\n",
    "            r1, c1 = int(com[1]), int(com[2])\n",
    "            x = arr[r1][c1][0] if arr[r1][c1][0] else 'EMPTY'\n",
    "            res.append(x)\n",
    "    return res"
   ]
  },
  {
   "cell_type": "markdown",
   "id": "c8fed4ee",
   "metadata": {},
   "source": [
    "### 주석 달린 풀이"
   ]
  },
  {
   "cell_type": "code",
   "execution_count": null,
   "id": "53fb0866",
   "metadata": {},
   "outputs": [],
   "source": []
  },
  {
   "cell_type": "markdown",
   "id": "8ed2b958",
   "metadata": {},
   "source": [
    "### 연습"
   ]
  },
  {
   "cell_type": "code",
   "execution_count": null,
   "id": "7b645ba8",
   "metadata": {},
   "outputs": [],
   "source": []
  },
  {
   "cell_type": "code",
   "execution_count": 30,
   "id": "e5be32c9",
   "metadata": {
    "ExecuteTime": {
     "end_time": "2023-02-16T11:47:01.314512Z",
     "start_time": "2023-02-16T11:47:01.309693Z"
    }
   },
   "outputs": [],
   "source": [
    "commands = [\"UPDATE 1 1 menu\", \"UPDATE 1 2 category\", \"UPDATE 2 1 bibimbap\", \"UPDATE 2 2 korean\", \"UPDATE 2 3 rice\",\n",
    "            \"UPDATE 3 1 ramyeon\", \"UPDATE 3 2 korean\", \"UPDATE 3 3 noodle\", \"UPDATE 3 4 instant\", \"UPDATE 4 1 pasta\",\n",
    "            \"UPDATE 4 2 italian\", \"UPDATE 4 3 noodle\", \"MERGE 1 2 1 3\", \"MERGE 1 3 1 4\", \"UPDATE category group\",\n",
    "            \"UPDATE 1 3 group\", \"UNMERGE 1 4\", \"PRINT 1 3\", \"PRINT 1 4\"]"
   ]
  },
  {
   "cell_type": "code",
   "execution_count": 2,
   "id": "86b3e2fb",
   "metadata": {
    "ExecuteTime": {
     "end_time": "2023-02-16T11:13:36.511944Z",
     "start_time": "2023-02-16T11:13:36.503731Z"
    }
   },
   "outputs": [],
   "source": [
    "# 50행 50열의 ['값', '위치']\n",
    "arr = [[['', str(i)+' '+str(j)] for j in range(51)] for i in range(51)] # 1 based\n",
    "res = []"
   ]
  },
  {
   "cell_type": "code",
   "execution_count": 8,
   "id": "5677fef7",
   "metadata": {
    "ExecuteTime": {
     "end_time": "2023-02-16T11:21:10.070037Z",
     "start_time": "2023-02-16T11:21:10.059820Z"
    }
   },
   "outputs": [
    {
     "data": {
      "text/plain": [
       "(51, 51)"
      ]
     },
     "execution_count": 8,
     "metadata": {},
     "output_type": "execute_result"
    }
   ],
   "source": [
    "len(arr), len(arr[0])"
   ]
  },
  {
   "cell_type": "code",
   "execution_count": 12,
   "id": "cd3f567d",
   "metadata": {
    "ExecuteTime": {
     "end_time": "2023-02-16T11:21:49.539894Z",
     "start_time": "2023-02-16T11:21:49.528423Z"
    }
   },
   "outputs": [
    {
     "data": {
      "text/plain": [
       "['', '1 1']"
      ]
     },
     "execution_count": 12,
     "metadata": {},
     "output_type": "execute_result"
    }
   ],
   "source": [
    "arr[1][1] # ['값', '위치']"
   ]
  },
  {
   "cell_type": "code",
   "execution_count": 32,
   "id": "222e29bc",
   "metadata": {
    "ExecuteTime": {
     "end_time": "2023-02-16T11:47:15.626682Z",
     "start_time": "2023-02-16T11:47:15.616322Z"
    }
   },
   "outputs": [
    {
     "data": {
      "text/plain": [
       "['UPDATE', 'category', 'group']"
      ]
     },
     "execution_count": 32,
     "metadata": {},
     "output_type": "execute_result"
    }
   ],
   "source": [
    "# com = commands[-5].split()\n",
    "\n",
    "com"
   ]
  },
  {
   "cell_type": "code",
   "execution_count": 4,
   "id": "eb5501b0",
   "metadata": {
    "ExecuteTime": {
     "end_time": "2023-02-16T11:17:27.907675Z",
     "start_time": "2023-02-16T11:17:27.899096Z"
    }
   },
   "outputs": [],
   "source": [
    "from itertools import product\n",
    "\n",
    "for command in commands:\n",
    "    com = command.split()\n",
    "\n",
    "    if com[0] == 'UPDATE' and len(com) == 4: # r, c 셀 업데이트\n",
    "        r1, c1 = int(com[1]), int(com[2])\n",
    "        for i,j in product(range(51),range(51)):\n",
    "            if arr[i][j][1] == arr[r1][c1][1]: # 위치가 r,c인 경우\n",
    "                arr[i][j][0] = com[3] # com의 value 지정\n",
    "\n",
    "    elif com[0] == 'UPDATE' and len(com) == 3: # value1 -> value2 업데이트\n",
    "        for i,j in product(range(51),range(51)):\n",
    "            if arr[i][j][0] == com[1]: # value1인 경우\n",
    "                arr[i][j][0] = com[2] # value2로 업데이트\n",
    "\n",
    "    elif com[0] == 'MERGE': # r1, c1 - r2, c2 Merge\n",
    "        r1, c1, r2, c2 = int(com[1]), int(com[2]), int(com[3]), int(com[4])\n",
    "        if arr[r2][c2][0] and not arr[r1][c1][0]: # r2,c2에만 값이 있는 경우-> r1,c1으로 할당\n",
    "            r1, c1, r2, c2 = r2, c2, r1, c1\n",
    "        r3, c3 = arr[r1][c1][1].split() # Merge 하는 셀 (값 있는 셀)\n",
    "        r4, c4 = arr[r2][c2][1].split() # Merge 당하는 셀\n",
    "        for i,j in product(range(51),range(51)):\n",
    "            if arr[i][j][1] == r4+' '+c4: # Merge 당하는 셀 위치\n",
    "                arr[i][j][0] = arr[int(r3)][int(c3)][0] # 값 바꿔주고\n",
    "                arr[i][j][1] = r3+' '+c3 # 위치도 바꿔줌\n",
    "\n",
    "    elif com[0] == 'UNMERGE': # r,c 셀의 Merge 해제\n",
    "        r1, c1 = int(com[1]), int(com[2])\n",
    "        tmp = arr[r1][c1][0] # 값\n",
    "        tmp2 = arr[r1][c1][1] # 셀 위치\n",
    "        for i,j in product(range(51),range(51)):\n",
    "            if arr[i][j][1] == tmp2: # 해당 셀 위치\n",
    "                arr[i][j][0] = '' # 빈 값으로 하고\n",
    "                arr[i][j][1] = str(i)+' '+str(j) # 초기 위치 상태로 돌리기\n",
    "        arr[r1][c1][0] = tmp # \n",
    "\n",
    "    elif com[0] == 'PRINT': # r,c 출력\n",
    "        r1, c1 = int(com[1]), int(com[2])\n",
    "        x = arr[r1][c1][0] if arr[r1][c1][0] else 'EMPTY'\n",
    "        res.append(x)"
   ]
  }
 ],
 "metadata": {
  "kernelspec": {
   "display_name": "Python 3",
   "language": "python",
   "name": "python3"
  },
  "language_info": {
   "codemirror_mode": {
    "name": "ipython",
    "version": 3
   },
   "file_extension": ".py",
   "mimetype": "text/x-python",
   "name": "python",
   "nbconvert_exporter": "python",
   "pygments_lexer": "ipython3",
   "version": "3.8.12"
  },
  "toc": {
   "base_numbering": 1,
   "nav_menu": {},
   "number_sections": true,
   "sideBar": true,
   "skip_h1_title": false,
   "title_cell": "Table of Contents",
   "title_sidebar": "Contents",
   "toc_cell": false,
   "toc_position": {},
   "toc_section_display": true,
   "toc_window_display": false
  }
 },
 "nbformat": 4,
 "nbformat_minor": 5
}
