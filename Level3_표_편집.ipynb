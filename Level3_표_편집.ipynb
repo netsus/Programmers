{
 "cells": [
  {
   "cell_type": "markdown",
   "id": "f3c0edee",
   "metadata": {},
   "source": [
    "### 문제\n",
    "https://school.programmers.co.kr/learn/courses/30/lessons/81303#qna"
   ]
  },
  {
   "cell_type": "markdown",
   "id": "67d923dd",
   "metadata": {},
   "source": [
    "### 연결리스트 풀이"
   ]
  },
  {
   "cell_type": "markdown",
   "id": "3cb1b6f5",
   "metadata": {},
   "source": [
    "#### 제출 풀이"
   ]
  },
  {
   "cell_type": "code",
   "execution_count": null,
   "id": "be915b96",
   "metadata": {},
   "outputs": [],
   "source": [
    "## 코드 짜는 시간을 단축시킨 풀이\n",
    "def solution(n, k, cmd):\n",
    "    l={i:[i-1,i+1] for i in range(n)}\n",
    "    l[0][0]=None;l[n-1][1]=None\n",
    "    ptr=k\n",
    "    answer=[\"O\"]*n\n",
    "    stack=[]\n",
    "    for c in cmd:\n",
    "        if c==\"C\": # 삭제\n",
    "            pre,nxt=l[ptr]\n",
    "            stack.append((ptr,l[ptr]))\n",
    "            answer[ptr]=\"X\"\n",
    "            if pre==None:\n",
    "                l[nxt][0]=pre\n",
    "            elif nxt==None:\n",
    "                l[pre][1]=nxt\n",
    "            else: # 기본\n",
    "                l[pre][1]=nxt\n",
    "                l[nxt][0]=pre\n",
    "            if nxt==None:\n",
    "                ptr=pre\n",
    "            else:\n",
    "                ptr=nxt # 기본\n",
    "        elif c==\"Z\": # 스택에서 복구\n",
    "            cur,(pre,nxt)=stack.pop()\n",
    "            answer[cur]=\"O\"\n",
    "            # 기본\n",
    "            if pre==None:\n",
    "                l[nxt][0]=cur\n",
    "            elif nxt==None:\n",
    "                l[pre][1]=cur\n",
    "            else:\n",
    "                l[pre][1]=cur\n",
    "                l[nxt][0]=cur\n",
    "        else:\n",
    "            c=c.split()\n",
    "            k=int(c[1])\n",
    "            if c[0]==\"U\":\n",
    "                for _ in range(k):\n",
    "                    ptr=l[ptr][0]\n",
    "            if c[0]==\"D\":\n",
    "                for _ in range(k):\n",
    "                    ptr=l[ptr][1]\n",
    "    return \"\".join(answer)"
   ]
  },
  {
   "cell_type": "code",
   "execution_count": null,
   "id": "d99d9c1c",
   "metadata": {},
   "outputs": [],
   "source": [
    "## 짧게만 짜려고한 풀이 - 위와 3줄밖에 차이 안남. 앞으로 코드짜는데 걸리는 시간을 최소화하고 -> 맞으면 -> 코드를 예쁘게 해보자.\n",
    "def solution(n, k, cmd):\n",
    "    l={i:[i-1,i+1] for i in range(n)}\n",
    "    l[0][0]=None;l[n-1][1]=None\n",
    "    ptr=k\n",
    "    answer=[\"O\"]*n\n",
    "    stack=[]\n",
    "    for c in cmd:\n",
    "        if c==\"C\": # 삭제\n",
    "            pre,nxt=l[ptr]\n",
    "            stack.append((ptr,l[ptr]))\n",
    "            answer[ptr]=\"X\"\n",
    "            if nxt==None: # 포인터이동\n",
    "                ptr=pre\n",
    "            else:\n",
    "                ptr=nxt\n",
    "            if pre != None: # 연결리스트 수정\n",
    "                l[pre][1] = nxt\n",
    "            if nxt != None:\n",
    "                l[nxt][0]=pre\n",
    "\n",
    "        elif c==\"Z\": # 스택에서 복구\n",
    "            cur,(pre,nxt)=stack.pop()\n",
    "            answer[cur]=\"O\"\n",
    "            if pre == None: # 첫번쨰껄 복구하는 경우\n",
    "                l[nxt][0] = cur            \n",
    "            elif nxt == None: # 마지막껄 복구하는 경우\n",
    "                l[pre][1] = cur\n",
    "            else: # 그 외\n",
    "                l[nxt][0]=cur\n",
    "                l[pre][1]=cur\n",
    "        else:\n",
    "            c=c.split()\n",
    "            k=int(c[1])\n",
    "            if c[0]==\"U\":\n",
    "                for _ in range(k):\n",
    "                    ptr=l[ptr][0]\n",
    "            if c[0]==\"D\":\n",
    "                for _ in range(k):\n",
    "                    ptr=l[ptr][1]\n",
    "    return \"\".join(answer)"
   ]
  },
  {
   "cell_type": "code",
   "execution_count": null,
   "id": "1d6d5961",
   "metadata": {},
   "outputs": [],
   "source": [
    "n,k=8,2\n",
    "l={}\n",
    "for i in range(n):\n",
    "    l[i]=[i-1,i+1]\n",
    "l[0][0]=None\n",
    "l[n-1][1]=None\n",
    "ptr=k\n",
    "answer=[\"O\"]*n\n",
    "stack=[]\n",
    "for c in cmd:\n",
    "    c=c.split()\n",
    "    # 현재 포인터(ptr) 삭제 -> 다음꺼 가리키기\n",
    "    if c[0]==\"C\":\n",
    "        pre=l[ptr][0]\n",
    "        nxt=l[ptr][1]\n",
    "        stack.append((ptr,l[ptr]))\n",
    "        answer[ptr]=\"X\"\n",
    "        if pre!=None:\n",
    "            l[pre][1]=nxt\n",
    "        if nxt!=None:\n",
    "            l[nxt][0]=pre\n",
    "        # 마지막꺼 삭제하는 경우\n",
    "        if nxt==None:\n",
    "            ptr=pre\n",
    "        else:\n",
    "            ptr=nxt\n",
    "    # 스택에서 복구\n",
    "    if c[0]==\"Z\":\n",
    "        cur,(pre,nxt)=stack.pop()\n",
    "        answer[cur]=\"O\"\n",
    "        # 첫번쨰껄 복구하는 경우\n",
    "        if pre==None:\n",
    "            l[nxt][0]=cur\n",
    "        # 마지막껄 복구하는 경우\n",
    "        elif nxt==None:\n",
    "            l[pre][1]=cur\n",
    "        else:\n",
    "            l[nxt][0]=cur\n",
    "            l[pre][1]=cur\n",
    "    if c[0]==\"U\":\n",
    "        k=int(c[1])\n",
    "        for i in range(k):\n",
    "            ptr=l[ptr][0]\n",
    "    if c[0]==\"D\":\n",
    "        k=int(c[1])\n",
    "        for i in range(k):\n",
    "            ptr=l[ptr][1]\n"
   ]
  },
  {
   "cell_type": "code",
   "execution_count": null,
   "id": "6dfa27c3",
   "metadata": {},
   "outputs": [],
   "source": []
  },
  {
   "cell_type": "code",
   "execution_count": 57,
   "id": "337ce1f1",
   "metadata": {
    "ExecuteTime": {
     "end_time": "2022-08-01T02:12:58.214386Z",
     "start_time": "2022-08-01T02:12:58.207114Z"
    }
   },
   "outputs": [
    {
     "data": {
      "text/plain": [
       "({0: [None, 1],\n",
       "  1: [0, 2],\n",
       "  2: [1, 3],\n",
       "  3: [2, 4],\n",
       "  4: [3, 5],\n",
       "  5: [4, 6],\n",
       "  6: [5, 7],\n",
       "  7: [6, None]},\n",
       " 2)"
      ]
     },
     "execution_count": 57,
     "metadata": {},
     "output_type": "execute_result"
    }
   ],
   "source": [
    "n,k=8,2\n",
    "\n",
    "l={}\n",
    "for i in range(n):\n",
    "    l[i]=[i-1,i+1]\n",
    "l[0][0]=None\n",
    "l[n-1][1]=None\n",
    "ptr=k\n",
    "\n",
    "l,ptr"
   ]
  },
  {
   "cell_type": "code",
   "execution_count": 54,
   "id": "c6fdb19e",
   "metadata": {
    "ExecuteTime": {
     "end_time": "2022-08-01T02:12:40.702184Z",
     "start_time": "2022-08-01T02:12:40.696165Z"
    }
   },
   "outputs": [],
   "source": [
    "cmd=[\"D 2\",\"C\",\"U 3\",\"C\",\"D 4\",\"C\",\"U 2\",\"Z\",\"Z\",\"U 1\",\"C\"]\n",
    "cmd=[\"D 2\",\"C\",\"U 3\",\"C\",\"D 4\",\"C\",\"U 2\",\"Z\",\"Z\"]"
   ]
  },
  {
   "cell_type": "code",
   "execution_count": 55,
   "id": "617e8f16",
   "metadata": {
    "ExecuteTime": {
     "end_time": "2022-08-01T02:12:40.946276Z",
     "start_time": "2022-08-01T02:12:40.927188Z"
    }
   },
   "outputs": [
    {
     "name": "stdout",
     "output_type": "stream",
     "text": [
      "{0: [None, 1], 1: [0, 2], 2: [1, 3], 3: [2, 4], 4: [3, 5], 5: [4, 6], 6: [5, 7], 7: [6, None]} ['D', '2'] 2 4 []\n",
      "{0: [None, 1], 1: [0, 2], 2: [1, 3], 3: [2, 4], 4: [3, 5], 5: [4, 6], 6: [5, 7], 7: [6, None]} ['C'] 4 5 [(4, [3, 5])]\n",
      "{0: [None, 1], 1: [0, 2], 2: [1, 3], 3: [2, 5], 4: [3, 5], 5: [3, 6], 6: [5, 7], 7: [6, None]} ['U', '3'] 5 1 [(4, [3, 5])]\n",
      "{0: [None, 1], 1: [0, 2], 2: [1, 3], 3: [2, 5], 4: [3, 5], 5: [3, 6], 6: [5, 7], 7: [6, None]} ['C'] 1 2 [(4, [3, 5]), (1, [0, 2])]\n",
      "{0: [None, 2], 1: [0, 2], 2: [0, 3], 3: [2, 5], 4: [3, 5], 5: [3, 6], 6: [5, 7], 7: [6, None]} ['D', '4'] 2 7 [(4, [3, 5]), (1, [0, 2])]\n",
      "{0: [None, 2], 1: [0, 2], 2: [0, 3], 3: [2, 5], 4: [3, 5], 5: [3, 6], 6: [5, 7], 7: [6, None]} ['C'] 7 6 [(4, [3, 5]), (1, [0, 2]), (7, [6, None])]\n",
      "{0: [None, 2], 1: [0, 2], 2: [0, 3], 3: [2, 5], 4: [3, 5], 5: [3, 6], 6: [5, None], 7: [6, None]} ['U', '2'] 6 3 [(4, [3, 5]), (1, [0, 2]), (7, [6, None])]\n",
      "{0: [None, 2], 1: [0, 2], 2: [0, 3], 3: [2, 5], 4: [3, 5], 5: [3, 6], 6: [5, None], 7: [6, None]} ['Z'] 3 3 [(4, [3, 5]), (1, [0, 2])]\n",
      "{0: [None, 2], 1: [0, 2], 2: [0, 3], 3: [2, 5], 4: [3, 5], 5: [3, 6], 6: [5, 7], 7: [6, None]} ['Z'] 3 3 [(4, [3, 5])]\n",
      "{0: [None, 1], 1: [0, 2], 2: [1, 3], 3: [2, 5], 4: [3, 5], 5: [3, 6], 6: [5, 7], 7: [6, None]} ['U', '1'] 3 2 [(4, [3, 5])]\n",
      "{0: [None, 1], 1: [0, 2], 2: [1, 3], 3: [2, 5], 4: [3, 5], 5: [3, 6], 6: [5, 7], 7: [6, None]} ['C'] 2 3 [(4, [3, 5]), (2, [1, 3])]\n"
     ]
    }
   ],
   "source": [
    "answer=[\"O\"]*n\n",
    "stack=[]\n",
    "for c in cmd:\n",
    "    c=c.split()\n",
    "    # 현재 포인터(ptr) 삭제 -> 다음꺼 가리키기\n",
    "    print(l,c,ptr,end=' ')\n",
    "    if c[0]==\"C\":\n",
    "        pre=l[ptr][0]\n",
    "        nxt=l[ptr][1]\n",
    "        stack.append((ptr,l[ptr]))\n",
    "        answer[ptr]=\"X\"\n",
    "        if pre!=None:\n",
    "            l[pre][1]=nxt\n",
    "        if nxt!=None:\n",
    "            l[nxt][0]=pre\n",
    "        # 마지막꺼 삭제하는 경우\n",
    "        if nxt==None:\n",
    "            ptr=pre\n",
    "        else:\n",
    "            ptr=nxt\n",
    "    # 스택에서 복구\n",
    "    if c[0]==\"Z\":\n",
    "        cur,(pre,nxt)=stack.pop()\n",
    "        answer[cur]=\"O\"\n",
    "        # 첫번쨰껄 복구하는 경우\n",
    "        if pre==None:\n",
    "            l[nxt][0]=cur\n",
    "        # 마지막껄 복구하는 경우\n",
    "        elif nxt==None:\n",
    "            l[pre][1]=cur\n",
    "        else:\n",
    "            l[nxt][0]=cur\n",
    "            l[pre][1]=cur\n",
    "    if c[0]==\"U\":\n",
    "        k=int(c[1])\n",
    "        for i in range(k):\n",
    "            ptr=l[ptr][0]\n",
    "    if c[0]==\"D\":\n",
    "        k=int(c[1])\n",
    "        for i in range(k):\n",
    "            ptr=l[ptr][1]\n",
    "    print(ptr,stack)"
   ]
  },
  {
   "cell_type": "code",
   "execution_count": 56,
   "id": "38fea9a8",
   "metadata": {
    "ExecuteTime": {
     "end_time": "2022-08-01T02:12:42.181478Z",
     "start_time": "2022-08-01T02:12:42.173287Z"
    }
   },
   "outputs": [
    {
     "data": {
      "text/plain": [
       "['O', 'O', 'X', 'O', 'X', 'O', 'O', 'O']"
      ]
     },
     "execution_count": 56,
     "metadata": {},
     "output_type": "execute_result"
    }
   ],
   "source": [
    "answer"
   ]
  },
  {
   "cell_type": "markdown",
   "id": "88b63096",
   "metadata": {},
   "source": [
    "### 내 풀이"
   ]
  },
  {
   "cell_type": "code",
   "execution_count": null,
   "id": "77ded1f0",
   "metadata": {},
   "outputs": [],
   "source": [
    "def solution(n, k, cmd):\n",
    "    li=list(range(n))\n",
    "    stack=[]\n",
    "    for c in cmd:\n",
    "        if c.startswith(\"D\"):\n",
    "            down=int(c.split('D')[1])\n",
    "            k+=down\n",
    "        if c.startswith(\"U\"):\n",
    "            up=int(c.split('U')[1])\n",
    "            k-=up\n",
    "        if c==\"C\":\n",
    "            bf=k\n",
    "            if k==0:\n",
    "                k=0\n",
    "            elif k==len(li)-1:\n",
    "                k=len(li)-2\n",
    "            stack.append((bf,li.pop(bf)))\n",
    "        if c==\"Z\":\n",
    "            idx,v=stack.pop()\n",
    "            li.insert(idx,v)\n",
    "            if idx<=k:\n",
    "                k+=1\n",
    "    return ''.join([\"X\" if i in [i for _,i in stack] else \"O\" for i in range(n)])"
   ]
  },
  {
   "cell_type": "markdown",
   "id": "82f5b1a8",
   "metadata": {},
   "source": [
    "-> 답은 맞는데, 효율성 테스트에서 시간 초과난다."
   ]
  },
  {
   "cell_type": "markdown",
   "id": "8ed2b958",
   "metadata": {},
   "source": [
    "### 연습"
   ]
  },
  {
   "cell_type": "code",
   "execution_count": null,
   "id": "ec705ae9",
   "metadata": {},
   "outputs": [],
   "source": []
  }
 ],
 "metadata": {
  "kernelspec": {
   "display_name": "Python 3",
   "language": "python",
   "name": "python3"
  },
  "language_info": {
   "codemirror_mode": {
    "name": "ipython",
    "version": 3
   },
   "file_extension": ".py",
   "mimetype": "text/x-python",
   "name": "python",
   "nbconvert_exporter": "python",
   "pygments_lexer": "ipython3",
   "version": "3.8.12"
  },
  "toc": {
   "base_numbering": 1,
   "nav_menu": {},
   "number_sections": true,
   "sideBar": true,
   "skip_h1_title": false,
   "title_cell": "Table of Contents",
   "title_sidebar": "Contents",
   "toc_cell": false,
   "toc_position": {},
   "toc_section_display": true,
   "toc_window_display": false
  }
 },
 "nbformat": 4,
 "nbformat_minor": 5
}
