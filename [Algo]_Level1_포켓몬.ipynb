{
 "cells": [
  {
   "cell_type": "markdown",
   "id": "88b63096",
   "metadata": {},
   "source": [
    "### 제출 풀이"
   ]
  },
  {
   "cell_type": "code",
   "execution_count": 12,
   "id": "b8d03710",
   "metadata": {
    "ExecuteTime": {
     "end_time": "2022-07-29T07:30:46.456915Z",
     "start_time": "2022-07-29T07:30:46.444319Z"
    }
   },
   "outputs": [],
   "source": [
    "def solution(nums):\n",
    "    g=len(nums)//2\n",
    "    k=len(set(nums))\n",
    "    return g if k>g else k"
   ]
  },
  {
   "cell_type": "markdown",
   "id": "fe805f8b",
   "metadata": {},
   "source": [
    "### 짧고 괜찮은 풀이"
   ]
  },
  {
   "cell_type": "code",
   "execution_count": 13,
   "id": "2c5c9069",
   "metadata": {
    "ExecuteTime": {
     "end_time": "2022-07-29T07:31:08.589115Z",
     "start_time": "2022-07-29T07:31:08.583573Z"
    }
   },
   "outputs": [],
   "source": [
    "def solution(ls):\n",
    "    return min(len(ls)/2, len(set(ls)))"
   ]
  },
  {
   "cell_type": "markdown",
   "id": "6f8cbe34",
   "metadata": {},
   "source": [
    "### 연습"
   ]
  },
  {
   "cell_type": "code",
   "execution_count": 8,
   "id": "ef057cb6",
   "metadata": {
    "ExecuteTime": {
     "end_time": "2022-07-29T07:29:11.544562Z",
     "start_time": "2022-07-29T07:29:11.536700Z"
    }
   },
   "outputs": [],
   "source": [
    "nums=[3,1,2,3]"
   ]
  },
  {
   "cell_type": "code",
   "execution_count": 9,
   "id": "acc95fe5",
   "metadata": {
    "ExecuteTime": {
     "end_time": "2022-07-29T07:29:11.798754Z",
     "start_time": "2022-07-29T07:29:11.789282Z"
    }
   },
   "outputs": [
    {
     "data": {
      "text/plain": [
       "2"
      ]
     },
     "execution_count": 9,
     "metadata": {},
     "output_type": "execute_result"
    }
   ],
   "source": [
    "g=len(nums)//2\n",
    "g\n",
    "\n",
    "k=len(set(nums))\n",
    "k\n",
    "\n",
    "g if k>g else k"
   ]
  }
 ],
 "metadata": {
  "kernelspec": {
   "display_name": "Python 3",
   "language": "python",
   "name": "python3"
  },
  "language_info": {
   "codemirror_mode": {
    "name": "ipython",
    "version": 3
   },
   "file_extension": ".py",
   "mimetype": "text/x-python",
   "name": "python",
   "nbconvert_exporter": "python",
   "pygments_lexer": "ipython3",
   "version": "3.8.12"
  },
  "toc": {
   "base_numbering": 1,
   "nav_menu": {},
   "number_sections": true,
   "sideBar": true,
   "skip_h1_title": false,
   "title_cell": "Table of Contents",
   "title_sidebar": "Contents",
   "toc_cell": false,
   "toc_position": {},
   "toc_section_display": true,
   "toc_window_display": false
  }
 },
 "nbformat": 4,
 "nbformat_minor": 5
}
