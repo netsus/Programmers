{
 "cells": [
  {
   "cell_type": "markdown",
   "id": "0e4c9d43",
   "metadata": {},
   "source": [
    "### 문제\n",
    "https://school.programmers.co.kr/learn/courses/30/lessons/62048"
   ]
  },
  {
   "cell_type": "code",
   "execution_count": null,
   "id": "fc6e3ac9",
   "metadata": {},
   "outputs": [],
   "source": [
    "! # 시작시간 체크"
   ]
  },
  {
   "cell_type": "code",
   "execution_count": null,
   "id": "50c1b0eb",
   "metadata": {},
   "outputs": [],
   "source": [
    "! # 끝 시간 체크"
   ]
  },
  {
   "cell_type": "markdown",
   "id": "88b63096",
   "metadata": {},
   "source": [
    "### 내 풀이\n",
    "아래 링크 참조\n",
    "https://leedakyeong.tistory.com/135#comment16270807\n",
    "\n",
    "    대각선이 점을 지나며 똑같은 패턴이 반복되는 것을 최대공약수로 찾는다.\n",
    "    예를 들어, w가 8 h가 12 일때, w가 2, h가 3인게 4번 반복된다고 볼 수 있다.\n",
    "    그럼 2,3인 직사각형에서 대각선이 지나가는 사각형의 개수를 어떻게 알 수 있을까?\n",
    "    대각선이 지나면서 각 사각형의 윗면이나 왼쪽면을 뚫고 지나갈 것이다. 이때 점을 지나지 않으므로, 윗면이나 왼쪽면 둘 중에서만 뚫고 지나간다.\n",
    "    즉, 윗면이 뚫린다는 것은 세로 개수의 사각형과 동일할 것이고, 왼쪽면이 뚫리는 것은 가로개수와 동일할 것이다.\n",
    "    하지만, 맨 첫번째 사각형은 점으로 들어왔으므로, 세로 개수, 가로 개수에 모두 포함되기 때문에 1을 뺴줘야 한다.\n",
    "    그래서 w+h-1 이 최대 공약수 개수만큼 반복되면 -> 그 사각형 개수가 대각선이 지나가는 사각형의 개수이다."
   ]
  },
  {
   "cell_type": "code",
   "execution_count": 13,
   "id": "77ded1f0",
   "metadata": {
    "ExecuteTime": {
     "end_time": "2022-08-19T15:33:13.666229Z",
     "start_time": "2022-08-19T15:33:13.657532Z"
    }
   },
   "outputs": [],
   "source": [
    "import math as m\n",
    "def solution(w,h):\n",
    "    return w*h - (w+h-m.gcd(w,h))"
   ]
  },
  {
   "cell_type": "code",
   "execution_count": 12,
   "id": "f0a44614",
   "metadata": {
    "ExecuteTime": {
     "end_time": "2022-08-19T15:32:04.796238Z",
     "start_time": "2022-08-19T15:32:04.786279Z"
    }
   },
   "outputs": [
    {
     "data": {
      "text/plain": [
       "16"
      ]
     },
     "execution_count": 12,
     "metadata": {},
     "output_type": "execute_result"
    }
   ],
   "source": [
    "solution(8,12)"
   ]
  },
  {
   "cell_type": "code",
   "execution_count": 4,
   "id": "f36ff07c",
   "metadata": {
    "ExecuteTime": {
     "end_time": "2022-08-19T11:57:50.414022Z",
     "start_time": "2022-08-19T11:57:50.404269Z"
    }
   },
   "outputs": [
    {
     "data": {
      "text/plain": [
       "4"
      ]
     },
     "execution_count": 4,
     "metadata": {},
     "output_type": "execute_result"
    }
   ],
   "source": [
    "solution(3,1)"
   ]
  },
  {
   "cell_type": "markdown",
   "id": "8ed2b958",
   "metadata": {},
   "source": [
    "### 연습"
   ]
  },
  {
   "cell_type": "code",
   "execution_count": 9,
   "id": "25b64834",
   "metadata": {
    "ExecuteTime": {
     "end_time": "2022-08-19T15:30:30.258377Z",
     "start_time": "2022-08-19T15:30:30.252704Z"
    }
   },
   "outputs": [],
   "source": [
    "w,h=8,12"
   ]
  },
  {
   "cell_type": "code",
   "execution_count": 10,
   "id": "69a842d9",
   "metadata": {
    "ExecuteTime": {
     "end_time": "2022-08-19T15:30:32.996705Z",
     "start_time": "2022-08-19T15:30:32.989407Z"
    }
   },
   "outputs": [
    {
     "data": {
      "text/plain": [
       "4"
      ]
     },
     "execution_count": 10,
     "metadata": {},
     "output_type": "execute_result"
    }
   ],
   "source": [
    "import math as m\n",
    "m.gcd(w,h)"
   ]
  },
  {
   "cell_type": "code",
   "execution_count": 7,
   "id": "08e490cb",
   "metadata": {
    "ExecuteTime": {
     "end_time": "2022-08-19T11:59:04.047630Z",
     "start_time": "2022-08-19T11:59:04.034500Z"
    }
   },
   "outputs": [
    {
     "name": "stdout",
     "output_type": "stream",
     "text": [
      "0 3 1\n",
      "1 2 1\n",
      "2 1 1\n"
     ]
    },
    {
     "data": {
      "text/plain": [
       "4"
      ]
     },
     "execution_count": 7,
     "metadata": {},
     "output_type": "execute_result"
    }
   ],
   "source": [
    "t=w*h\n",
    "c=0\n",
    "print(c,w,h)\n",
    "while w!=h:\n",
    "    if w>h:\n",
    "        w,h = w-h,h\n",
    "    elif w<h:\n",
    "        w,h = w,h-w\n",
    "    c+=1\n",
    "    print(c,w,h)\n",
    "\n",
    "w*(2**c)"
   ]
  },
  {
   "cell_type": "code",
   "execution_count": null,
   "id": "d07c4273",
   "metadata": {},
   "outputs": [],
   "source": [
    "if w>h:\n",
    "    w-h, h\n",
    "elif w<h:\n",
    "    w, h-w\n",
    "else:\n",
    "    return w"
   ]
  },
  {
   "cell_type": "code",
   "execution_count": null,
   "id": "ec705ae9",
   "metadata": {},
   "outputs": [],
   "source": []
  }
 ],
 "metadata": {
  "kernelspec": {
   "display_name": "Python 3",
   "language": "python",
   "name": "python3"
  },
  "language_info": {
   "codemirror_mode": {
    "name": "ipython",
    "version": 3
   },
   "file_extension": ".py",
   "mimetype": "text/x-python",
   "name": "python",
   "nbconvert_exporter": "python",
   "pygments_lexer": "ipython3",
   "version": "3.8.12"
  },
  "toc": {
   "base_numbering": 1,
   "nav_menu": {},
   "number_sections": true,
   "sideBar": true,
   "skip_h1_title": false,
   "title_cell": "Table of Contents",
   "title_sidebar": "Contents",
   "toc_cell": false,
   "toc_position": {},
   "toc_section_display": true,
   "toc_window_display": false
  }
 },
 "nbformat": 4,
 "nbformat_minor": 5
}
