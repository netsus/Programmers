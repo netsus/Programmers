{
 "cells": [
  {
   "cell_type": "markdown",
   "id": "0e4c9d43",
   "metadata": {},
   "source": [
    "### 문제\n"
   ]
  },
  {
   "cell_type": "markdown",
   "id": "bb30a7c7",
   "metadata": {},
   "source": [
    "문자열이 주어진다. 각 문자열을 종이 조각이라고 생각하고, 조합하여 만들 수 있는 소수가 몇개인지 출력"
   ]
  },
  {
   "cell_type": "markdown",
   "id": "88b63096",
   "metadata": {},
   "source": [
    "### 내 풀이"
   ]
  },
  {
   "cell_type": "code",
   "execution_count": null,
   "id": "77ded1f0",
   "metadata": {},
   "outputs": [],
   "source": [
    "def solution(numbers):\n",
    "    from itertools import permutations\n",
    "    def primenumber(x):\n",
    "        for i in range (2, int(x**(1/2))+1):\t# 2부터 x의 제곱근까지의 숫자\n",
    "            if x % i == 0:\t\t# 나눠떨어지는 숫자가 있으면 소수가 아님\n",
    "                return False\n",
    "        return True if x>1 else False\n",
    "    result=[]\n",
    "    for i in range(1,len(numbers)+1):\n",
    "        for comb in permutations(numbers,i):\n",
    "            num=int(''.join(comb))\n",
    "            if num not in result and primenumber(num):\n",
    "                result.append(num)\n",
    "    return len(result)"
   ]
  },
  {
   "cell_type": "markdown",
   "id": "8ed2b958",
   "metadata": {},
   "source": [
    "### 연습"
   ]
  },
  {
   "cell_type": "code",
   "execution_count": null,
   "id": "ec705ae9",
   "metadata": {},
   "outputs": [],
   "source": [
    "!"
   ]
  }
 ],
 "metadata": {
  "kernelspec": {
   "display_name": "Python 3",
   "language": "python",
   "name": "python3"
  },
  "language_info": {
   "codemirror_mode": {
    "name": "ipython",
    "version": 3
   },
   "file_extension": ".py",
   "mimetype": "text/x-python",
   "name": "python",
   "nbconvert_exporter": "python",
   "pygments_lexer": "ipython3",
   "version": "3.8.12"
  },
  "toc": {
   "base_numbering": 1,
   "nav_menu": {},
   "number_sections": true,
   "sideBar": true,
   "skip_h1_title": false,
   "title_cell": "Table of Contents",
   "title_sidebar": "Contents",
   "toc_cell": false,
   "toc_position": {},
   "toc_section_display": true,
   "toc_window_display": false
  }
 },
 "nbformat": 4,
 "nbformat_minor": 5
}
