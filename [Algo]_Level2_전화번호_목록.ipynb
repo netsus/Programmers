{
 "cells": [
  {
   "cell_type": "markdown",
   "id": "88b63096",
   "metadata": {},
   "source": [
    "### 내 풀이"
   ]
  },
  {
   "cell_type": "code",
   "execution_count": 44,
   "id": "77ded1f0",
   "metadata": {
    "ExecuteTime": {
     "end_time": "2022-07-29T07:47:43.547771Z",
     "start_time": "2022-07-29T07:47:43.536596Z"
    }
   },
   "outputs": [],
   "source": [
    "def solution(phone_book):\n",
    "    phone_book.sort()\n",
    "    for i in range(0,len(phone_book)-1):\n",
    "        if phone_book[i+1].startswith(phone_book[i]):\n",
    "            return False\n",
    "    return True"
   ]
  },
  {
   "cell_type": "code",
   "execution_count": 45,
   "id": "278c6cd6",
   "metadata": {
    "ExecuteTime": {
     "end_time": "2022-07-29T07:47:43.852133Z",
     "start_time": "2022-07-29T07:47:43.843795Z"
    }
   },
   "outputs": [
    {
     "data": {
      "text/plain": [
       "False"
      ]
     },
     "execution_count": 45,
     "metadata": {},
     "output_type": "execute_result"
    }
   ],
   "source": [
    "solution(phone_book)"
   ]
  },
  {
   "cell_type": "markdown",
   "id": "c759888c",
   "metadata": {},
   "source": [
    "### 연습"
   ]
  },
  {
   "cell_type": "code",
   "execution_count": 28,
   "id": "385dad07",
   "metadata": {
    "ExecuteTime": {
     "end_time": "2022-07-29T07:43:48.484573Z",
     "start_time": "2022-07-29T07:43:48.475302Z"
    }
   },
   "outputs": [],
   "source": [
    "phone_book=[\"12\",\"12333444\",\"1235\",\"567\",\"88\", \"112\"]"
   ]
  },
  {
   "cell_type": "code",
   "execution_count": 37,
   "id": "1cde762b",
   "metadata": {
    "ExecuteTime": {
     "end_time": "2022-07-29T07:45:25.936848Z",
     "start_time": "2022-07-29T07:45:25.928742Z"
    }
   },
   "outputs": [],
   "source": [
    "phone_book=[\"1\",\"12\"]"
   ]
  },
  {
   "cell_type": "code",
   "execution_count": 19,
   "id": "457c1919",
   "metadata": {
    "ExecuteTime": {
     "end_time": "2022-07-29T07:43:07.397786Z",
     "start_time": "2022-07-29T07:43:07.391140Z"
    }
   },
   "outputs": [],
   "source": [
    "phone_book=[\"119\", \"97674223\", \"1195524421\"]"
   ]
  },
  {
   "cell_type": "code",
   "execution_count": 29,
   "id": "bdd13bd6",
   "metadata": {
    "ExecuteTime": {
     "end_time": "2022-07-29T07:43:49.145063Z",
     "start_time": "2022-07-29T07:43:49.140104Z"
    }
   },
   "outputs": [],
   "source": [
    "phone_book.sort()"
   ]
  },
  {
   "cell_type": "code",
   "execution_count": 41,
   "id": "f1792ab4",
   "metadata": {
    "ExecuteTime": {
     "end_time": "2022-07-29T07:46:55.933975Z",
     "start_time": "2022-07-29T07:46:55.913422Z"
    }
   },
   "outputs": [
    {
     "data": {
      "text/plain": [
       "True"
      ]
     },
     "execution_count": 41,
     "metadata": {},
     "output_type": "execute_result"
    }
   ],
   "source": [
    "phone_book[1].startswith(phone_book[0])"
   ]
  },
  {
   "cell_type": "code",
   "execution_count": 3,
   "id": "5b5f8370",
   "metadata": {
    "ExecuteTime": {
     "end_time": "2022-07-29T07:35:55.691822Z",
     "start_time": "2022-07-29T07:35:55.680767Z"
    }
   },
   "outputs": [
    {
     "name": "stdout",
     "output_type": "stream",
     "text": [
      "0\n",
      "2\n"
     ]
    }
   ],
   "source": [
    "for i in range(0,len(phone_book)-1):\n",
    "    if phone_book[i] in phone_book[i+1]:\n",
    "        return False\n",
    "return True"
   ]
  },
  {
   "cell_type": "code",
   "execution_count": null,
   "id": "45347c4b",
   "metadata": {},
   "outputs": [],
   "source": []
  }
 ],
 "metadata": {
  "kernelspec": {
   "display_name": "Python 3",
   "language": "python",
   "name": "python3"
  },
  "language_info": {
   "codemirror_mode": {
    "name": "ipython",
    "version": 3
   },
   "file_extension": ".py",
   "mimetype": "text/x-python",
   "name": "python",
   "nbconvert_exporter": "python",
   "pygments_lexer": "ipython3",
   "version": "3.8.12"
  },
  "toc": {
   "base_numbering": 1,
   "nav_menu": {},
   "number_sections": true,
   "sideBar": true,
   "skip_h1_title": false,
   "title_cell": "Table of Contents",
   "title_sidebar": "Contents",
   "toc_cell": false,
   "toc_position": {},
   "toc_section_display": true,
   "toc_window_display": false
  }
 },
 "nbformat": 4,
 "nbformat_minor": 5
}
