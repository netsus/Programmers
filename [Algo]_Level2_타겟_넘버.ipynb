{
 "cells": [
  {
   "cell_type": "markdown",
   "id": "0e4c9d43",
   "metadata": {},
   "source": [
    "### 문제\n"
   ]
  },
  {
   "cell_type": "code",
   "execution_count": 1,
   "id": "fc6e3ac9",
   "metadata": {
    "ExecuteTime": {
     "end_time": "2022-08-05T15:12:38.637527Z",
     "start_time": "2022-08-05T15:12:38.504065Z"
    }
   },
   "outputs": [],
   "source": [
    "! # 시작시간 체크"
   ]
  },
  {
   "cell_type": "markdown",
   "id": "56da5444",
   "metadata": {},
   "source": [
    "    문제: n개의 음이 아닌 정수들, 순서바꾸지않고 앞에 +나 -를 해서, 타겟 넘버 만드는 경우의수 출력\n",
    "\n",
    "    조건\n",
    "    주어지는 숫자의 개수는 2개 이상 20개 이하입니다.\n",
    "    각 숫자는 1 이상 50 이하인 자연수입니다.\n",
    "    타겟 넘버는 1 이상 1000 이하인 자연수입니다."
   ]
  },
  {
   "cell_type": "code",
   "execution_count": 2,
   "id": "50c1b0eb",
   "metadata": {
    "ExecuteTime": {
     "end_time": "2022-08-05T15:14:08.508381Z",
     "start_time": "2022-08-05T15:14:08.368101Z"
    }
   },
   "outputs": [],
   "source": [
    "! # 끝 시간 체크"
   ]
  },
  {
   "cell_type": "markdown",
   "id": "88b63096",
   "metadata": {},
   "source": [
    "### 내 풀이\n",
    "    브루트포스로 하기엔, 다시 계산되는 경우의 수가 너무 많다.\n",
    "    맨앞이 +,-인 경우 그다음이 +,-인 경우 둘씩 쪼개져서 한번만 연산되어야 한다.\n",
    "    한 층 내려갈때를 반복해서 BFS 연산"
   ]
  },
  {
   "cell_type": "code",
   "execution_count": null,
   "id": "fbef08dd",
   "metadata": {},
   "outputs": [],
   "source": [
    "def solution(numbers, target):\n",
    "    from collections import deque\n",
    "    twof = lambda x: (x,x*-1)\n",
    "    q=deque(twof(numbers[0]))\n",
    "    idx=1;cnt=0\n",
    "    while q and idx<len(numbers):\n",
    "        for _ in range(len(q)):\n",
    "            c=q.popleft()\n",
    "            for k in twof(numbers[idx]):\n",
    "                new=c+k\n",
    "                q.append(new)\n",
    "        idx+=1\n",
    "    return q.count(target)"
   ]
  },
  {
   "cell_type": "markdown",
   "id": "a3df8b71",
   "metadata": {},
   "source": [
    "### 내 풀이보다 2배 빠른 다른사람 풀이"
   ]
  },
  {
   "cell_type": "code",
   "execution_count": 66,
   "id": "d97e00a8",
   "metadata": {
    "ExecuteTime": {
     "end_time": "2022-08-05T15:41:03.907296Z",
     "start_time": "2022-08-05T15:41:03.892945Z"
    }
   },
   "outputs": [],
   "source": [
    "from itertools import product\n",
    "def solution(numbers, target):\n",
    "    l = [(x, -x) for x in numbers]\n",
    "    s = list(map(sum, product(*l)))\n",
    "    return s.count(target)"
   ]
  },
  {
   "cell_type": "code",
   "execution_count": 63,
   "id": "c3708327",
   "metadata": {
    "ExecuteTime": {
     "end_time": "2022-08-05T15:40:49.758237Z",
     "start_time": "2022-08-05T15:40:49.740786Z"
    }
   },
   "outputs": [],
   "source": [
    "l = [(x, -x) for x in numbers]"
   ]
  },
  {
   "cell_type": "code",
   "execution_count": 73,
   "id": "2b528c45",
   "metadata": {
    "ExecuteTime": {
     "end_time": "2022-08-05T15:41:39.053886Z",
     "start_time": "2022-08-05T15:41:39.047316Z"
    }
   },
   "outputs": [
    {
     "data": {
      "text/plain": [
       "[(4, 1, 2, 1),\n",
       " (4, 1, 2, -1),\n",
       " (4, 1, -2, 1),\n",
       " (4, 1, -2, -1),\n",
       " (4, -1, 2, 1),\n",
       " (4, -1, 2, -1),\n",
       " (4, -1, -2, 1),\n",
       " (4, -1, -2, -1),\n",
       " (-4, 1, 2, 1),\n",
       " (-4, 1, 2, -1),\n",
       " (-4, 1, -2, 1),\n",
       " (-4, 1, -2, -1),\n",
       " (-4, -1, 2, 1),\n",
       " (-4, -1, 2, -1),\n",
       " (-4, -1, -2, 1),\n",
       " (-4, -1, -2, -1)]"
      ]
     },
     "execution_count": 73,
     "metadata": {},
     "output_type": "execute_result"
    }
   ],
   "source": [
    "list(product(*l))"
   ]
  },
  {
   "cell_type": "code",
   "execution_count": null,
   "id": "80bdc5ad",
   "metadata": {},
   "outputs": [],
   "source": []
  },
  {
   "cell_type": "markdown",
   "id": "c60f7dcc",
   "metadata": {},
   "source": [
    "### 연습"
   ]
  },
  {
   "cell_type": "code",
   "execution_count": 7,
   "id": "77ded1f0",
   "metadata": {
    "ExecuteTime": {
     "end_time": "2022-08-05T15:18:41.555051Z",
     "start_time": "2022-08-05T15:18:41.547970Z"
    }
   },
   "outputs": [],
   "source": [
    "numbers=[1,1,1,1,1]\n",
    "target=3\n",
    "# return 5"
   ]
  },
  {
   "cell_type": "code",
   "execution_count": 58,
   "id": "fc1c2c48",
   "metadata": {
    "ExecuteTime": {
     "end_time": "2022-08-05T15:34:55.427578Z",
     "start_time": "2022-08-05T15:34:55.420160Z"
    }
   },
   "outputs": [],
   "source": [
    "numbers=[4,1,2,1]\n",
    "target=4\n",
    "# return 5"
   ]
  },
  {
   "cell_type": "code",
   "execution_count": 59,
   "id": "5c5bb7b5",
   "metadata": {
    "ExecuteTime": {
     "end_time": "2022-08-05T15:34:55.754261Z",
     "start_time": "2022-08-05T15:34:55.741029Z"
    },
    "scrolled": true
   },
   "outputs": [
    {
     "data": {
      "text/plain": [
       "deque([4, -4])"
      ]
     },
     "execution_count": 59,
     "metadata": {},
     "output_type": "execute_result"
    }
   ],
   "source": [
    "from collections import deque\n",
    "twof = lambda x: (x,x*-1)\n",
    "q=deque(twof(numbers[0]))"
   ]
  },
  {
   "cell_type": "code",
   "execution_count": 60,
   "id": "9afe52ce",
   "metadata": {
    "ExecuteTime": {
     "end_time": "2022-08-05T15:34:57.329305Z",
     "start_time": "2022-08-05T15:34:57.320357Z"
    }
   },
   "outputs": [
    {
     "data": {
      "text/plain": [
       "4"
      ]
     },
     "execution_count": 60,
     "metadata": {},
     "output_type": "execute_result"
    }
   ],
   "source": [
    "len(numbers)"
   ]
  },
  {
   "cell_type": "code",
   "execution_count": 61,
   "id": "838a93a4",
   "metadata": {
    "ExecuteTime": {
     "end_time": "2022-08-05T15:34:58.272331Z",
     "start_time": "2022-08-05T15:34:58.258576Z"
    }
   },
   "outputs": [
    {
     "name": "stdout",
     "output_type": "stream",
     "text": [
      ">>>>>> 1 deque([5, 3, -3, -5])\n",
      ">>>>>> 2 deque([7, 3, 5, 1, -1, -5, -3, -7])\n",
      ">>>>>> 3 deque([8, 6, 4, 2, 6, 4, 2, 0, 0, -2, -4, -6, -2, -4, -6, -8])\n"
     ]
    }
   ],
   "source": [
    "idx=1;cnt=0\n",
    "while q and idx<len(numbers):\n",
    "    for _ in range(len(q)):\n",
    "        c=q.popleft()\n",
    "        for k in twof(numbers[idx]):\n",
    "            new=c+k\n",
    "            q.append(new)\n",
    "    idx+=1\n",
    "    print('>>>>>>',idx-1,q)"
   ]
  },
  {
   "cell_type": "code",
   "execution_count": 62,
   "id": "b32d3aa5",
   "metadata": {
    "ExecuteTime": {
     "end_time": "2022-08-05T15:34:58.856772Z",
     "start_time": "2022-08-05T15:34:58.845701Z"
    }
   },
   "outputs": [
    {
     "data": {
      "text/plain": [
       "2"
      ]
     },
     "execution_count": 62,
     "metadata": {},
     "output_type": "execute_result"
    }
   ],
   "source": [
    "q.count(target)"
   ]
  },
  {
   "cell_type": "markdown",
   "id": "8ed2b958",
   "metadata": {},
   "source": [
    "### 연습"
   ]
  },
  {
   "cell_type": "code",
   "execution_count": null,
   "id": "ec705ae9",
   "metadata": {},
   "outputs": [],
   "source": []
  }
 ],
 "metadata": {
  "kernelspec": {
   "display_name": "Python 3",
   "language": "python",
   "name": "python3"
  },
  "language_info": {
   "codemirror_mode": {
    "name": "ipython",
    "version": 3
   },
   "file_extension": ".py",
   "mimetype": "text/x-python",
   "name": "python",
   "nbconvert_exporter": "python",
   "pygments_lexer": "ipython3",
   "version": "3.8.12"
  },
  "toc": {
   "base_numbering": 1,
   "nav_menu": {},
   "number_sections": true,
   "sideBar": true,
   "skip_h1_title": false,
   "title_cell": "Table of Contents",
   "title_sidebar": "Contents",
   "toc_cell": false,
   "toc_position": {},
   "toc_section_display": true,
   "toc_window_display": false
  }
 },
 "nbformat": 4,
 "nbformat_minor": 5
}
