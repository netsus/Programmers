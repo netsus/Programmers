{
 "cells": [
  {
   "cell_type": "markdown",
   "id": "88b63096",
   "metadata": {},
   "source": [
    "### 내 풀이"
   ]
  },
  {
   "cell_type": "code",
   "execution_count": null,
   "id": "657779c3",
   "metadata": {},
   "outputs": [],
   "source": [
    "from itertools import product as H\n",
    "import sys\n",
    "f_o=[\"+\",\"-\",\"*\",\"//\"]\n",
    "dp = [[]]+[[i*str(N)] for i in range(1,9)]\n",
    "def D(k):\n",
    "    return [i for i in H(range(k), repeat=2) if sum(i)==k]\n",
    "\n",
    "for i in range(2,9):\n",
    "    for idx in D(i):\n",
    "        for a in dp[idx[0]]:\n",
    "            for b in dp[idx[1]]:\n",
    "                for op in f_o:\n",
    "                    try:\n",
    "                        result=eval(f\"{a}{op}{b}\")\n",
    "                        if str(result) not in dp[i]:\n",
    "                            dp[i].append(str(result))\n",
    "                    except:\n",
    "                        pass\n",
    "                    else:\n",
    "                        if result==n:\n",
    "                            return n\n",
    "return -1"
   ]
  },
  {
   "cell_type": "code",
   "execution_count": 4,
   "id": "77ded1f0",
   "metadata": {
    "ExecuteTime": {
     "end_time": "2022-07-28T16:20:53.670835Z",
     "start_time": "2022-07-28T16:20:53.651596Z"
    }
   },
   "outputs": [
    {
     "data": {
      "text/plain": [
       "[[],\n",
       " ['5'],\n",
       " ['55'],\n",
       " ['555'],\n",
       " ['5555'],\n",
       " ['55555'],\n",
       " ['555555'],\n",
       " ['5555555'],\n",
       " ['55555555']]"
      ]
     },
     "execution_count": 4,
     "metadata": {},
     "output_type": "execute_result"
    }
   ],
   "source": [
    "N=5\n",
    "n=12\n",
    "f_o=[\"+\",\"-\",\"*\",\"//\"]\n",
    "dp = [[]]+[[i*str(N)] for i in range(1,9)]\n",
    "dp"
   ]
  },
  {
   "cell_type": "code",
   "execution_count": 5,
   "id": "ceaae50b",
   "metadata": {
    "ExecuteTime": {
     "end_time": "2022-07-28T16:20:54.620854Z",
     "start_time": "2022-07-28T16:20:54.615102Z"
    }
   },
   "outputs": [],
   "source": [
    "from itertools import product as H\n",
    "def D(k):\n",
    "    return [i for i in H(range(k), repeat=2) if sum(i)==k]"
   ]
  },
  {
   "cell_type": "code",
   "execution_count": 6,
   "id": "73b277d0",
   "metadata": {
    "ExecuteTime": {
     "end_time": "2022-07-28T16:20:54.965217Z",
     "start_time": "2022-07-28T16:20:54.958973Z"
    }
   },
   "outputs": [
    {
     "data": {
      "text/plain": [
       "[(1, 3), (2, 2), (3, 1)]"
      ]
     },
     "execution_count": 6,
     "metadata": {},
     "output_type": "execute_result"
    }
   ],
   "source": [
    "D(4)"
   ]
  },
  {
   "cell_type": "code",
   "execution_count": 7,
   "id": "4220e20c",
   "metadata": {
    "ExecuteTime": {
     "end_time": "2022-07-28T16:21:00.650828Z",
     "start_time": "2022-07-28T16:21:00.633331Z"
    }
   },
   "outputs": [
    {
     "name": "stdout",
     "output_type": "stream",
     "text": [
      "4\n"
     ]
    },
    {
     "ename": "SystemExit",
     "evalue": "",
     "output_type": "error",
     "traceback": [
      "An exception has occurred, use %tb to see the full traceback.\n",
      "\u001b[0;31mSystemExit\u001b[0m\n"
     ]
    },
    {
     "name": "stderr",
     "output_type": "stream",
     "text": [
      "/Users/cwj/miniconda3/envs/tf25/lib/python3.8/site-packages/IPython/core/interactiveshell.py:3465: UserWarning: To exit: use 'exit', 'quit', or Ctrl-D.\n",
      "  warn(\"To exit: use 'exit', 'quit', or Ctrl-D.\", stacklevel=1)\n"
     ]
    }
   ],
   "source": [
    "import sys\n",
    "for i in range(2,9):\n",
    "    for idx in D(i):\n",
    "        for a in dp[idx[0]]:\n",
    "            for b in dp[idx[1]]:\n",
    "                for op in f_o:\n",
    "                    try:\n",
    "                        result=eval(f\"{a}{op}{b}\")\n",
    "                        if str(result) not in dp[i]:\n",
    "                            dp[i].append(str(result))\n",
    "                    except:\n",
    "                        pass\n",
    "                    else:\n",
    "                        if result==n:\n",
    "                            print(i)\n",
    "                            sys.exit()"
   ]
  },
  {
   "cell_type": "code",
   "execution_count": null,
   "id": "a5fb5647",
   "metadata": {
    "ExecuteTime": {
     "end_time": "2022-07-29T05:50:30.924169Z",
     "start_time": "2022-07-29T05:50:29.386293Z"
    }
   },
   "outputs": [],
   "source": [
    "from itertools import product as H\n",
    "import sys\n",
    "n=12\n",
    "N=5\n",
    "f_o=[\"+\",\"-\",\"*\",\"//\"]\n",
    "dp = [[]]+[[i*str(N)] for i in range(1,9)]\n",
    "def D(k):\n",
    "    return [i for i in H(range(k), repeat=2) if sum(i)==k]\n",
    "\n",
    "for i in range(2,9):\n",
    "    for idx in D(i):\n",
    "        for a in dp[idx[0]]:\n",
    "            for b in dp[idx[1]]:\n",
    "                for op in f_o:\n",
    "                    try:\n",
    "                        result=eval(f\"{a}{op}{b}\")\n",
    "                        if str(result) not in dp[i]:\n",
    "                            dp[i].append(str(result))\n",
    "                    except:\n",
    "                        pass\n",
    "                    else:\n",
    "                        if result==n:\n",
    "                            print()"
   ]
  },
  {
   "cell_type": "code",
   "execution_count": 11,
   "id": "51fb7e9a",
   "metadata": {
    "ExecuteTime": {
     "end_time": "2022-07-29T05:51:01.971424Z",
     "start_time": "2022-07-29T05:51:01.956630Z"
    }
   },
   "outputs": [],
   "source": [
    "def solution(N, number):\n",
    "    from itertools import product as H\n",
    "    import sys\n",
    "    n=number\n",
    "    f_o=[\"+\",\"-\",\"*\",\"//\"]\n",
    "    dp = [[]]+[[i*str(N)] for i in range(1,9)]\n",
    "    def D(k):\n",
    "        return [i for i in H(range(k), repeat=2) if sum(i)==k]\n",
    "\n",
    "    for i in range(2,9):\n",
    "        for idx in D(i):\n",
    "            for a in dp[idx[0]]:\n",
    "                for b in dp[idx[1]]:\n",
    "                    for op in f_o:\n",
    "                        try:\n",
    "                            result=eval(f\"{a}{op}{b}\")\n",
    "                            if str(result) not in dp[i]:\n",
    "                                dp[i].append(str(result))\n",
    "                        except:\n",
    "                            pass\n",
    "                        else:\n",
    "                            if result==n:\n",
    "                                return i\n",
    "    return -1"
   ]
  },
  {
   "cell_type": "code",
   "execution_count": 17,
   "id": "2240a8bd",
   "metadata": {
    "ExecuteTime": {
     "end_time": "2022-07-29T06:58:40.581151Z",
     "start_time": "2022-07-29T06:58:40.570940Z"
    }
   },
   "outputs": [],
   "source": [
    "N=5\n",
    "dp = [[]]+[[i*str(N)] for i in range(1,9)]"
   ]
  },
  {
   "cell_type": "code",
   "execution_count": 19,
   "id": "3a9a878b",
   "metadata": {
    "ExecuteTime": {
     "end_time": "2022-07-29T06:58:58.029354Z",
     "start_time": "2022-07-29T06:58:58.025984Z"
    }
   },
   "outputs": [],
   "source": [
    "n=55"
   ]
  },
  {
   "cell_type": "code",
   "execution_count": 20,
   "id": "ebffdf04",
   "metadata": {
    "ExecuteTime": {
     "end_time": "2022-07-29T06:59:16.842194Z",
     "start_time": "2022-07-29T06:59:16.832471Z"
    }
   },
   "outputs": [
    {
     "data": {
      "text/plain": [
       "True"
      ]
     },
     "execution_count": 20,
     "metadata": {},
     "output_type": "execute_result"
    }
   ],
   "source": [
    "if [str(n)] in dp:\n",
    "    return dp.index([str(n)])"
   ]
  },
  {
   "cell_type": "markdown",
   "id": "5d234e70",
   "metadata": {
    "ExecuteTime": {
     "end_time": "2022-07-29T07:22:43.469761Z",
     "start_time": "2022-07-29T07:22:43.464452Z"
    }
   },
   "source": [
    "### 제출 풀이"
   ]
  },
  {
   "cell_type": "code",
   "execution_count": 22,
   "id": "06b7a8d5",
   "metadata": {
    "ExecuteTime": {
     "end_time": "2022-07-29T07:22:22.945525Z",
     "start_time": "2022-07-29T07:22:22.939307Z"
    }
   },
   "outputs": [],
   "source": [
    "def solution(N, number):\n",
    "    from itertools import product as H\n",
    "    import sys\n",
    "    n=number\n",
    "    f_o=[\"+\",\"-\",\"*\",\"//\"]\n",
    "    dp = [[]]+[[i*str(N)] for i in range(1,9)]\n",
    "    if [str(n)] in dp:\n",
    "        return dp.index([str(n)])\n",
    "    def D(k):\n",
    "        return [i for i in H(range(k), repeat=2) if sum(i)==k]\n",
    "    for i in range(2,9):\n",
    "        for idx in D(i):\n",
    "            for a in dp[idx[0]]:\n",
    "                for b in dp[idx[1]]:\n",
    "                    for op in f_o:\n",
    "                        try:\n",
    "                            result=eval(f\"{a}{op}{b}\")\n",
    "                            if str(result) not in dp[i]:\n",
    "                                dp[i].append(str(result))\n",
    "                        except:\n",
    "                            pass\n",
    "                        else:\n",
    "                            if result==n:\n",
    "                                return i\n",
    "    return -1"
   ]
  },
  {
   "cell_type": "code",
   "execution_count": 15,
   "id": "99f617a3",
   "metadata": {
    "ExecuteTime": {
     "end_time": "2022-07-29T05:52:35.438308Z",
     "start_time": "2022-07-29T05:52:35.427424Z"
    }
   },
   "outputs": [
    {
     "data": {
      "text/plain": [
       "4"
      ]
     },
     "execution_count": 15,
     "metadata": {},
     "output_type": "execute_result"
    }
   ],
   "source": [
    "solution(5,55)"
   ]
  }
 ],
 "metadata": {
  "kernelspec": {
   "display_name": "Python 3",
   "language": "python",
   "name": "python3"
  },
  "language_info": {
   "codemirror_mode": {
    "name": "ipython",
    "version": 3
   },
   "file_extension": ".py",
   "mimetype": "text/x-python",
   "name": "python",
   "nbconvert_exporter": "python",
   "pygments_lexer": "ipython3",
   "version": "3.8.12"
  },
  "toc": {
   "base_numbering": 1,
   "nav_menu": {},
   "number_sections": true,
   "sideBar": true,
   "skip_h1_title": false,
   "title_cell": "Table of Contents",
   "title_sidebar": "Contents",
   "toc_cell": false,
   "toc_position": {},
   "toc_section_display": true,
   "toc_window_display": false
  }
 },
 "nbformat": 4,
 "nbformat_minor": 5
}
