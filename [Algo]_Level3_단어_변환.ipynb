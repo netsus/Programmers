{
 "cells": [
  {
   "cell_type": "markdown",
   "id": "0e4c9d43",
   "metadata": {},
   "source": [
    "### 문제\n"
   ]
  },
  {
   "cell_type": "code",
   "execution_count": 1,
   "id": "fc6e3ac9",
   "metadata": {
    "ExecuteTime": {
     "end_time": "2022-08-05T15:46:51.122992Z",
     "start_time": "2022-08-05T15:46:50.979113Z"
    }
   },
   "outputs": [],
   "source": [
    "! # 시작시간 체크"
   ]
  },
  {
   "cell_type": "markdown",
   "id": "ec19f3f2",
   "metadata": {},
   "source": [
    "begin에서 target으로 변환하는 가장 짧은 변환 과정\n",
    "\n",
    "    1. 한 번에 한 개의 알파벳만 바꿀 수 있습니다.\n",
    "    2. words에 있는 단어로만 변환할 수 있습니다.\n",
    "    \n",
    "    \"hit\" -> \"hot\" -> \"dot\" -> \"dog\" -> \"cog\"\n",
    "    \n",
    "    조건\n",
    "    각 단어는 알파벳 소문자로만 이루어져 있습니다.\n",
    "    각 단어의 길이는 3 이상 10 이하이며 모든 단어의 길이는 같습니다.\n",
    "    words에는 3개 이상 50개 이하의 단어가 있으며 중복되는 단어는 없습니다.\n",
    "    begin과 target은 같지 않습니다.\n",
    "    변환할 수 없는 경우에는 0를 return 합니다."
   ]
  },
  {
   "cell_type": "code",
   "execution_count": 2,
   "id": "50c1b0eb",
   "metadata": {
    "ExecuteTime": {
     "end_time": "2022-08-05T15:47:43.873505Z",
     "start_time": "2022-08-05T15:47:43.741178Z"
    }
   },
   "outputs": [],
   "source": [
    "! # 끝 시간 체크"
   ]
  },
  {
   "cell_type": "markdown",
   "id": "88b63096",
   "metadata": {},
   "source": [
    "### 내 풀이\n",
    "    어려운 부분: BFS로 words를 반복하며 확인할 때, 1단어 바뀐 next words로 이전 words도 오지 않게하는걸 어떻게 해결할까? 나는 복사를 2번하는 식으로 했다. 매우 비효율적으로 느껴진다.\n",
    "    \n",
    "    해결 방법: 다른 사람 풀이 참고해서 보니까, 굳이 복사안하고 나와 똑같이 푼 사람이 있다. 원래 풀이에서 복사한 부분을 뺴니까 정답이다. 괜히 넣었네."
   ]
  },
  {
   "cell_type": "markdown",
   "id": "cd9b38b4",
   "metadata": {
    "ExecuteTime": {
     "end_time": "2022-08-05T16:30:59.800938Z",
     "start_time": "2022-08-05T16:30:59.792322Z"
    }
   },
   "source": [
    "### 두번째 풀이"
   ]
  },
  {
   "cell_type": "code",
   "execution_count": 117,
   "id": "8ce56eb2",
   "metadata": {
    "ExecuteTime": {
     "end_time": "2022-08-05T16:32:26.740468Z",
     "start_time": "2022-08-05T16:32:26.729119Z"
    }
   },
   "outputs": [],
   "source": [
    "from collections import deque\n",
    "\n",
    "def solution(begin, target, words):\n",
    "    q=deque([begin])\n",
    "    cnt=0\n",
    "    while q:\n",
    "        for i in range(len(q)):\n",
    "            cur=q.popleft()\n",
    "            if cur==target:\n",
    "                return cnt\n",
    "            for i in range(len(words)-1,-1,-1):\n",
    "                w=words[i]\n",
    "                if sum(i!=j for i,j in zip(w,cur))==1:\n",
    "                    q.append(words.pop(i))\n",
    "        cnt+=1\n",
    "    return 0"
   ]
  },
  {
   "cell_type": "code",
   "execution_count": 128,
   "id": "f660f23e",
   "metadata": {
    "ExecuteTime": {
     "end_time": "2022-08-05T16:36:13.095165Z",
     "start_time": "2022-08-05T16:36:13.083404Z"
    }
   },
   "outputs": [],
   "source": [
    "def solution(begin, target, words):\n",
    "    from collections import deque\n",
    "    def match(s1, s2):\n",
    "        ok = False\n",
    "        for c1, c2 in zip(s1, s2):\n",
    "            if c1 != c2:\n",
    "                if ok:\n",
    "                    return False\n",
    "                else:\n",
    "                    ok = True\n",
    "        return ok\n",
    "    q=deque([begin])\n",
    "    cnt=0\n",
    "    while q:\n",
    "        for i in range(len(q)):\n",
    "            cur=q.popleft()\n",
    "            if cur==target:\n",
    "                return cnt\n",
    "            for i in range(len(words)-1,-1,-1):\n",
    "                if match(cur,words[i]):\n",
    "                    q.append(words.pop(i))\n",
    "        cnt+=1\n",
    "    return 0"
   ]
  },
  {
   "cell_type": "markdown",
   "id": "298740c2",
   "metadata": {},
   "source": [
    "#### 첫번째 풀이"
   ]
  },
  {
   "cell_type": "code",
   "execution_count": 137,
   "id": "4d5f478e",
   "metadata": {
    "ExecuteTime": {
     "end_time": "2022-08-05T16:38:19.308105Z",
     "start_time": "2022-08-05T16:38:19.292880Z"
    }
   },
   "outputs": [],
   "source": [
    "## 괜히 words 복사해서 시간만 오래걸리게 만든 풀이\n",
    "def solution(begin, target, words):\n",
    "    from collections import deque\n",
    "    def match(s1, s2):\n",
    "        ok = False\n",
    "        for c1, c2 in zip(s1, s2):\n",
    "            if c1 != c2:\n",
    "                if ok:\n",
    "                    return False\n",
    "                else:\n",
    "                    ok = True\n",
    "        return ok\n",
    "    words.sort()\n",
    "    q=deque([begin])\n",
    "    cnt=0\n",
    "    while q:\n",
    "        cnt+=1\n",
    "        for i in range(len(q)):\n",
    "            cur=q.popleft()\n",
    "            w=words[:]\n",
    "            for i in range(len(words)-1,-1,-1):\n",
    "                if match(cur,w[i]):\n",
    "                    if target==words[i]:\n",
    "                        return cnt\n",
    "                    q.append(w.pop(i))\n",
    "            words=w[:]\n",
    "    return 0"
   ]
  },
  {
   "cell_type": "code",
   "execution_count": 135,
   "id": "0cc59ce8",
   "metadata": {
    "ExecuteTime": {
     "end_time": "2022-08-05T16:37:42.766082Z",
     "start_time": "2022-08-05T16:37:42.750598Z"
    }
   },
   "outputs": [],
   "source": [
    "def solution(begin, target, words):\n",
    "    from collections import deque\n",
    "    def match(s1, s2):\n",
    "        ok = False\n",
    "        for c1, c2 in zip(s1, s2):\n",
    "            if c1 != c2:\n",
    "                if ok:\n",
    "                    return False\n",
    "                else:\n",
    "                    ok = True\n",
    "        return ok\n",
    "    words.sort()\n",
    "    q=deque([begin])\n",
    "    cnt=0\n",
    "    while q:\n",
    "        cnt+=1\n",
    "        for i in range(len(q)):\n",
    "            cur=q.popleft()\n",
    "            for i in range(len(words)-1,-1,-1):\n",
    "                if match(cur,words[i]):\n",
    "                    if target==words[i]:\n",
    "                        return cnt\n",
    "                    q.append(words.pop(i))\n",
    "    return 0"
   ]
  },
  {
   "cell_type": "code",
   "execution_count": 136,
   "id": "195f7a69",
   "metadata": {
    "ExecuteTime": {
     "end_time": "2022-08-05T16:37:43.170859Z",
     "start_time": "2022-08-05T16:37:43.161319Z"
    }
   },
   "outputs": [
    {
     "data": {
      "text/plain": [
       "4"
      ]
     },
     "execution_count": 136,
     "metadata": {},
     "output_type": "execute_result"
    }
   ],
   "source": [
    "solution(begin,target,words)"
   ]
  },
  {
   "cell_type": "code",
   "execution_count": null,
   "id": "95154e80",
   "metadata": {},
   "outputs": [],
   "source": []
  },
  {
   "cell_type": "code",
   "execution_count": 118,
   "id": "e52c7934",
   "metadata": {
    "ExecuteTime": {
     "end_time": "2022-08-05T16:32:29.802299Z",
     "start_time": "2022-08-05T16:32:29.795152Z"
    }
   },
   "outputs": [],
   "source": [
    "begin=\"hit\"\n",
    "target=\"cog\"\n",
    "words=[\"hot\", \"dot\", \"dog\", \"lot\", \"log\"]\n",
    "# return 0"
   ]
  },
  {
   "cell_type": "code",
   "execution_count": 133,
   "id": "db7be9dc",
   "metadata": {
    "ExecuteTime": {
     "end_time": "2022-08-05T16:37:32.549949Z",
     "start_time": "2022-08-05T16:37:32.542431Z"
    }
   },
   "outputs": [],
   "source": [
    "begin=\"hit\"\n",
    "target=\"cog\"\n",
    "words=[\"hot\", \"dot\", \"dog\", \"lot\", \"log\", \"cog\"]\n",
    "# return 4"
   ]
  },
  {
   "cell_type": "code",
   "execution_count": 4,
   "id": "77ded1f0",
   "metadata": {
    "ExecuteTime": {
     "end_time": "2022-08-05T15:48:30.174850Z",
     "start_time": "2022-08-05T15:48:30.166493Z"
    }
   },
   "outputs": [],
   "source": [
    "def match(s1, s2):\n",
    "    ok = False\n",
    "    for c1, c2 in zip(s1, s2):\n",
    "        if c1 != c2:\n",
    "            if ok:\n",
    "                return False\n",
    "            else:\n",
    "                ok = True\n",
    "    return ok"
   ]
  },
  {
   "cell_type": "code",
   "execution_count": 103,
   "id": "02576793",
   "metadata": {
    "ExecuteTime": {
     "end_time": "2022-08-05T16:09:02.747249Z",
     "start_time": "2022-08-05T16:09:02.734469Z"
    }
   },
   "outputs": [
    {
     "data": {
      "text/plain": [
       "(deque(['hit']), ['dog', 'dot', 'hot', 'log', 'lot'])"
      ]
     },
     "execution_count": 103,
     "metadata": {},
     "output_type": "execute_result"
    }
   ],
   "source": [
    "from collections import deque\n",
    "\n",
    "words.sort()\n",
    "\n",
    "q=deque([begin])\n",
    "\n",
    "q,words"
   ]
  },
  {
   "cell_type": "code",
   "execution_count": 104,
   "id": "7da0ad9a",
   "metadata": {
    "ExecuteTime": {
     "end_time": "2022-08-05T16:09:03.086615Z",
     "start_time": "2022-08-05T16:09:03.076411Z"
    }
   },
   "outputs": [
    {
     "name": "stdout",
     "output_type": "stream",
     "text": [
      "0\n"
     ]
    }
   ],
   "source": [
    "cnt=0\n",
    "while q:\n",
    "    cnt+=1\n",
    "    for i in range(len(q)):\n",
    "        cur=q.popleft()\n",
    "        w=words[:]\n",
    "        for i in range(len(words)-1,-1,-1):\n",
    "            if match(cur,w[i]):\n",
    "                if target==words[i]:\n",
    "                    print(cnt)\n",
    "                q.append(w.pop(i))\n",
    "        words=w[:]\n",
    "print(0)"
   ]
  },
  {
   "cell_type": "code",
   "execution_count": 64,
   "id": "c58b0ce9",
   "metadata": {
    "ExecuteTime": {
     "end_time": "2022-08-05T16:04:35.451737Z",
     "start_time": "2022-08-05T16:04:35.437863Z"
    }
   },
   "outputs": [
    {
     "data": {
      "text/plain": [
       "[]"
      ]
     },
     "execution_count": 64,
     "metadata": {},
     "output_type": "execute_result"
    }
   ],
   "source": [
    "w"
   ]
  },
  {
   "cell_type": "code",
   "execution_count": 34,
   "id": "ef95e770",
   "metadata": {
    "ExecuteTime": {
     "end_time": "2022-08-05T15:57:00.410262Z",
     "start_time": "2022-08-05T15:57:00.402344Z"
    }
   },
   "outputs": [
    {
     "data": {
      "text/plain": [
       "7"
      ]
     },
     "execution_count": 34,
     "metadata": {},
     "output_type": "execute_result"
    }
   ],
   "source": [
    "cnt"
   ]
  },
  {
   "cell_type": "code",
   "execution_count": 12,
   "id": "9507d83e",
   "metadata": {
    "ExecuteTime": {
     "end_time": "2022-08-05T15:50:24.245301Z",
     "start_time": "2022-08-05T15:50:24.236035Z"
    }
   },
   "outputs": [
    {
     "data": {
      "text/plain": [
       "'hit'"
      ]
     },
     "execution_count": 12,
     "metadata": {},
     "output_type": "execute_result"
    }
   ],
   "source": [
    "q.popleft()"
   ]
  },
  {
   "cell_type": "code",
   "execution_count": null,
   "id": "8a99acbd",
   "metadata": {},
   "outputs": [],
   "source": []
  },
  {
   "cell_type": "markdown",
   "id": "8ed2b958",
   "metadata": {},
   "source": [
    "### 연습"
   ]
  },
  {
   "cell_type": "code",
   "execution_count": null,
   "id": "ec705ae9",
   "metadata": {},
   "outputs": [],
   "source": []
  }
 ],
 "metadata": {
  "kernelspec": {
   "display_name": "Python 3",
   "language": "python",
   "name": "python3"
  },
  "language_info": {
   "codemirror_mode": {
    "name": "ipython",
    "version": 3
   },
   "file_extension": ".py",
   "mimetype": "text/x-python",
   "name": "python",
   "nbconvert_exporter": "python",
   "pygments_lexer": "ipython3",
   "version": "3.8.12"
  },
  "toc": {
   "base_numbering": 1,
   "nav_menu": {},
   "number_sections": true,
   "sideBar": true,
   "skip_h1_title": false,
   "title_cell": "Table of Contents",
   "title_sidebar": "Contents",
   "toc_cell": false,
   "toc_position": {},
   "toc_section_display": true,
   "toc_window_display": false
  }
 },
 "nbformat": 4,
 "nbformat_minor": 5
}
