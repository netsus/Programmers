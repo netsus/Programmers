{
 "cells": [
  {
   "cell_type": "markdown",
   "id": "64a3eca4",
   "metadata": {},
   "source": [
    "장르별로 2개씩 인덱스 출력\n",
    "1. 속한 노래가 많이 재생된 장르를 먼저 수록합니다.\n",
    "2. 장르 내에서 많이 재생된 노래를 먼저 수록합니다.\n",
    "3. 장르 내에서 재생 횟수가 같은 노래 중에서는 고유 번호가 낮은 노래를 먼저 수록합니다."
   ]
  },
  {
   "cell_type": "markdown",
   "id": "633d74e6",
   "metadata": {},
   "source": [
    "### 복습 1차 풀이"
   ]
  },
  {
   "cell_type": "code",
   "execution_count": null,
   "id": "b0f69b34",
   "metadata": {},
   "outputs": [],
   "source": [
    "def solution(genres, plays):\n",
    "    from collections import defaultdict, Counter\n",
    "    c=Counter()\n",
    "    gd=defaultdict(list)\n",
    "    for i,s in enumerate(zip(genres,plays)):\n",
    "        gd[s[0]].append((i,s[1]))\n",
    "        c[s[0]]+=s[1]\n",
    "    for g in genres:\n",
    "        gd[g]=sorted(gd[g],key=lambda x:(-x[1],x[0]))\n",
    "    result=[]\n",
    "    for g in c.most_common():\n",
    "        result.extend([i[0] for i in gd[g[0]][:2]])\n",
    "    return result"
   ]
  },
  {
   "cell_type": "markdown",
   "id": "88b63096",
   "metadata": {},
   "source": [
    "### 내 풀이"
   ]
  },
  {
   "cell_type": "code",
   "execution_count": null,
   "id": "d3cda8e7",
   "metadata": {},
   "outputs": [],
   "source": [
    "def solution(genres, plays):\n",
    "    from collections import Counter, defaultdict\n",
    "    c=Counter()\n",
    "    gd=defaultdict(list)\n",
    "    answer=[]\n",
    "    for i,(g,p) in enumerate(zip(genres,plays)):\n",
    "        c[g]+=p\n",
    "        gd[g].append((i,p))\n",
    "    for gr,_ in c.most_common():\n",
    "        top_2=sorted(gd[gr],key=lambda x:(-x[1],x[0]))[:2]\n",
    "        answer.extend([i for i,_ in top_2])\n",
    "    return answer"
   ]
  },
  {
   "cell_type": "code",
   "execution_count": 71,
   "id": "0ed3ca4f",
   "metadata": {
    "ExecuteTime": {
     "end_time": "2022-07-29T13:01:37.714729Z",
     "start_time": "2022-07-29T13:01:37.696109Z"
    }
   },
   "outputs": [],
   "source": [
    "genres=[\"classic\",\"classic\",\"classic\",\"pop\"]\n",
    "plays=[500,500,1001,2000]"
   ]
  },
  {
   "cell_type": "code",
   "execution_count": 74,
   "id": "77ded1f0",
   "metadata": {
    "ExecuteTime": {
     "end_time": "2022-07-29T13:02:08.885012Z",
     "start_time": "2022-07-29T13:02:08.872068Z"
    }
   },
   "outputs": [
    {
     "data": {
      "text/plain": [
       "[2, 0, 3]"
      ]
     },
     "execution_count": 74,
     "metadata": {},
     "output_type": "execute_result"
    }
   ],
   "source": [
    "from collections import Counter, defaultdict\n",
    "c=Counter()\n",
    "gd=defaultdict(list)\n",
    "answer=[]\n",
    "for i,(g,p) in enumerate(zip(genres,plays)):\n",
    "    c[g]+=p\n",
    "    gd[g].append((i,p))\n",
    "for gr,_ in c.most_common():\n",
    "    top_2=sorted(gd[gr],key=lambda x:(-x[1],x[0]))[:2]\n",
    "    answer.extend([i for i,_ in top_2])\n",
    "answer"
   ]
  },
  {
   "cell_type": "code",
   "execution_count": 73,
   "id": "baef82b5",
   "metadata": {
    "ExecuteTime": {
     "end_time": "2022-07-29T13:01:55.159982Z",
     "start_time": "2022-07-29T13:01:55.152648Z"
    }
   },
   "outputs": [
    {
     "data": {
      "text/plain": [
       "[3]"
      ]
     },
     "execution_count": 73,
     "metadata": {},
     "output_type": "execute_result"
    }
   ],
   "source": [
    "[i for i,_ in sorted(gd['pop'],key=lambda x:(-x[1],x[0]))[:2]]"
   ]
  },
  {
   "cell_type": "markdown",
   "id": "8ed2b958",
   "metadata": {},
   "source": [
    "### 연습"
   ]
  },
  {
   "cell_type": "markdown",
   "id": "c00e1ac9",
   "metadata": {},
   "source": [
    "상상코딩<br>\n",
    "장르를 키로, (인덱스,재생횟수)의 리스트를 값으로 갖는 자료구조 생성 및 카운터 생성"
   ]
  },
  {
   "cell_type": "code",
   "execution_count": 2,
   "id": "ec705ae9",
   "metadata": {
    "ExecuteTime": {
     "end_time": "2022-07-29T12:12:02.084270Z",
     "start_time": "2022-07-29T12:12:02.079728Z"
    }
   },
   "outputs": [],
   "source": [
    "genres=[\"classic\", \"pop\", \"classic\", \"classic\", \"pop\"]\n",
    "plays=[500, 600, 150, 800, 2500]"
   ]
  },
  {
   "cell_type": "code",
   "execution_count": 51,
   "id": "920622df",
   "metadata": {
    "ExecuteTime": {
     "end_time": "2022-07-29T12:59:10.845991Z",
     "start_time": "2022-07-29T12:59:10.836553Z"
    }
   },
   "outputs": [],
   "source": [
    "genres=[\"classic\", \"pop\", \"classic\", \"classic\", \"pop\"]\n",
    "plays=[500, 600, 150, 800, 600]"
   ]
  },
  {
   "cell_type": "code",
   "execution_count": 54,
   "id": "e6ae4f21",
   "metadata": {
    "ExecuteTime": {
     "end_time": "2022-07-29T12:59:29.715034Z",
     "start_time": "2022-07-29T12:59:29.709116Z"
    }
   },
   "outputs": [],
   "source": [
    "from collections import Counter, defaultdict"
   ]
  },
  {
   "cell_type": "code",
   "execution_count": 55,
   "id": "9ef86478",
   "metadata": {
    "ExecuteTime": {
     "end_time": "2022-07-29T12:59:29.904660Z",
     "start_time": "2022-07-29T12:59:29.901140Z"
    }
   },
   "outputs": [],
   "source": [
    "c=Counter()"
   ]
  },
  {
   "cell_type": "code",
   "execution_count": 56,
   "id": "440da844",
   "metadata": {
    "ExecuteTime": {
     "end_time": "2022-07-29T12:59:30.071951Z",
     "start_time": "2022-07-29T12:59:30.065500Z"
    }
   },
   "outputs": [],
   "source": [
    "gd=defaultdict(list)"
   ]
  },
  {
   "cell_type": "code",
   "execution_count": 57,
   "id": "7cefc95e",
   "metadata": {
    "ExecuteTime": {
     "end_time": "2022-07-29T12:59:30.258119Z",
     "start_time": "2022-07-29T12:59:30.253808Z"
    }
   },
   "outputs": [],
   "source": [
    "answer=[]"
   ]
  },
  {
   "cell_type": "code",
   "execution_count": 58,
   "id": "808775c5",
   "metadata": {
    "ExecuteTime": {
     "end_time": "2022-07-29T12:59:30.456254Z",
     "start_time": "2022-07-29T12:59:30.447624Z"
    }
   },
   "outputs": [],
   "source": [
    "for i,(g,p) in enumerate(zip(genres,plays)):\n",
    "    c[g]+=p\n",
    "    gd[g].append((i,p))"
   ]
  },
  {
   "cell_type": "code",
   "execution_count": 69,
   "id": "f06eeac5",
   "metadata": {
    "ExecuteTime": {
     "end_time": "2022-07-29T13:01:26.405957Z",
     "start_time": "2022-07-29T13:01:26.396296Z"
    }
   },
   "outputs": [],
   "source": [
    "for gr,_ in c.most_common():\n",
    "    answer.extend([i for i,_ in sorted(gd['pop'],key=lambda x:(-x[1],x[0]))[:2]])"
   ]
  },
  {
   "cell_type": "code",
   "execution_count": 61,
   "id": "2b42ddcf",
   "metadata": {
    "ExecuteTime": {
     "end_time": "2022-07-29T12:59:39.295580Z",
     "start_time": "2022-07-29T12:59:39.286418Z"
    }
   },
   "outputs": [
    {
     "data": {
      "text/plain": [
       "defaultdict(list,\n",
       "            {'classic': [(0, 500), (2, 150), (3, 800)],\n",
       "             'pop': [(1, 600), (4, 600)]})"
      ]
     },
     "execution_count": 61,
     "metadata": {},
     "output_type": "execute_result"
    }
   ],
   "source": [
    "gd"
   ]
  },
  {
   "cell_type": "code",
   "execution_count": 68,
   "id": "f9d1791a",
   "metadata": {
    "ExecuteTime": {
     "end_time": "2022-07-29T13:01:13.783851Z",
     "start_time": "2022-07-29T13:01:13.774189Z"
    }
   },
   "outputs": [
    {
     "data": {
      "text/plain": [
       "[(1, 600), (4, 600)]"
      ]
     },
     "execution_count": 68,
     "metadata": {},
     "output_type": "execute_result"
    }
   ],
   "source": [
    "sorted(gd['pop'],key=lambda x:(-x[1],x[0]))"
   ]
  },
  {
   "cell_type": "code",
   "execution_count": 36,
   "id": "f9e0cae8",
   "metadata": {
    "ExecuteTime": {
     "end_time": "2022-07-29T12:55:39.157151Z",
     "start_time": "2022-07-29T12:55:39.150254Z"
    }
   },
   "outputs": [
    {
     "data": {
      "text/plain": [
       "[4, 1]"
      ]
     },
     "execution_count": 36,
     "metadata": {},
     "output_type": "execute_result"
    }
   ],
   "source": [
    "[i for i,_ in sorted(gd['pop'],key=lambda x:x[1])[::-1][:2]]"
   ]
  },
  {
   "cell_type": "code",
   "execution_count": 31,
   "id": "82fecff2",
   "metadata": {
    "ExecuteTime": {
     "end_time": "2022-07-29T12:53:20.597256Z",
     "start_time": "2022-07-29T12:53:20.586809Z"
    }
   },
   "outputs": [
    {
     "data": {
      "text/plain": [
       "[(1, 600), (4, 2500)]"
      ]
     },
     "execution_count": 31,
     "metadata": {},
     "output_type": "execute_result"
    }
   ],
   "source": [
    "gd['pop']"
   ]
  },
  {
   "cell_type": "code",
   "execution_count": null,
   "id": "f7b92318",
   "metadata": {},
   "outputs": [],
   "source": []
  }
 ],
 "metadata": {
  "kernelspec": {
   "display_name": "Python 3",
   "language": "python",
   "name": "python3"
  },
  "language_info": {
   "codemirror_mode": {
    "name": "ipython",
    "version": 3
   },
   "file_extension": ".py",
   "mimetype": "text/x-python",
   "name": "python",
   "nbconvert_exporter": "python",
   "pygments_lexer": "ipython3",
   "version": "3.8.12"
  },
  "toc": {
   "base_numbering": 1,
   "nav_menu": {},
   "number_sections": true,
   "sideBar": true,
   "skip_h1_title": false,
   "title_cell": "Table of Contents",
   "title_sidebar": "Contents",
   "toc_cell": false,
   "toc_position": {},
   "toc_section_display": true,
   "toc_window_display": false
  }
 },
 "nbformat": 4,
 "nbformat_minor": 5
}
