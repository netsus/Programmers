{
 "cells": [
  {
   "cell_type": "markdown",
   "id": "88b63096",
   "metadata": {},
   "source": [
    "### 내 풀이"
   ]
  },
  {
   "cell_type": "code",
   "execution_count": 1,
   "id": "f5ad8b7d",
   "metadata": {
    "ExecuteTime": {
     "end_time": "2022-07-28T15:35:23.236766Z",
     "start_time": "2022-07-28T15:35:23.221208Z"
    }
   },
   "outputs": [],
   "source": [
    "answer=[\"ICN\"]\n",
    "u=[0]*10000\n",
    "\n",
    "def dfs(c, c_idx, tickets):\n",
    "    tl=lambda x:[i for i in tickets if i[0]==x]\n",
    "    if c_idx!=-1:\n",
    "        u[c_idx]=1\n",
    "        answer.append(c)\n",
    "    if sum(u)==len(tickets):\n",
    "        return 1\n",
    "    ct_li = tl(c)\n",
    "    for ct in ct_li:\n",
    "        ct_idx=tickets.index(ct)\n",
    "        cnt=tickets.count(ct)\n",
    "        for i in range(cnt):\n",
    "            if u[ct_idx+i]==0:\n",
    "                if dfs(ct[1], ct_idx+i, tickets)==1:\n",
    "                    return 1 \n",
    "        if u[ct_idx]==0:\n",
    "            if dfs(ct[1], ct_idx, tickets)==1:\n",
    "                return 1\n",
    "    u[c_idx]=0\n",
    "    answer.pop()\n",
    "\n",
    "def solution(tickets):\n",
    "    tickets.sort()\n",
    "    dfs(\"ICN\",-1,tickets)\n",
    "    return answer"
   ]
  },
  {
   "cell_type": "code",
   "execution_count": 2,
   "id": "27c77cea",
   "metadata": {
    "ExecuteTime": {
     "end_time": "2022-07-28T15:35:43.744625Z",
     "start_time": "2022-07-28T15:35:43.735290Z"
    }
   },
   "outputs": [],
   "source": [
    "from collections import defaultdict\n",
    "def solution(tickets):\n",
    "    r = defaultdict(list)\n",
    "    for i,j in tickets:\n",
    "        r[i].append(j)\n",
    "    for i in r.keys():\n",
    "        r[i].sort()\n",
    "\n",
    "    s = [\"ICN\"]\n",
    "    p = []\n",
    "    while s:\n",
    "        q = s[-1]\n",
    "        if r[q] != []:\n",
    "            s.append(r[q].pop(0))\n",
    "        else:\n",
    "            p.append(s.pop())\n",
    "    return p[::-1]"
   ]
  },
  {
   "cell_type": "code",
   "execution_count": 17,
   "id": "556d63a8",
   "metadata": {
    "ExecuteTime": {
     "end_time": "2022-07-28T15:43:53.614566Z",
     "start_time": "2022-07-28T15:43:53.604383Z"
    }
   },
   "outputs": [],
   "source": [
    "tickets=[[\"ICN\", \"SFO\"], [\"ICN\", \"ATL\"], [\"SFO\", \"ATL\"], [\"ATL\",\"SFO\"],[\"ATL\", \"ICN\"] ]"
   ]
  },
  {
   "cell_type": "code",
   "execution_count": 18,
   "id": "aac61bb4",
   "metadata": {
    "ExecuteTime": {
     "end_time": "2022-07-28T15:43:53.962413Z",
     "start_time": "2022-07-28T15:43:53.956059Z"
    }
   },
   "outputs": [],
   "source": [
    "r = defaultdict(list)\n",
    "for i,j in tickets:\n",
    "    r[i].append(j)\n",
    "# for i in r.keys():\n",
    "#     r[i].sort()"
   ]
  },
  {
   "cell_type": "code",
   "execution_count": 19,
   "id": "73752c2a",
   "metadata": {
    "ExecuteTime": {
     "end_time": "2022-07-28T15:43:54.488528Z",
     "start_time": "2022-07-28T15:43:54.481964Z"
    }
   },
   "outputs": [
    {
     "data": {
      "text/plain": [
       "defaultdict(list,\n",
       "            {'ICN': ['SFO', 'ATL'], 'SFO': ['ATL'], 'ATL': ['SFO', 'ICN']})"
      ]
     },
     "execution_count": 19,
     "metadata": {},
     "output_type": "execute_result"
    }
   ],
   "source": [
    "r"
   ]
  },
  {
   "cell_type": "markdown",
   "id": "df4ba0d7",
   "metadata": {},
   "source": [
    "똑같은 티켓 여러개 있는 경우 예외처리가 어떻게 되는지 보기"
   ]
  },
  {
   "cell_type": "code",
   "execution_count": 20,
   "id": "b68a2c6d",
   "metadata": {
    "ExecuteTime": {
     "end_time": "2022-07-28T15:43:55.673553Z",
     "start_time": "2022-07-28T15:43:55.659573Z"
    }
   },
   "outputs": [
    {
     "name": "stdout",
     "output_type": "stream",
     "text": [
      "s=['ICN', 'SFO']\n",
      "s=['ICN', 'SFO', 'ATL']\n",
      "s=['ICN', 'SFO', 'ATL', 'SFO']\n",
      "p=['SFO']\n",
      "s=['ICN', 'SFO', 'ATL', 'ICN']\n",
      "s=['ICN', 'SFO', 'ATL', 'ICN', 'ATL']\n",
      "p=['SFO', 'ATL']\n",
      "p=['SFO', 'ATL', 'ICN']\n",
      "p=['SFO', 'ATL', 'ICN', 'ATL']\n",
      "p=['SFO', 'ATL', 'ICN', 'ATL', 'SFO']\n",
      "p=['SFO', 'ATL', 'ICN', 'ATL', 'SFO', 'ICN']\n"
     ]
    }
   ],
   "source": [
    "s = [\"ICN\"]\n",
    "p = []\n",
    "while s:\n",
    "    q = s[-1]\n",
    "    if r[q] != []:\n",
    "        s.append(r[q].pop(0))\n",
    "        print(f\"{s=}\")\n",
    "    else:\n",
    "        p.append(s.pop())\n",
    "        print(f\"{p=}\")"
   ]
  },
  {
   "cell_type": "code",
   "execution_count": 6,
   "id": "29af95c6",
   "metadata": {
    "ExecuteTime": {
     "end_time": "2022-07-28T15:36:36.180233Z",
     "start_time": "2022-07-28T15:36:36.164969Z"
    }
   },
   "outputs": [
    {
     "data": {
      "text/plain": [
       "['SFO', 'ATL', 'SFO', 'ICN', 'ATL', 'ICN']"
      ]
     },
     "execution_count": 6,
     "metadata": {},
     "output_type": "execute_result"
    }
   ],
   "source": []
  },
  {
   "cell_type": "code",
   "execution_count": null,
   "id": "77ded1f0",
   "metadata": {},
   "outputs": [],
   "source": []
  }
 ],
 "metadata": {
  "kernelspec": {
   "display_name": "Python 3",
   "language": "python",
   "name": "python3"
  },
  "language_info": {
   "codemirror_mode": {
    "name": "ipython",
    "version": 3
   },
   "file_extension": ".py",
   "mimetype": "text/x-python",
   "name": "python",
   "nbconvert_exporter": "python",
   "pygments_lexer": "ipython3",
   "version": "3.8.12"
  },
  "toc": {
   "base_numbering": 1,
   "nav_menu": {},
   "number_sections": true,
   "sideBar": true,
   "skip_h1_title": false,
   "title_cell": "Table of Contents",
   "title_sidebar": "Contents",
   "toc_cell": false,
   "toc_position": {},
   "toc_section_display": true,
   "toc_window_display": false
  }
 },
 "nbformat": 4,
 "nbformat_minor": 5
}
