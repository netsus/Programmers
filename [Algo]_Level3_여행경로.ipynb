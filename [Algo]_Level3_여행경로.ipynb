{
 "cells": [
  {
   "cell_type": "markdown",
   "id": "db6ce0ae",
   "metadata": {},
   "source": [
    "### 내 풀이"
   ]
  },
  {
   "cell_type": "code",
   "execution_count": 1,
   "id": "20d1d63b",
   "metadata": {
    "ExecuteTime": {
     "end_time": "2022-07-28T15:35:23.236766Z",
     "start_time": "2022-07-28T15:35:23.221208Z"
    }
   },
   "outputs": [],
   "source": [
    "answer=[\"ICN\"]\n",
    "u=[0]*10000\n",
    "\n",
    "def dfs(c, c_idx, tickets):\n",
    "    tl=lambda x:[i for i in tickets if i[0]==x]\n",
    "    if c_idx!=-1:\n",
    "        u[c_idx]=1\n",
    "        answer.append(c)\n",
    "    if sum(u)==len(tickets):\n",
    "        return 1\n",
    "    ct_li = tl(c)\n",
    "    for ct in ct_li:\n",
    "        ct_idx=tickets.index(ct)\n",
    "        cnt=tickets.count(ct)\n",
    "        for i in range(cnt):\n",
    "            if u[ct_idx+i]==0:\n",
    "                if dfs(ct[1], ct_idx+i, tickets)==1:\n",
    "                    return 1 \n",
    "        if u[ct_idx]==0:\n",
    "            if dfs(ct[1], ct_idx, tickets)==1:\n",
    "                return 1\n",
    "    u[c_idx]=0\n",
    "    answer.pop()\n",
    "\n",
    "def solution(tickets):\n",
    "    tickets.sort()\n",
    "    dfs(\"ICN\",-1,tickets)\n",
    "    return answer"
   ]
  },
  {
   "cell_type": "code",
   "execution_count": 2,
   "id": "3c11562f",
   "metadata": {
    "ExecuteTime": {
     "end_time": "2022-07-28T15:35:43.744625Z",
     "start_time": "2022-07-28T15:35:43.735290Z"
    }
   },
   "outputs": [],
   "source": [
    "from collections import defaultdict\n",
    "def solution(tickets):\n",
    "    r = defaultdict(list)\n",
    "    for i,j in tickets:\n",
    "        r[i].append(j)\n",
    "    for i in r.keys():\n",
    "        r[i].sort()\n",
    "\n",
    "    s = [\"ICN\"]\n",
    "    p = []\n",
    "    while s:\n",
    "        q = s[-1]\n",
    "        if r[q] != []:\n",
    "            s.append(r[q].pop(0))\n",
    "        else:\n",
    "            p.append(s.pop())\n",
    "    return p[::-1]"
   ]
  },
  {
   "cell_type": "code",
   "execution_count": 7,
   "id": "ab1419f4",
   "metadata": {
    "ExecuteTime": {
     "end_time": "2022-07-28T15:36:44.842817Z",
     "start_time": "2022-07-28T15:36:44.836094Z"
    }
   },
   "outputs": [],
   "source": [
    "tickets=[[\"ICN\", \"SFO\"], [\"ICN\", \"ATL\"], [\"SFO\", \"ATL\"], [\"ATL\", \"ICN\"], [\"ATL\",\"SFO\"]]"
   ]
  },
  {
   "cell_type": "code",
   "execution_count": 8,
   "id": "bbbb8aee",
   "metadata": {
    "ExecuteTime": {
     "end_time": "2022-07-28T15:36:45.019705Z",
     "start_time": "2022-07-28T15:36:45.012139Z"
    }
   },
   "outputs": [],
   "source": [
    "r = defaultdict(list)\n",
    "for i,j in tickets:\n",
    "    r[i].append(j)\n",
    "for i in r.keys():\n",
    "    r[i].sort()"
   ]
  },
  {
   "cell_type": "code",
   "execution_count": 9,
   "id": "7695e140",
   "metadata": {
    "ExecuteTime": {
     "end_time": "2022-07-28T15:36:45.957371Z",
     "start_time": "2022-07-28T15:36:45.947043Z"
    }
   },
   "outputs": [
    {
     "data": {
      "text/plain": [
       "defaultdict(list,\n",
       "            {'ICN': ['ATL', 'SFO'], 'SFO': ['ATL'], 'ATL': ['ICN', 'SFO']})"
      ]
     },
     "execution_count": 9,
     "metadata": {},
     "output_type": "execute_result"
    }
   ],
   "source": [
    "r"
   ]
  },
  {
   "cell_type": "markdown",
   "id": "82ecbde7",
   "metadata": {},
   "source": [
    "똑같은 티켓 여러개 있는 경우 예외처리가 어떻게 되는지 보기"
   ]
  },
  {
   "cell_type": "code",
   "execution_count": 4,
   "id": "0fb3a86d",
   "metadata": {
    "ExecuteTime": {
     "end_time": "2022-07-28T15:36:10.668087Z",
     "start_time": "2022-07-28T15:36:10.654117Z"
    }
   },
   "outputs": [],
   "source": [
    "s = [\"ICN\"]\n",
    "p = []\n",
    "while s:\n",
    "    q = s[-1]\n",
    "    if r[q] != []:\n",
    "        s.append(r[q].pop(0))\n",
    "    else:\n",
    "        p.append(s.pop())"
   ]
  },
  {
   "cell_type": "code",
   "execution_count": 6,
   "id": "b023bcd6",
   "metadata": {
    "ExecuteTime": {
     "end_time": "2022-07-28T15:36:36.180233Z",
     "start_time": "2022-07-28T15:36:36.164969Z"
    }
   },
   "outputs": [
    {
     "data": {
      "text/plain": [
       "['SFO', 'ATL', 'SFO', 'ICN', 'ATL', 'ICN']"
      ]
     },
     "execution_count": 6,
     "metadata": {},
     "output_type": "execute_result"
    }
   ],
   "source": []
  },
  {
   "cell_type": "code",
   "execution_count": null,
   "id": "91bf347f",
   "metadata": {},
   "outputs": [],
   "source": []
  }
 ],
 "metadata": {
  "kernelspec": {
   "display_name": "Python 3",
   "language": "python",
   "name": "python3"
  },
  "language_info": {
   "codemirror_mode": {
    "name": "ipython",
    "version": 3
   },
   "file_extension": ".py",
   "mimetype": "text/x-python",
   "name": "python",
   "nbconvert_exporter": "python",
   "pygments_lexer": "ipython3",
   "version": "3.8.12"
  },
  "toc": {
   "base_numbering": 1,
   "nav_menu": {},
   "number_sections": true,
   "sideBar": true,
   "skip_h1_title": false,
   "title_cell": "Table of Contents",
   "title_sidebar": "Contents",
   "toc_cell": false,
   "toc_position": {},
   "toc_section_display": true,
   "toc_window_display": false
  }
 },
 "nbformat": 4,
 "nbformat_minor": 5
}
