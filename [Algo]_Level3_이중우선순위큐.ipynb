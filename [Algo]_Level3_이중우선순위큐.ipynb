{
 "cells": [
  {
   "cell_type": "markdown",
   "id": "67bde2e4",
   "metadata": {},
   "source": [
    "### 문제\n",
    "https://school.programmers.co.kr/learn/courses/30/lessons/42628"
   ]
  },
  {
   "cell_type": "markdown",
   "id": "88b63096",
   "metadata": {},
   "source": [
    "### 내 풀이"
   ]
  },
  {
   "cell_type": "code",
   "execution_count": null,
   "id": "0ded4df8",
   "metadata": {},
   "outputs": [],
   "source": [
    "def solution(operations):\n",
    "    from bisect import bisect_left\n",
    "    from collections import deque\n",
    "    Q=deque()\n",
    "    for o in operations:\n",
    "        c,i=o.split()\n",
    "        if c=='I':\n",
    "            i=int(i)\n",
    "            Q.insert(bisect_left(Q,i),i)\n",
    "        elif c=='D' and len(Q)!=0:\n",
    "            if i==\"1\":\n",
    "                Q.pop()\n",
    "            elif i==\"-1\":\n",
    "                Q.popleft()\n",
    "    if len(Q):\n",
    "        return [Q[-1],Q[0]]\n",
    "    else:\n",
    "        return [0,0]"
   ]
  },
  {
   "cell_type": "code",
   "execution_count": null,
   "id": "77ded1f0",
   "metadata": {},
   "outputs": [],
   "source": [
    "from bisect import bisect_left\n",
    "from collections import deque\n",
    "operations=[\"I 16\", \"I -5643\", \"D -1\", \"D 1\", \"D 1\", \"I 123\", \"D -1\"]\n",
    "Q=deque()\n",
    "for o in operations:\n",
    "    c,i=o.split()\n",
    "    if c=='I':\n",
    "        i=int(i)\n",
    "        Q.insert(bisect_left(Q,i),i)\n",
    "    elif c=='D' and len(Q)!=0:\n",
    "        if i==\"1\":\n",
    "            Q.pop()\n",
    "        elif i==\"-1\":\n",
    "            Q.popleft()\n",
    "if len(Q):\n",
    "    return [Q[-1],Q[0]]\n",
    "else:\n",
    "    return [0,0]"
   ]
  },
  {
   "cell_type": "markdown",
   "id": "8ed2b958",
   "metadata": {},
   "source": [
    "### 연습"
   ]
  },
  {
   "cell_type": "code",
   "execution_count": 1,
   "id": "ec705ae9",
   "metadata": {
    "ExecuteTime": {
     "end_time": "2022-07-31T05:07:39.878484Z",
     "start_time": "2022-07-31T05:07:39.870509Z"
    }
   },
   "outputs": [],
   "source": [
    "operations=[\"I 16\", \"I -5643\", \"D -1\", \"D 1\", \"D 1\", \"I 123\", \"D -1\"]\t"
   ]
  },
  {
   "cell_type": "code",
   "execution_count": 3,
   "id": "a2302c67",
   "metadata": {
    "ExecuteTime": {
     "end_time": "2022-07-31T05:11:19.388045Z",
     "start_time": "2022-07-31T05:11:19.381294Z"
    }
   },
   "outputs": [],
   "source": [
    "from bisect import bisect_left\n",
    "from collections import deque"
   ]
  },
  {
   "cell_type": "code",
   "execution_count": 18,
   "id": "297861b6",
   "metadata": {
    "ExecuteTime": {
     "end_time": "2022-07-31T05:15:39.408107Z",
     "start_time": "2022-07-31T05:15:39.398653Z"
    }
   },
   "outputs": [],
   "source": [
    "Q=deque()"
   ]
  },
  {
   "cell_type": "code",
   "execution_count": 19,
   "id": "4b5804f5",
   "metadata": {
    "ExecuteTime": {
     "end_time": "2022-07-31T05:15:39.650322Z",
     "start_time": "2022-07-31T05:15:39.643732Z"
    }
   },
   "outputs": [
    {
     "data": {
      "text/plain": [
       "0"
      ]
     },
     "execution_count": 19,
     "metadata": {},
     "output_type": "execute_result"
    }
   ],
   "source": [
    "bisect_left(Q,16)"
   ]
  },
  {
   "cell_type": "code",
   "execution_count": 20,
   "id": "b3e0dd1b",
   "metadata": {
    "ExecuteTime": {
     "end_time": "2022-07-31T05:16:08.728292Z",
     "start_time": "2022-07-31T05:16:08.718606Z"
    }
   },
   "outputs": [
    {
     "name": "stdout",
     "output_type": "stream",
     "text": [
      "I 16 deque([16])\n",
      "I -5643 deque([-5643, 16])\n",
      "D -1 deque([16])\n",
      "D 1 deque([])\n",
      "D 1 deque([])\n",
      "I 123 deque([123])\n",
      "D -1 deque([])\n"
     ]
    }
   ],
   "source": [
    "for o in operations:\n",
    "    c,i=o.split()\n",
    "    print(f\"{o}\",end=' ')\n",
    "    if c=='I':\n",
    "        i=int(i)\n",
    "        Q.insert(bisect_left(Q,i),i)\n",
    "    elif c=='D' and len(Q)!=0:\n",
    "        if i==\"1\":\n",
    "            Q.pop()\n",
    "        elif i==\"-1\":\n",
    "            Q.popleft()\n",
    "    print(Q)"
   ]
  },
  {
   "cell_type": "code",
   "execution_count": 21,
   "id": "badf0920",
   "metadata": {
    "ExecuteTime": {
     "end_time": "2022-07-31T05:16:11.512754Z",
     "start_time": "2022-07-31T05:16:11.499654Z"
    }
   },
   "outputs": [
    {
     "data": {
      "text/plain": [
       "deque([])"
      ]
     },
     "execution_count": 21,
     "metadata": {},
     "output_type": "execute_result"
    }
   ],
   "source": [
    "if len(Q):\n",
    "    return [Q[0],Q[-1]]\n",
    "else:\n",
    "    return [0,0]"
   ]
  },
  {
   "cell_type": "code",
   "execution_count": null,
   "id": "e86086ed",
   "metadata": {},
   "outputs": [],
   "source": []
  }
 ],
 "metadata": {
  "kernelspec": {
   "display_name": "Python 3",
   "language": "python",
   "name": "python3"
  },
  "language_info": {
   "codemirror_mode": {
    "name": "ipython",
    "version": 3
   },
   "file_extension": ".py",
   "mimetype": "text/x-python",
   "name": "python",
   "nbconvert_exporter": "python",
   "pygments_lexer": "ipython3",
   "version": "3.8.12"
  },
  "toc": {
   "base_numbering": 1,
   "nav_menu": {},
   "number_sections": true,
   "sideBar": true,
   "skip_h1_title": false,
   "title_cell": "Table of Contents",
   "title_sidebar": "Contents",
   "toc_cell": false,
   "toc_position": {},
   "toc_section_display": true,
   "toc_window_display": false
  }
 },
 "nbformat": 4,
 "nbformat_minor": 5
}
