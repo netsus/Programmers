{
 "cells": [
  {
   "cell_type": "markdown",
   "id": "0e4c9d43",
   "metadata": {},
   "source": [
    "### 문제\n",
    "https://school.programmers.co.kr/learn/courses/30/lessons/43105"
   ]
  },
  {
   "cell_type": "code",
   "execution_count": 1,
   "id": "fc6e3ac9",
   "metadata": {
    "ExecuteTime": {
     "end_time": "2022-08-05T09:46:33.513979Z",
     "start_time": "2022-08-05T09:46:33.380322Z"
    }
   },
   "outputs": [],
   "source": [
    "! # 시작시간 체크"
   ]
  },
  {
   "cell_type": "markdown",
   "id": "9e8d3a4c",
   "metadata": {},
   "source": [
    "    삼각형 꼭대기에서 아래로 가는 경로중 거쳐간 숫자의 합이 가장 큰 경우 출력\n",
    "    조건\n",
    "    1. 아래칸으로 이동할때 대각선 방향(왼쪽, 오른쪽)\n",
    "    삼각혀 높이 1~500\n",
    "    이루는 숫자 0~9999"
   ]
  },
  {
   "cell_type": "code",
   "execution_count": 2,
   "id": "50c1b0eb",
   "metadata": {
    "ExecuteTime": {
     "end_time": "2022-08-05T09:48:02.051473Z",
     "start_time": "2022-08-05T09:48:01.918767Z"
    }
   },
   "outputs": [],
   "source": [
    "! # 끝 시간 체크"
   ]
  },
  {
   "cell_type": "markdown",
   "id": "88b63096",
   "metadata": {},
   "source": [
    "### 내 풀이 막힘 -> 다른 사람 풀이\n",
    "    막힌 부분: dp를 이용해서 삼각형의 층 별로 모든 경우의 수를 저장해야 해야할 것 같다.\n",
    "    하지만, 어떻게 저장해야 연산이 이어질지 모르겠다.\n",
    "    7과 3,8 이 더해져서, 10, 15가 되고 10, 15가 8 1 0과 연산되어 18 11 16 15가 되고,\n",
    "    이게 2 7 4 4와 연산되어 계속 dp에 저장되야할거같은데 방법을 모르겠다. 특히 여기에서, 18과 2, 7이 연산되고, 11, 16이 7, 4랑 연산되어 인덱스를 하나씩 추가하며 연산하는것도 되지 않는다.\n",
    "    \n",
    "    해결 방법: 트리에서 아래층으로 갈때 연산의 패턴을 보고 아이디어를 얻어야 풀 수 있다. 해결 방법은 왼쪽 끝과 오른쪽 끝 그리고 가운데 부분을 패턴으로 나누어, trangle자체를 dp 테이블로 써서 풀 수 있다.\n",
    "    왼쪽 끝과 오른쪽 끝은 일렬 한정적으로 계산되고, 그 외에는 다음층의 1번 인덱스라하면, 전층의 0과 1인덱스중 최대값과 더하면 된다. 2번이라면 전층의 1번, 2번중 최대연산과 더하기. 즉, 처음부터 한 층씩 내려가면서 양끝은 그냥 연산해주고, 그 외에는 최대값과 더해주는 연산.   "
   ]
  },
  {
   "cell_type": "code",
   "execution_count": null,
   "id": "f5396cea",
   "metadata": {},
   "outputs": [],
   "source": [
    "def solution(triangle):\n",
    "    for i in range(1,len(triangle)):\n",
    "        for j in range(i+1):\n",
    "            if j==0: # 왼쪽 끝\n",
    "                triangle[i][j]+=triangle[i-1][0]\n",
    "            elif j==i: # 오른쪽 끝\n",
    "                triangle[i][j]+=triangle[i-1][-1]\n",
    "            else:\n",
    "                triangle[i][j]+=max(triangle[i-1][j-1 : j+1]) # j-1, j\n",
    "    return max(triangle[-1])"
   ]
  },
  {
   "cell_type": "code",
   "execution_count": null,
   "id": "13eef01b",
   "metadata": {},
   "outputs": [],
   "source": [
    "triangle=[[7], [3, 8], [8, 1, 0], [2, 7, 4, 4], [4, 5, 2, 6, 5]]\n",
    "for i in range(1,len(triangle)):\n",
    "    for j in range(i+1):\n",
    "        if j==0: # 왼쪽 끝\n",
    "            triangle[i][j]+=triangle[i-1][0]\n",
    "        elif j==i: # 오른쪽 끝\n",
    "            triangle[i][j]+=triangle[i-1][-1]\n",
    "        else:\n",
    "            triangle[i][j]+=max(triangle[i-1][j-1 : j+1]) # j-1, j\n",
    "max(triangle[-1])"
   ]
  },
  {
   "cell_type": "code",
   "execution_count": 73,
   "id": "7eb2b463",
   "metadata": {
    "ExecuteTime": {
     "end_time": "2022-08-05T10:57:57.617854Z",
     "start_time": "2022-08-05T10:57:57.607698Z"
    }
   },
   "outputs": [
    {
     "data": {
      "text/plain": [
       "[[7], [3, 8], [8, 1, 0], [2, 7, 4, 4], [4, 5, 2, 6, 5]]"
      ]
     },
     "execution_count": 73,
     "metadata": {},
     "output_type": "execute_result"
    }
   ],
   "source": [
    "triangle=[[7], [3, 8], [8, 1, 0], [2, 7, 4, 4], [4, 5, 2, 6, 5]]\n",
    "triangle"
   ]
  },
  {
   "cell_type": "code",
   "execution_count": 74,
   "id": "9d053ed6",
   "metadata": {
    "ExecuteTime": {
     "end_time": "2022-08-05T10:57:57.832177Z",
     "start_time": "2022-08-05T10:57:57.822318Z"
    }
   },
   "outputs": [
    {
     "name": "stdout",
     "output_type": "stream",
     "text": [
      "1 0\n",
      "1 1\n",
      "2 0\n",
      "2 1\n",
      "2 2\n",
      "3 0\n",
      "3 1\n",
      "3 2\n",
      "3 3\n",
      "4 0\n",
      "4 1\n",
      "4 2\n",
      "4 3\n",
      "4 4\n"
     ]
    }
   ],
   "source": [
    "for i in range(1,len(triangle)):\n",
    "    for j in range(i+1):\n",
    "        print(i,j)"
   ]
  },
  {
   "cell_type": "code",
   "execution_count": 75,
   "id": "3720ce38",
   "metadata": {
    "ExecuteTime": {
     "end_time": "2022-08-05T10:57:59.215933Z",
     "start_time": "2022-08-05T10:57:59.198890Z"
    }
   },
   "outputs": [
    {
     "name": "stdout",
     "output_type": "stream",
     "text": [
      "[[7], [10, 15], [8, 1, 0], [2, 7, 4, 4], [4, 5, 2, 6, 5]]\n",
      "[[7], [10, 15], [18, 16, 15], [2, 7, 4, 4], [4, 5, 2, 6, 5]]\n",
      "[[7], [10, 15], [18, 16, 15], [20, 25, 20, 19], [4, 5, 2, 6, 5]]\n",
      "[[7], [10, 15], [18, 16, 15], [20, 25, 20, 19], [24, 30, 27, 26, 24]]\n"
     ]
    }
   ],
   "source": [
    "for i in range(1,len(triangle)):\n",
    "    for j in range(i+1):\n",
    "        if j==0: # 왼쪽 끝\n",
    "            triangle[i][j]+=triangle[i-1][0]\n",
    "        elif j==i: # 오른쪽 끝\n",
    "            triangle[i][j]+=triangle[i-1][-1]\n",
    "        else:\n",
    "            triangle[i][j]+=max(triangle[i-1][j-1 : j+1]) # j-1, j\n",
    "    print(triangle)"
   ]
  },
  {
   "cell_type": "code",
   "execution_count": 77,
   "id": "98d90555",
   "metadata": {
    "ExecuteTime": {
     "end_time": "2022-08-05T10:58:13.189621Z",
     "start_time": "2022-08-05T10:58:13.179990Z"
    }
   },
   "outputs": [
    {
     "data": {
      "text/plain": [
       "30"
      ]
     },
     "execution_count": 77,
     "metadata": {},
     "output_type": "execute_result"
    }
   ],
   "source": [
    "max(triangle[-1])"
   ]
  },
  {
   "cell_type": "code",
   "execution_count": 18,
   "id": "fff9b1af",
   "metadata": {
    "ExecuteTime": {
     "end_time": "2022-08-05T10:00:19.223677Z",
     "start_time": "2022-08-05T10:00:19.214354Z"
    }
   },
   "outputs": [],
   "source": [
    "triangle=[[7], [3, 8], [8, 1, 0], [2, 7, 4, 4], [4, 5, 2, 6, 5]]\t\n",
    "# result=30"
   ]
  },
  {
   "cell_type": "code",
   "execution_count": 58,
   "id": "54c87f71",
   "metadata": {
    "ExecuteTime": {
     "end_time": "2022-08-05T10:41:38.131853Z",
     "start_time": "2022-08-05T10:41:38.120173Z"
    }
   },
   "outputs": [],
   "source": [
    "dp=triangle[0]"
   ]
  },
  {
   "cell_type": "code",
   "execution_count": 59,
   "id": "ef8b2f0a",
   "metadata": {
    "ExecuteTime": {
     "end_time": "2022-08-05T10:41:54.607988Z",
     "start_time": "2022-08-05T10:41:54.600766Z"
    }
   },
   "outputs": [
    {
     "name": "stdout",
     "output_type": "stream",
     "text": [
      "[3, 8]\n",
      "[8, 1, 0]\n",
      "[2, 7, 4, 4]\n",
      "[4, 5, 2, 6, 5]\n"
     ]
    }
   ],
   "source": [
    "for r in triangle[1:]:\n",
    "    for i in range(len(r)):\n",
    "    print(r)"
   ]
  },
  {
   "cell_type": "code",
   "execution_count": null,
   "id": "3e0ce1a0",
   "metadata": {},
   "outputs": [],
   "source": []
  },
  {
   "cell_type": "code",
   "execution_count": null,
   "id": "9dbb548d",
   "metadata": {},
   "outputs": [],
   "source": []
  },
  {
   "cell_type": "code",
   "execution_count": 40,
   "id": "77ded1f0",
   "metadata": {
    "ExecuteTime": {
     "end_time": "2022-08-05T10:09:26.147404Z",
     "start_time": "2022-08-05T10:09:26.140276Z"
    }
   },
   "outputs": [],
   "source": [
    "a=[[10], [15]]\n",
    "b=[8,1,0]"
   ]
  },
  {
   "cell_type": "code",
   "execution_count": 42,
   "id": "24f359d8",
   "metadata": {
    "ExecuteTime": {
     "end_time": "2022-08-05T10:09:46.094210Z",
     "start_time": "2022-08-05T10:09:46.084351Z"
    }
   },
   "outputs": [
    {
     "data": {
      "text/plain": [
       "[[10], [15]]"
      ]
     },
     "execution_count": 42,
     "metadata": {},
     "output_type": "execute_result"
    }
   ],
   "source": [
    "for i in [k for k in a]"
   ]
  },
  {
   "cell_type": "code",
   "execution_count": 41,
   "id": "6c1e8455",
   "metadata": {
    "ExecuteTime": {
     "end_time": "2022-08-05T10:09:34.676376Z",
     "start_time": "2022-08-05T10:09:34.660834Z"
    }
   },
   "outputs": [
    {
     "ename": "NameError",
     "evalue": "name 'k' is not defined",
     "output_type": "error",
     "traceback": [
      "\u001b[0;31m---------------------------------------------------------------------------\u001b[0m",
      "\u001b[0;31mNameError\u001b[0m                                 Traceback (most recent call last)",
      "\u001b[0;32m<ipython-input-41-aa54c49c736b>\u001b[0m in \u001b[0;36m<module>\u001b[0;34m\u001b[0m\n\u001b[0;32m----> 1\u001b[0;31m \u001b[0;34m[\u001b[0m\u001b[0mi\u001b[0m \u001b[0;32mfor\u001b[0m \u001b[0mi\u001b[0m \u001b[0;32min\u001b[0m \u001b[0mk\u001b[0m \u001b[0;32mfor\u001b[0m \u001b[0mk\u001b[0m \u001b[0;32min\u001b[0m \u001b[0ma\u001b[0m\u001b[0;34m]\u001b[0m\u001b[0;34m\u001b[0m\u001b[0;34m\u001b[0m\u001b[0m\n\u001b[0m",
      "\u001b[0;31mNameError\u001b[0m: name 'k' is not defined"
     ]
    }
   ],
   "source": [
    "[i for i in k for k in a]"
   ]
  },
  {
   "cell_type": "code",
   "execution_count": 36,
   "id": "f6301f9b",
   "metadata": {
    "ExecuteTime": {
     "end_time": "2022-08-05T10:08:20.606822Z",
     "start_time": "2022-08-05T10:08:20.591068Z"
    }
   },
   "outputs": [
    {
     "ename": "IndexError",
     "evalue": "list index out of range",
     "output_type": "error",
     "traceback": [
      "\u001b[0;31m---------------------------------------------------------------------------\u001b[0m",
      "\u001b[0;31mIndexError\u001b[0m                                Traceback (most recent call last)",
      "\u001b[0;32m<ipython-input-36-f5e500c1162f>\u001b[0m in \u001b[0;36m<module>\u001b[0;34m\u001b[0m\n\u001b[0;32m----> 1\u001b[0;31m \u001b[0;34m[\u001b[0m\u001b[0;34m(\u001b[0m\u001b[0ma\u001b[0m\u001b[0;34m[\u001b[0m\u001b[0mi\u001b[0m\u001b[0;34m]\u001b[0m\u001b[0;34m+\u001b[0m\u001b[0mb\u001b[0m\u001b[0;34m[\u001b[0m\u001b[0mi\u001b[0m\u001b[0;34m]\u001b[0m\u001b[0;34m,\u001b[0m \u001b[0ma\u001b[0m\u001b[0;34m[\u001b[0m\u001b[0mi\u001b[0m\u001b[0;34m]\u001b[0m\u001b[0;34m+\u001b[0m\u001b[0mb\u001b[0m\u001b[0;34m[\u001b[0m\u001b[0mi\u001b[0m\u001b[0;34m+\u001b[0m\u001b[0;36m1\u001b[0m\u001b[0;34m]\u001b[0m\u001b[0;34m)\u001b[0m \u001b[0;32mfor\u001b[0m \u001b[0ma\u001b[0m \u001b[0;32min\u001b[0m \u001b[0;34m[\u001b[0m\u001b[0ma\u001b[0m\u001b[0;34m[\u001b[0m\u001b[0mk\u001b[0m\u001b[0;34m]\u001b[0m \u001b[0;32mfor\u001b[0m \u001b[0mk\u001b[0m \u001b[0;32min\u001b[0m \u001b[0mrange\u001b[0m\u001b[0;34m(\u001b[0m\u001b[0mlen\u001b[0m\u001b[0;34m(\u001b[0m\u001b[0ma\u001b[0m\u001b[0;34m)\u001b[0m\u001b[0;34m)\u001b[0m\u001b[0;34m]\u001b[0m\u001b[0;34m]\u001b[0m\u001b[0;34m\u001b[0m\u001b[0;34m\u001b[0m\u001b[0m\n\u001b[0m",
      "\u001b[0;32m<ipython-input-36-f5e500c1162f>\u001b[0m in \u001b[0;36m<listcomp>\u001b[0;34m(.0)\u001b[0m\n\u001b[0;32m----> 1\u001b[0;31m \u001b[0;34m[\u001b[0m\u001b[0;34m(\u001b[0m\u001b[0ma\u001b[0m\u001b[0;34m[\u001b[0m\u001b[0mi\u001b[0m\u001b[0;34m]\u001b[0m\u001b[0;34m+\u001b[0m\u001b[0mb\u001b[0m\u001b[0;34m[\u001b[0m\u001b[0mi\u001b[0m\u001b[0;34m]\u001b[0m\u001b[0;34m,\u001b[0m \u001b[0ma\u001b[0m\u001b[0;34m[\u001b[0m\u001b[0mi\u001b[0m\u001b[0;34m]\u001b[0m\u001b[0;34m+\u001b[0m\u001b[0mb\u001b[0m\u001b[0;34m[\u001b[0m\u001b[0mi\u001b[0m\u001b[0;34m+\u001b[0m\u001b[0;36m1\u001b[0m\u001b[0;34m]\u001b[0m\u001b[0;34m)\u001b[0m \u001b[0;32mfor\u001b[0m \u001b[0ma\u001b[0m \u001b[0;32min\u001b[0m \u001b[0;34m[\u001b[0m\u001b[0ma\u001b[0m\u001b[0;34m[\u001b[0m\u001b[0mk\u001b[0m\u001b[0;34m]\u001b[0m \u001b[0;32mfor\u001b[0m \u001b[0mk\u001b[0m \u001b[0;32min\u001b[0m \u001b[0mrange\u001b[0m\u001b[0;34m(\u001b[0m\u001b[0mlen\u001b[0m\u001b[0;34m(\u001b[0m\u001b[0ma\u001b[0m\u001b[0;34m)\u001b[0m\u001b[0;34m)\u001b[0m\u001b[0;34m]\u001b[0m\u001b[0;34m]\u001b[0m\u001b[0;34m\u001b[0m\u001b[0;34m\u001b[0m\u001b[0m\n\u001b[0m",
      "\u001b[0;31mIndexError\u001b[0m: list index out of range"
     ]
    }
   ],
   "source": [
    "[(a[i]+b[i], a[i]+b[i+1]) for a in [a[k] for k in range(len(a))]]"
   ]
  },
  {
   "cell_type": "code",
   "execution_count": 5,
   "id": "afaa3a49",
   "metadata": {
    "ExecuteTime": {
     "end_time": "2022-08-05T09:56:03.606161Z",
     "start_time": "2022-08-05T09:56:03.596321Z"
    }
   },
   "outputs": [
    {
     "name": "stdout",
     "output_type": "stream",
     "text": [
      "80\n",
      "10\n",
      "15\n",
      "0\n"
     ]
    }
   ],
   "source": [
    "for i in range(len(a)):\n",
    "    for j in range(2):\n",
    "        print(a[i]*b[i+j])"
   ]
  },
  {
   "cell_type": "markdown",
   "id": "8ed2b958",
   "metadata": {},
   "source": [
    "### 연습"
   ]
  },
  {
   "cell_type": "code",
   "execution_count": null,
   "id": "ec705ae9",
   "metadata": {},
   "outputs": [],
   "source": []
  }
 ],
 "metadata": {
  "kernelspec": {
   "display_name": "Python 3",
   "language": "python",
   "name": "python3"
  },
  "language_info": {
   "codemirror_mode": {
    "name": "ipython",
    "version": 3
   },
   "file_extension": ".py",
   "mimetype": "text/x-python",
   "name": "python",
   "nbconvert_exporter": "python",
   "pygments_lexer": "ipython3",
   "version": "3.8.12"
  },
  "toc": {
   "base_numbering": 1,
   "nav_menu": {},
   "number_sections": true,
   "sideBar": true,
   "skip_h1_title": false,
   "title_cell": "Table of Contents",
   "title_sidebar": "Contents",
   "toc_cell": false,
   "toc_position": {},
   "toc_section_display": true,
   "toc_window_display": false
  }
 },
 "nbformat": 4,
 "nbformat_minor": 5
}
